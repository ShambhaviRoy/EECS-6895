{
 "cells": [
  {
   "cell_type": "code",
   "execution_count": 1,
   "metadata": {},
   "outputs": [],
   "source": [
    "import pandas as pd\n",
    "import numpy as np\n",
    "import tensorflow as tf\n",
    "import matplotlib.pyplot as plt\n",
    "\n",
    "from tensorflow.keras import *\n",
    "from sklearn.preprocessing import StandardScaler"
   ]
  },
  {
   "cell_type": "markdown",
   "metadata": {},
   "source": [
    "# Single Window Size 60 Minutes"
   ]
  },
  {
   "cell_type": "code",
   "execution_count": 12,
   "metadata": {},
   "outputs": [
    {
     "ename": "FileNotFoundError",
     "evalue": "[Errno 2] No such file or directory: './data_generation/AAPL_min_train.csv'",
     "output_type": "error",
     "traceback": [
      "\u001b[1;31m---------------------------------------------------------------------------\u001b[0m",
      "\u001b[1;31mFileNotFoundError\u001b[0m                         Traceback (most recent call last)",
      "\u001b[1;32m<ipython-input-12-0d906c8373d1>\u001b[0m in \u001b[0;36m<module>\u001b[1;34m\u001b[0m\n\u001b[0;32m      2\u001b[0m \u001b[0mticker\u001b[0m \u001b[1;33m=\u001b[0m \u001b[1;34m\"AAPL\"\u001b[0m\u001b[1;33m\u001b[0m\u001b[1;33m\u001b[0m\u001b[0m\n\u001b[0;32m      3\u001b[0m \u001b[1;33m\u001b[0m\u001b[0m\n\u001b[1;32m----> 4\u001b[1;33m \u001b[0mtrain_import\u001b[0m \u001b[1;33m=\u001b[0m \u001b[0mpd\u001b[0m\u001b[1;33m.\u001b[0m\u001b[0mread_csv\u001b[0m\u001b[1;33m(\u001b[0m\u001b[1;34m\"./data_generation/\"\u001b[0m \u001b[1;33m+\u001b[0m \u001b[0mticker\u001b[0m \u001b[1;33m+\u001b[0m \u001b[1;34m\"_min_train.csv\"\u001b[0m\u001b[1;33m)\u001b[0m\u001b[1;33m\u001b[0m\u001b[1;33m\u001b[0m\u001b[0m\n\u001b[0m\u001b[0;32m      5\u001b[0m \u001b[0mtest_import\u001b[0m \u001b[1;33m=\u001b[0m \u001b[0mpd\u001b[0m\u001b[1;33m.\u001b[0m\u001b[0mread_csv\u001b[0m\u001b[1;33m(\u001b[0m\u001b[1;34m\"./data_generation/\"\u001b[0m \u001b[1;33m+\u001b[0m \u001b[0mticker\u001b[0m\u001b[1;33m+\u001b[0m \u001b[1;34m\"_min_test.csv\"\u001b[0m\u001b[1;33m)\u001b[0m\u001b[1;33m\u001b[0m\u001b[1;33m\u001b[0m\u001b[0m\n\u001b[0;32m      6\u001b[0m \u001b[1;33m\u001b[0m\u001b[0m\n",
      "\u001b[1;32m~\\Anaconda3\\envs\\envTF22\\lib\\site-packages\\pandas\\io\\parsers.py\u001b[0m in \u001b[0;36mread_csv\u001b[1;34m(filepath_or_buffer, sep, delimiter, header, names, index_col, usecols, squeeze, prefix, mangle_dupe_cols, dtype, engine, converters, true_values, false_values, skipinitialspace, skiprows, skipfooter, nrows, na_values, keep_default_na, na_filter, verbose, skip_blank_lines, parse_dates, infer_datetime_format, keep_date_col, date_parser, dayfirst, cache_dates, iterator, chunksize, compression, thousands, decimal, lineterminator, quotechar, quoting, doublequote, escapechar, comment, encoding, dialect, error_bad_lines, warn_bad_lines, delim_whitespace, low_memory, memory_map, float_precision)\u001b[0m\n\u001b[0;32m    684\u001b[0m     )\n\u001b[0;32m    685\u001b[0m \u001b[1;33m\u001b[0m\u001b[0m\n\u001b[1;32m--> 686\u001b[1;33m     \u001b[1;32mreturn\u001b[0m \u001b[0m_read\u001b[0m\u001b[1;33m(\u001b[0m\u001b[0mfilepath_or_buffer\u001b[0m\u001b[1;33m,\u001b[0m \u001b[0mkwds\u001b[0m\u001b[1;33m)\u001b[0m\u001b[1;33m\u001b[0m\u001b[1;33m\u001b[0m\u001b[0m\n\u001b[0m\u001b[0;32m    687\u001b[0m \u001b[1;33m\u001b[0m\u001b[0m\n\u001b[0;32m    688\u001b[0m \u001b[1;33m\u001b[0m\u001b[0m\n",
      "\u001b[1;32m~\\Anaconda3\\envs\\envTF22\\lib\\site-packages\\pandas\\io\\parsers.py\u001b[0m in \u001b[0;36m_read\u001b[1;34m(filepath_or_buffer, kwds)\u001b[0m\n\u001b[0;32m    450\u001b[0m \u001b[1;33m\u001b[0m\u001b[0m\n\u001b[0;32m    451\u001b[0m     \u001b[1;31m# Create the parser.\u001b[0m\u001b[1;33m\u001b[0m\u001b[1;33m\u001b[0m\u001b[1;33m\u001b[0m\u001b[0m\n\u001b[1;32m--> 452\u001b[1;33m     \u001b[0mparser\u001b[0m \u001b[1;33m=\u001b[0m \u001b[0mTextFileReader\u001b[0m\u001b[1;33m(\u001b[0m\u001b[0mfp_or_buf\u001b[0m\u001b[1;33m,\u001b[0m \u001b[1;33m**\u001b[0m\u001b[0mkwds\u001b[0m\u001b[1;33m)\u001b[0m\u001b[1;33m\u001b[0m\u001b[1;33m\u001b[0m\u001b[0m\n\u001b[0m\u001b[0;32m    453\u001b[0m \u001b[1;33m\u001b[0m\u001b[0m\n\u001b[0;32m    454\u001b[0m     \u001b[1;32mif\u001b[0m \u001b[0mchunksize\u001b[0m \u001b[1;32mor\u001b[0m \u001b[0miterator\u001b[0m\u001b[1;33m:\u001b[0m\u001b[1;33m\u001b[0m\u001b[1;33m\u001b[0m\u001b[0m\n",
      "\u001b[1;32m~\\Anaconda3\\envs\\envTF22\\lib\\site-packages\\pandas\\io\\parsers.py\u001b[0m in \u001b[0;36m__init__\u001b[1;34m(self, f, engine, **kwds)\u001b[0m\n\u001b[0;32m    934\u001b[0m             \u001b[0mself\u001b[0m\u001b[1;33m.\u001b[0m\u001b[0moptions\u001b[0m\u001b[1;33m[\u001b[0m\u001b[1;34m\"has_index_names\"\u001b[0m\u001b[1;33m]\u001b[0m \u001b[1;33m=\u001b[0m \u001b[0mkwds\u001b[0m\u001b[1;33m[\u001b[0m\u001b[1;34m\"has_index_names\"\u001b[0m\u001b[1;33m]\u001b[0m\u001b[1;33m\u001b[0m\u001b[1;33m\u001b[0m\u001b[0m\n\u001b[0;32m    935\u001b[0m \u001b[1;33m\u001b[0m\u001b[0m\n\u001b[1;32m--> 936\u001b[1;33m         \u001b[0mself\u001b[0m\u001b[1;33m.\u001b[0m\u001b[0m_make_engine\u001b[0m\u001b[1;33m(\u001b[0m\u001b[0mself\u001b[0m\u001b[1;33m.\u001b[0m\u001b[0mengine\u001b[0m\u001b[1;33m)\u001b[0m\u001b[1;33m\u001b[0m\u001b[1;33m\u001b[0m\u001b[0m\n\u001b[0m\u001b[0;32m    937\u001b[0m \u001b[1;33m\u001b[0m\u001b[0m\n\u001b[0;32m    938\u001b[0m     \u001b[1;32mdef\u001b[0m \u001b[0mclose\u001b[0m\u001b[1;33m(\u001b[0m\u001b[0mself\u001b[0m\u001b[1;33m)\u001b[0m\u001b[1;33m:\u001b[0m\u001b[1;33m\u001b[0m\u001b[1;33m\u001b[0m\u001b[0m\n",
      "\u001b[1;32m~\\Anaconda3\\envs\\envTF22\\lib\\site-packages\\pandas\\io\\parsers.py\u001b[0m in \u001b[0;36m_make_engine\u001b[1;34m(self, engine)\u001b[0m\n\u001b[0;32m   1166\u001b[0m     \u001b[1;32mdef\u001b[0m \u001b[0m_make_engine\u001b[0m\u001b[1;33m(\u001b[0m\u001b[0mself\u001b[0m\u001b[1;33m,\u001b[0m \u001b[0mengine\u001b[0m\u001b[1;33m=\u001b[0m\u001b[1;34m\"c\"\u001b[0m\u001b[1;33m)\u001b[0m\u001b[1;33m:\u001b[0m\u001b[1;33m\u001b[0m\u001b[1;33m\u001b[0m\u001b[0m\n\u001b[0;32m   1167\u001b[0m         \u001b[1;32mif\u001b[0m \u001b[0mengine\u001b[0m \u001b[1;33m==\u001b[0m \u001b[1;34m\"c\"\u001b[0m\u001b[1;33m:\u001b[0m\u001b[1;33m\u001b[0m\u001b[1;33m\u001b[0m\u001b[0m\n\u001b[1;32m-> 1168\u001b[1;33m             \u001b[0mself\u001b[0m\u001b[1;33m.\u001b[0m\u001b[0m_engine\u001b[0m \u001b[1;33m=\u001b[0m \u001b[0mCParserWrapper\u001b[0m\u001b[1;33m(\u001b[0m\u001b[0mself\u001b[0m\u001b[1;33m.\u001b[0m\u001b[0mf\u001b[0m\u001b[1;33m,\u001b[0m \u001b[1;33m**\u001b[0m\u001b[0mself\u001b[0m\u001b[1;33m.\u001b[0m\u001b[0moptions\u001b[0m\u001b[1;33m)\u001b[0m\u001b[1;33m\u001b[0m\u001b[1;33m\u001b[0m\u001b[0m\n\u001b[0m\u001b[0;32m   1169\u001b[0m         \u001b[1;32melse\u001b[0m\u001b[1;33m:\u001b[0m\u001b[1;33m\u001b[0m\u001b[1;33m\u001b[0m\u001b[0m\n\u001b[0;32m   1170\u001b[0m             \u001b[1;32mif\u001b[0m \u001b[0mengine\u001b[0m \u001b[1;33m==\u001b[0m \u001b[1;34m\"python\"\u001b[0m\u001b[1;33m:\u001b[0m\u001b[1;33m\u001b[0m\u001b[1;33m\u001b[0m\u001b[0m\n",
      "\u001b[1;32m~\\Anaconda3\\envs\\envTF22\\lib\\site-packages\\pandas\\io\\parsers.py\u001b[0m in \u001b[0;36m__init__\u001b[1;34m(self, src, **kwds)\u001b[0m\n\u001b[0;32m   1996\u001b[0m         \u001b[0mkwds\u001b[0m\u001b[1;33m[\u001b[0m\u001b[1;34m\"usecols\"\u001b[0m\u001b[1;33m]\u001b[0m \u001b[1;33m=\u001b[0m \u001b[0mself\u001b[0m\u001b[1;33m.\u001b[0m\u001b[0musecols\u001b[0m\u001b[1;33m\u001b[0m\u001b[1;33m\u001b[0m\u001b[0m\n\u001b[0;32m   1997\u001b[0m \u001b[1;33m\u001b[0m\u001b[0m\n\u001b[1;32m-> 1998\u001b[1;33m         \u001b[0mself\u001b[0m\u001b[1;33m.\u001b[0m\u001b[0m_reader\u001b[0m \u001b[1;33m=\u001b[0m \u001b[0mparsers\u001b[0m\u001b[1;33m.\u001b[0m\u001b[0mTextReader\u001b[0m\u001b[1;33m(\u001b[0m\u001b[0msrc\u001b[0m\u001b[1;33m,\u001b[0m \u001b[1;33m**\u001b[0m\u001b[0mkwds\u001b[0m\u001b[1;33m)\u001b[0m\u001b[1;33m\u001b[0m\u001b[1;33m\u001b[0m\u001b[0m\n\u001b[0m\u001b[0;32m   1999\u001b[0m         \u001b[0mself\u001b[0m\u001b[1;33m.\u001b[0m\u001b[0munnamed_cols\u001b[0m \u001b[1;33m=\u001b[0m \u001b[0mself\u001b[0m\u001b[1;33m.\u001b[0m\u001b[0m_reader\u001b[0m\u001b[1;33m.\u001b[0m\u001b[0munnamed_cols\u001b[0m\u001b[1;33m\u001b[0m\u001b[1;33m\u001b[0m\u001b[0m\n\u001b[0;32m   2000\u001b[0m \u001b[1;33m\u001b[0m\u001b[0m\n",
      "\u001b[1;32mpandas\\_libs\\parsers.pyx\u001b[0m in \u001b[0;36mpandas._libs.parsers.TextReader.__cinit__\u001b[1;34m()\u001b[0m\n",
      "\u001b[1;32mpandas\\_libs\\parsers.pyx\u001b[0m in \u001b[0;36mpandas._libs.parsers.TextReader._setup_parser_source\u001b[1;34m()\u001b[0m\n",
      "\u001b[1;31mFileNotFoundError\u001b[0m: [Errno 2] No such file or directory: './data_generation/AAPL_min_train.csv'"
     ]
    }
   ],
   "source": [
    "#ticker = \"GME\"\n",
    "ticker = \"AAPL\"\n",
    "\n",
    "train_import = pd.read_csv(\"./data_generation/\" + ticker + \"_min_train.csv\")\n",
    "test_import = pd.read_csv(\"./data_generation/\" + ticker+ \"_min_test.csv\")\n",
    "\n",
    "train_dates = pd.to_datetime(train_import['Datetime'])\n",
    "test_dates = pd.to_datetime(test_import['Datetime'])\n",
    "\n",
    "train = train_import[[\"Open\", \"High\", \"Low\", \"Volume\", \"Close\"]]\n",
    "test = test_import[[\"Open\", \"High\", \"Low\", \"Volume\", \"Close\"]]\n",
    "\n",
    "train = train[[\"Open\", \"High\", \"Low\", \"Volume\", \"Close\"]].astype(float)\n",
    "test = test[[\"Open\", \"High\", \"Low\", \"Volume\", \"Close\"]].astype(float)\n",
    "\n",
    "training_days = train.shape[0]\n",
    "testing_day = test.shape[0]"
   ]
  },
  {
   "cell_type": "code",
   "execution_count": 3,
   "metadata": {},
   "outputs": [],
   "source": [
    "#Preprocessing using StandardScaler\n",
    "scaler1 = StandardScaler().fit(train)\n",
    "scaler2 = StandardScaler().fit(test)\n",
    "\n",
    "\n",
    "train_transformed = scaler1.transform(train)\n",
    "test_transformed = scaler2.transform(test)\n",
    "\n",
    "#test_transformed = np.array(test)"
   ]
  },
  {
   "cell_type": "code",
   "execution_count": 4,
   "metadata": {},
   "outputs": [],
   "source": [
    "#Consider past hour of performance to predict the next minute\n",
    "X_train = []; X_test = []\n",
    "Y_train = []; Y_test = []\n",
    "\n",
    "previous_periods = 60; future_periods = 1;\n",
    "for index in range(previous_periods, len(train) - future_periods + 1):\n",
    "    if index >= len(train) - previous_periods:\n",
    "        X_test.append(train_transformed[index - previous_periods : index, 0 : test.shape[1]-1])\n",
    "        Y_test.append(train_transformed[index + future_periods - 1 : index + future_periods, 4])\n",
    "    X_train.append(train_transformed[index - previous_periods : index, 0 : train.shape[1]-1])\n",
    "    Y_train.append(train_transformed[index + future_periods - 1 : index + future_periods, 4]) #3 for index of Close\n",
    "    \n",
    "X_train = np.array(X_train)\n",
    "Y_train = np.array(Y_train)\n",
    "\n",
    "for index in range(previous_periods, len(test) - future_periods + 1):\n",
    "    X_test.append(test_transformed[index - previous_periods : index, 0 : test.shape[1]-1])\n",
    "    Y_test.append(test_transformed[index + future_periods - 1 : index + future_periods, 4]) #3 for index of Close\n",
    "    \n",
    "X_test = np.array(X_test)\n",
    "Y_test = np.array(Y_test)"
   ]
  },
  {
   "cell_type": "code",
   "execution_count": 5,
   "metadata": {},
   "outputs": [
    {
     "name": "stdout",
     "output_type": "stream",
     "text": [
      "(524, 60, 4)\n"
     ]
    }
   ],
   "source": [
    "#X_test = np.array(X_test)\n",
    "#Y_test = np.array(Y_test)\n",
    "\n",
    "print(X_test.shape)"
   ]
  },
  {
   "cell_type": "code",
   "execution_count": 6,
   "metadata": {},
   "outputs": [
    {
     "name": "stdout",
     "output_type": "stream",
     "text": [
      "Model: \"sequential\"\n",
      "_________________________________________________________________\n",
      "Layer (type)                 Output Shape              Param #   \n",
      "=================================================================\n",
      "lstm (LSTM)                  (None, 60, 64)            17664     \n",
      "_________________________________________________________________\n",
      "lstm_1 (LSTM)                (None, 32)                12416     \n",
      "_________________________________________________________________\n",
      "dense (Dense)                (None, 1)                 33        \n",
      "=================================================================\n",
      "Total params: 30,113\n",
      "Trainable params: 30,113\n",
      "Non-trainable params: 0\n",
      "_________________________________________________________________\n"
     ]
    }
   ],
   "source": [
    "#LSTM model for time series forecasting\n",
    "model = Sequential()\n",
    "model.add(tf.keras.layers.LSTM(64, input_shape = (X_train.shape[1], X_train.shape[2]), return_sequences = True, activation = 'relu'))\n",
    "model.add(tf.keras.layers.LSTM(32, return_sequences = False))\n",
    "model.add(tf.keras.layers.Dense(Y_train.shape[1]))\n",
    "\n",
    "early_stopping = tf.keras.callbacks.EarlyStopping(monitor = \"val_loss\", patience = 5)\n",
    "\n",
    "model.compile(optimizer=\"adam\", loss=\"mse\")\n",
    "model.summary()"
   ]
  },
  {
   "cell_type": "code",
   "execution_count": 7,
   "metadata": {},
   "outputs": [
    {
     "name": "stdout",
     "output_type": "stream",
     "text": [
      "Epoch 1/20\n",
      "54/54 [==============================] - 1s 27ms/step - loss: 0.0373 - val_loss: 0.1032\n",
      "Epoch 2/20\n",
      "54/54 [==============================] - 1s 21ms/step - loss: 0.0047 - val_loss: 0.0748\n",
      "Epoch 3/20\n",
      "54/54 [==============================] - 1s 21ms/step - loss: 0.0042 - val_loss: 0.1412\n",
      "Epoch 4/20\n",
      "54/54 [==============================] - 1s 21ms/step - loss: 0.0039 - val_loss: 0.3022\n",
      "Epoch 5/20\n",
      "54/54 [==============================] - 1s 21ms/step - loss: 0.0037 - val_loss: 0.3574\n",
      "Epoch 6/20\n",
      "54/54 [==============================] - 1s 21ms/step - loss: 0.0036 - val_loss: 0.6913\n",
      "Epoch 7/20\n",
      "54/54 [==============================] - 1s 21ms/step - loss: 0.0032 - val_loss: 1.2564\n"
     ]
    }
   ],
   "source": [
    "#Train model\n",
    "history = model.fit(X_train, Y_train, epochs = 20, batch_size = 32, validation_split = 0.2, verbose = 1, callbacks = [early_stopping])"
   ]
  },
  {
   "cell_type": "code",
   "execution_count": 8,
   "metadata": {},
   "outputs": [
    {
     "name": "stdout",
     "output_type": "stream",
     "text": [
      "[124.55225  124.57054  124.58677  124.60031  124.6161   124.63649\n",
      " 124.64681  124.65364  124.66062  124.67272  124.67505  124.67823\n",
      " 124.67844  124.68239  124.68024  124.67222  124.66628  124.65415\n",
      " 124.63115  124.620544 124.60303  124.59234  124.584366 124.58614\n",
      " 124.58978  124.5872   124.58719  124.58292  124.57937  124.591156\n",
      " 124.587944 124.58256  124.58188  124.5851   124.58341  124.58246\n",
      " 124.58286  124.584045 124.5805   124.58129  124.5813   124.57922\n",
      " 124.57718  124.57609  124.576836 124.5708   124.56781  124.56493\n",
      " 124.57035  124.587944 124.60643  124.61913  124.60539  124.55363\n",
      " 124.50532  124.45821  124.385895 124.29147  124.21478  124.1669\n",
      " 124.64973  124.68016  124.719604 124.75976  124.795425 124.83253\n",
      " 124.8723   124.917114 124.960304 124.99855  125.035515 125.07053\n",
      " 125.11108  125.148964 125.18861  125.23426  125.28375  125.32667\n",
      " 125.36832  125.40822  125.44284  125.47097  125.496506 125.519966\n",
      " 125.55152  125.61182  125.6728   125.73009  125.790726 125.85075\n",
      " 125.91583  125.97369  126.03371  126.08469  126.11721  126.148796\n",
      " 126.16967  126.191696 126.2064   126.217125 126.17701  126.20185\n",
      " 126.19976  126.21542  126.24263  126.268486 126.284386 126.31049\n",
      " 126.302734 126.313835 126.31049  126.30639  126.305275 126.303116\n",
      " 126.29152  126.2852   126.27767  126.26973  126.25113  126.22093\n",
      " 126.1989   126.180145 126.178444 126.17518  126.18092  126.18917\n",
      " 126.179985 126.16525  126.16042  126.14287  126.11411  126.07323\n",
      " 126.0486   126.0109   125.98865  125.924416 125.48323  125.487175\n",
      " 125.358    125.169044 124.97872  124.80604  124.64547  124.492905\n",
      " 124.38893  124.32743  124.26842  124.208565 124.190094 124.1808\n",
      " 124.1565   124.12972  124.12636  124.15063  124.192116 124.21808\n",
      " 124.21502  124.18042  124.12559  124.07989  124.02555  123.97283\n",
      " 123.9599   123.92687  123.872284 123.80869  123.73758  123.69887\n",
      " 123.579056 123.51474  123.46376  123.468254 123.5162   123.57746\n",
      " 123.627205 123.67389  123.74003  123.78014  123.805046 123.81167\n",
      " 123.829    123.831184 123.8789   123.90845  123.93768  123.972664\n",
      " 124.02526  124.0525   124.08875  124.13742  124.175896 124.236015\n",
      " 124.26657  124.30489  124.34943  124.36709  124.36464  124.374535\n",
      " 124.40582  124.4238   124.429214 124.42267  124.39891  124.34647\n",
      " 124.289894 124.24735  124.19537  124.154396 124.11683  124.093185\n",
      " 124.08216  124.068886 124.06965  124.07616  124.073784 124.07791\n",
      " 124.06004  124.04014  124.02466  124.027084 124.05762  124.109505\n",
      " 124.18289  124.25884  124.31754  124.354164 124.38167  124.39216\n",
      " 124.389885 124.36986  124.33989  124.30368  124.281265 124.237274\n",
      " 124.19661  124.16711  124.16046  124.18294  124.22542  124.267815\n",
      " 124.30709  124.36442  124.42222  124.471504 124.51237  124.551155\n",
      " 124.587105 124.61828  124.6375   124.64842  124.6677   124.69809\n",
      " 124.72216  124.735054 124.7306   124.7192   124.71044  124.70974\n",
      " 124.7169   124.72864  124.7424   124.75143  124.762344 124.77242\n",
      " 124.77722  124.76785  124.74291  124.70461  124.65696  124.598076\n",
      " 124.53799  124.488594 124.46115  124.46027  124.486015 124.52364\n",
      " 124.57134  124.62248  124.661644 124.70001  124.70774  124.7021\n",
      " 124.68586  124.67678  124.67098  124.663315 124.666046 124.68032\n",
      " 124.7115   124.749954 124.78744  124.81056  124.82772  124.83795\n",
      " 124.84227  124.84493  124.84184  124.83251  124.8246   124.82256\n",
      " 124.82089  124.817    124.82094  124.82784  124.838356 124.849815\n",
      " 124.86812  124.884705 124.89749  124.90382  124.91007  124.91522\n",
      " 124.92242  124.9295   124.93857  124.95505  124.96851  124.97849\n",
      " 124.9873   124.99505  124.99829  125.00009  125.005615 125.01339\n",
      " 125.0206   125.01871  125.0032   124.980125 124.95906  124.93076\n",
      " 124.90197  124.87987  124.859406 124.83649  124.814255 124.79449\n",
      " 124.78645  124.791756 124.794    124.78007  124.75127  124.72052\n",
      " 124.68582  124.6536   124.623146 124.58674  124.54102  124.48802\n",
      " 124.43253  124.36785  124.303246 124.24209  124.198814 124.16923\n",
      " 124.15844  124.166664 124.18831  124.2157   124.2361   124.262535\n",
      " 124.29501  124.3189   124.34276  124.35929  124.36192  124.34781\n",
      " 124.33494  124.327774 124.33428  124.35423  124.379486 124.4119\n",
      " 124.44075  124.46569  124.486015 124.502396 124.52708  124.56941\n",
      " 124.619225 124.6744   124.73783  124.798515 124.84975  124.8922\n",
      " 124.92135  124.93212  124.927155 124.91649  124.906075 124.89105\n",
      " 124.8809   124.863914 124.84389  124.81811  124.793    124.779625\n",
      " 124.781204 124.79736  124.81532  124.82739  124.83838  124.84751\n",
      " 124.8542   124.854805 124.850044 124.84971  124.84917  124.84595\n",
      " 124.83954  124.828606 124.808525 124.77418  124.73228  124.69136\n",
      " 124.66045  124.641914 124.62887  124.61667  124.60488  124.58328\n",
      " 124.56043  124.54493  124.53146  124.51655  124.50961  124.51705\n",
      " 124.52846  124.539696 124.535576 124.53156  124.52366  124.520546\n",
      " 124.52747  124.536354 124.54024  124.543015 124.55053  124.55032\n",
      " 124.53702  124.51929  124.50994  124.50395  124.50251  124.50398\n",
      " 124.51104  124.52649  124.55052  124.57787  124.60667  124.63001\n",
      " 124.64202  124.637085 124.62632  124.614334 124.59602  124.5793\n",
      " 124.56429  124.55893  124.55877  124.55784  124.55406  124.55644\n",
      " 124.561966 124.56542  124.5651   124.56357  124.56603  124.56275\n",
      " 124.5433   124.5257   124.511856 124.49917  124.485085 124.47734\n",
      " 124.46825  124.44742  124.423454 124.4064   124.39753  124.398445\n",
      " 124.40893  124.42906  124.4482   124.46073  124.464096 124.45846\n",
      " 124.44831  124.44316  124.45319  124.47245  124.49144  124.52057\n",
      " 124.56044  124.60731  124.658775 124.70738  124.75201  124.78488\n",
      " 124.80545  124.82083  124.849045 124.87967  124.9139   124.94995\n",
      " 124.98454  125.007744 125.020195 125.01969  125.001945 124.976234\n",
      " 124.951675 124.930695 124.91275  124.89803  124.88839  124.88673\n",
      " 124.88727  124.91044  124.93397  124.958984 124.987    125.02572\n",
      " 125.072426 125.11691 ]\n"
     ]
    }
   ],
   "source": [
    "prediction = model.predict(X_test)\n",
    "\n",
    "copy = np.repeat(prediction, train.shape[1], axis = -1)\n",
    "prediction = scaler2.inverse_transform(copy)[:,0]\n",
    "print(prediction)"
   ]
  },
  {
   "cell_type": "code",
   "execution_count": 9,
   "metadata": {},
   "outputs": [
    {
     "data": {
      "image/png": "[encoded data removed]",
      "text/plain": [
       "<Figure size 432x288 with 1 Axes>"
      ]
     },
     "metadata": {
      "needs_background": "light"
     },
     "output_type": "display_data"
    }
   ],
   "source": [
    "#Overall Forecasting\n",
    "\n",
    "train_length = train.shape[0]\n",
    "test_length = test.shape[0]\n",
    "plt.plot(np.arange(train_length), train[[\"Close\"]], color = 'blue')\n",
    "plt.plot(np.arange(train_length, train_length + test_length), test[[\"Close\"]], color=\"green\")\n",
    "plt.plot(np.arange(train_length, train_length + test_length), prediction)\n",
    "plt.show()"
   ]
  },
  {
   "cell_type": "code",
   "execution_count": 10,
   "metadata": {},
   "outputs": [
    {
     "data": {
      "image/png": "[encoded data removed]",
      "text/plain": [
       "<Figure size 432x288 with 1 Axes>"
      ]
     },
     "metadata": {
      "needs_background": "light"
     },
     "output_type": "display_data"
    }
   ],
   "source": [
    "#Forecasting for predicted time period\n",
    "plt.plot(np.arange(train_length, train_length + test_length), test[[\"Close\"]], color=\"green\")\n",
    "plt.show()"
   ]
  },
  {
   "cell_type": "code",
   "execution_count": 11,
   "metadata": {},
   "outputs": [
    {
     "data": {
      "text/plain": [
       "[<matplotlib.lines.Line2D at 0x2663c43aec8>]"
      ]
     },
     "execution_count": 11,
     "metadata": {},
     "output_type": "execute_result"
    },
    {
     "data": {
      "image/png": "[encoded data removed]",
      "text/plain": [
       "<Figure size 432x288 with 1 Axes>"
      ]
     },
     "metadata": {
      "needs_background": "light"
     },
     "output_type": "display_data"
    }
   ],
   "source": [
    "plt.plot(np.arange(train_length, train_length + test_length), prediction)"
   ]
  },
  {
   "cell_type": "markdown",
   "metadata": {},
   "source": [
    "# Buy/Sell Signals with Moving Averages on Predicted Closing Prices"
   ]
  },
  {
   "cell_type": "code",
   "execution_count": 16,
   "metadata": {},
   "outputs": [
    {
     "name": "stdout",
     "output_type": "stream",
     "text": [
      "        Closing  20_Day_SMA  50_Day_SMA  Signal  Position\n",
      "0    123.600334  123.600334  123.600334       0       NaN\n",
      "1    123.605843  123.603088  123.603088       0       0.0\n",
      "2    123.605225  123.603800  123.603800       0       0.0\n",
      "3    123.607903  123.604826  123.604826       0       0.0\n",
      "4    123.611137  123.606088  123.606088       0       0.0\n",
      "..          ...         ...         ...     ...       ...\n",
      "519  124.918373  124.905021  124.839383       1       0.0\n",
      "520  124.935669  124.902734  124.855346       1       0.0\n",
      "521  124.959969  124.905051  124.871004       1       0.0\n",
      "522  124.989250  124.912287  124.886174       1       0.0\n",
      "523  125.020454  124.924402  124.900659       1       0.0\n",
      "\n",
      "[524 rows x 5 columns]\n"
     ]
    },
    {
     "data": {
      "image/png": "[encoded data removed]",
      "text/plain": [
       "<Figure size 432x288 with 1 Axes>"
      ]
     },
     "metadata": {
      "needs_background": "light"
     },
     "output_type": "display_data"
    }
   ],
   "source": [
    "#Code from here: https://towardsdatascience.com/making-a-trade-call-using-simple-moving-average-sma-crossover-strategy-python-implementation-29963326da7a\n",
    "predicted_closing = pd.DataFrame({\"Closing\" : prediction})\n",
    "\n",
    "#Short Term Simple Average \n",
    "predicted_closing[\"20_Day_SMA\"] = predicted_closing[\"Closing\"].rolling(window = 10, min_periods=1).mean()\n",
    "#Long Term Simple Average\n",
    "predicted_closing[\"50_Day_SMA\"] = predicted_closing[\"Closing\"].rolling(window = 30, min_periods=1).mean()\n",
    "\n",
    "#Create Position from Signal; +1 is buy, -1 is sell\n",
    "predicted_closing[\"Signal\"] = np.where(predicted_closing[\"20_Day_SMA\"] > predicted_closing[\"50_Day_SMA\"], 1, 0)\n",
    "predicted_closing[\"Position\"] = predicted_closing[\"Signal\"].diff()\n",
    "\n",
    "print(predicted_closing)\n",
    "\n",
    "#Plot predicted time series\n",
    "plt.plot(np.arange(0,prediction.shape[0]), prediction)\n",
    "#Plot buy/sell markers\n",
    "plt.plot(predicted_closing[predicted_closing[\"Position\"] == 1].index,predicted_closing['20_Day_SMA'][predicted_closing['Position'] == 1], \n",
    "         '^', markersize = 15, color = 'g', label = 'buy')\n",
    "plt.plot(predicted_closing[predicted_closing[\"Position\"] == -1].index,predicted_closing['20_Day_SMA'][predicted_closing['Position'] == -1], \n",
    "         'v', markersize = 15, color = 'r', label = 'sell')\n",
    "\n",
    "plt.show()"
   ]
  },
  {
   "cell_type": "code",
   "execution_count": 17,
   "metadata": {},
   "outputs": [
    {
     "name": "stdout",
     "output_type": "stream",
     "text": [
      "          Close  20_Day_SMA  50_Day_SMA  Signal  Position\n",
      "0    123.945000  123.945000  123.945000       0       NaN\n",
      "1    123.769997  123.857498  123.857498       0       0.0\n",
      "2    123.797302  123.837433  123.837433       0       0.0\n",
      "3    123.870003  123.845575  123.845575       0       0.0\n",
      "4    123.845001  123.845461  123.845461       0       0.0\n",
      "..          ...         ...         ...     ...       ...\n",
      "519  125.389999  125.049220  124.970886       1       0.0\n",
      "520  125.430000  125.107720  124.992887       1       0.0\n",
      "521  125.529999  125.177720  125.017216       1       0.0\n",
      "522  125.339996  125.224220  125.032240       1       0.0\n",
      "523  125.309998  125.264289  125.044906       1       0.0\n",
      "\n",
      "[524 rows x 5 columns]\n"
     ]
    },
    {
     "data": {
      "image/png": "[encoded data removed]",
      "text/plain": [
       "<Figure size 432x288 with 1 Axes>"
      ]
     },
     "metadata": {
      "needs_background": "light"
     },
     "output_type": "display_data"
    }
   ],
   "source": [
    "#Buy sell for ground truth\n",
    "predicted_closing = pd.DataFrame(test[[\"Close\"]])\n",
    "\n",
    "#Short Term Simple Average \n",
    "predicted_closing[\"20_Day_SMA\"] = predicted_closing[\"Close\"].rolling(window = 10, min_periods=1).mean()\n",
    "#Long Term Simple Average\n",
    "predicted_closing[\"50_Day_SMA\"] = predicted_closing[\"Close\"].rolling(window = 30, min_periods=1).mean()\n",
    "\n",
    "#Create Position from Signal; +1 is buy, -1 is sell\n",
    "predicted_closing[\"Signal\"] = np.where(predicted_closing[\"20_Day_SMA\"] > predicted_closing[\"50_Day_SMA\"], 1, 0)\n",
    "predicted_closing[\"Position\"] = predicted_closing[\"Signal\"].diff()\n",
    "\n",
    "print(predicted_closing)\n",
    "\n",
    "#Plot predicted time series\n",
    "plt.plot(np.arange(0,prediction.shape[0]), test[[\"Close\"]], \"green\")\n",
    "#Plot buy/sell markers\n",
    "plt.plot(predicted_closing[predicted_closing[\"Position\"] == 1].index,predicted_closing['20_Day_SMA'][predicted_closing['Position'] == 1], \n",
    "         '^', markersize = 15, color = 'b', label = 'buy')\n",
    "plt.plot(predicted_closing[predicted_closing[\"Position\"] == -1].index,predicted_closing['20_Day_SMA'][predicted_closing['Position'] == -1], \n",
    "         'v', markersize = 15, color = 'r', label = 'sell')\n",
    "\n",
    "plt.show()"
   ]
  },
  {
   "cell_type": "markdown",
   "metadata": {},
   "source": [
    "# Problems Observed"
   ]
  },
  {
   "cell_type": "markdown",
   "metadata": {},
   "source": [
    "1. Ran on AAPL, results look very close to that of the actual\n",
    "2. Ran on GME, it could not keep up with the extremely bullish spike trend that happened at the end of 2/24/2021"
   ]
  },
  {
   "cell_type": "markdown",
   "metadata": {},
   "source": [
    "# Determine what the best window to survey \n",
    "\n",
    "Create a for loop to iterate over all window sizes to determine the most optimal one for prediction"
   ]
  },
  {
   "cell_type": "code",
   "execution_count": 2,
   "metadata": {},
   "outputs": [],
   "source": [
    "#Use Keras to improve upon the bulkiness of the top model\n",
    "from sklearn.metrics import mean_squared_error \n",
    "\n",
    "best_model = None; max_window_size = 60; step = 1; batch_size = 32; min_mse = 100; best_window_size = 1;\n",
    "ticker = \"AAPL\"\n",
    "\n",
    "train_import = pd.read_csv(\"./data_generation/\" + ticker + \"_min_train.csv\")\n",
    "test_import = pd.read_csv(\"./data_generation/\" + ticker+ \"_min_test.csv\")\n",
    "\n",
    "train_dates = pd.to_datetime(train_import['Datetime'])\n",
    "test_dates = pd.to_datetime(test_import['Datetime'])\n",
    "\n",
    "train = train_import[[\"Open\", \"High\", \"Low\", \"Volume\", \"Close\"]]\n",
    "test = test_import[[\"Open\", \"High\", \"Low\", \"Volume\", \"Close\"]]\n",
    "\n",
    "train = train[[\"Open\", \"High\", \"Low\", \"Volume\", \"Close\"]].astype(float)\n",
    "test = test[[\"Open\", \"High\", \"Low\", \"Volume\", \"Close\"]].astype(float)\n",
    "\n",
    "training_days = train.shape[0]\n",
    "testing_day = test.shape[0]\n",
    "\n",
    "scaler1 = StandardScaler().fit(train)\n",
    "scaler2 = StandardScaler().fit(test)\n",
    "\n",
    "train_transformed = scaler1.transform(train)\n",
    "test_transformed = scaler2.transform(test)\n",
    "\n",
    "#X_train = train_transformed\n",
    "#Y_train = train_transformed[:,3]\n",
    "\n",
    "#print(X_train.shape)\n",
    "#print(Y_train.shape)\n",
    "\n",
    "#print(Y_train)"
   ]
  },
  {
   "cell_type": "code",
   "execution_count": 3,
   "metadata": {},
   "outputs": [
    {
     "name": "stdout",
     "output_type": "stream",
     "text": [
      "Now considering window size:  10\n",
      "Epoch 1/10\n",
      "55/55 [==============================] - 2s 14ms/step - loss: 0.1400 - val_loss: 0.0841\n",
      "Epoch 2/10\n",
      "55/55 [==============================] - 0s 5ms/step - loss: 0.0035 - val_loss: 0.1015\n",
      "Epoch 3/10\n",
      "55/55 [==============================] - 0s 5ms/step - loss: 0.0041 - val_loss: 0.0886\n",
      "Epoch 4/10\n",
      "55/55 [==============================] - 0s 5ms/step - loss: 0.0029 - val_loss: 0.1313\n",
      "Epoch 5/10\n",
      "55/55 [==============================] - 0s 5ms/step - loss: 0.0029 - val_loss: 0.1216\n",
      "Epoch 6/10\n",
      "55/55 [==============================] - 0s 5ms/step - loss: 0.0030 - val_loss: 0.1284\n",
      "Epoch 7/10\n",
      "55/55 [==============================] - 0s 5ms/step - loss: 0.0032 - val_loss: 0.1239\n",
      "Epoch 8/10\n",
      "55/55 [==============================] - 0s 5ms/step - loss: 0.0028 - val_loss: 0.1498\n",
      "Epoch 9/10\n",
      "55/55 [==============================] - 0s 5ms/step - loss: 0.0024 - val_loss: 0.1505\n",
      "Epoch 10/10\n",
      "55/55 [==============================] - 0s 5ms/step - loss: 0.0025 - val_loss: 0.1397\n",
      "0.09112891613860823\n",
      "New min MSE is  0.09112891613860823\n",
      "Now considering window size:  11\n",
      "Epoch 1/10\n",
      "55/55 [==============================] - 2s 11ms/step - loss: 0.1417 - val_loss: 0.1887\n",
      "Epoch 2/10\n",
      "55/55 [==============================] - 0s 5ms/step - loss: 0.0040 - val_loss: 0.1282\n",
      "Epoch 3/10\n",
      "55/55 [==============================] - 0s 5ms/step - loss: 0.0039 - val_loss: 0.1169\n",
      "Epoch 4/10\n",
      "55/55 [==============================] - 0s 5ms/step - loss: 0.0039 - val_loss: 0.1794\n",
      "Epoch 5/10\n",
      "55/55 [==============================] - 0s 5ms/step - loss: 0.0030 - val_loss: 0.1699\n",
      "Epoch 6/10\n",
      "55/55 [==============================] - 0s 5ms/step - loss: 0.0030 - val_loss: 0.1694\n",
      "Epoch 7/10\n",
      "55/55 [==============================] - 0s 5ms/step - loss: 0.0034 - val_loss: 0.1826\n",
      "Epoch 8/10\n",
      "55/55 [==============================] - 0s 5ms/step - loss: 0.0027 - val_loss: 0.1733\n",
      "Epoch 9/10\n",
      "55/55 [==============================] - 0s 5ms/step - loss: 0.0027 - val_loss: 0.1501\n",
      "Epoch 10/10\n",
      "55/55 [==============================] - 0s 5ms/step - loss: 0.0030 - val_loss: 0.2307\n",
      "0.09804863338383456\n",
      "Now considering window size:  12\n",
      "Epoch 1/10\n",
      "55/55 [==============================] - 2s 12ms/step - loss: 0.2985 - val_loss: 0.1984\n",
      "Epoch 2/10\n",
      "55/55 [==============================] - 0s 5ms/step - loss: 0.0048 - val_loss: 0.2109\n",
      "Epoch 3/10\n",
      "55/55 [==============================] - 0s 5ms/step - loss: 0.0039 - val_loss: 0.2210\n",
      "Epoch 4/10\n",
      "55/55 [==============================] - 0s 5ms/step - loss: 0.0033 - val_loss: 0.2343\n",
      "Epoch 5/10\n",
      "55/55 [==============================] - 0s 6ms/step - loss: 0.0029 - val_loss: 0.2278\n",
      "Epoch 6/10\n",
      "55/55 [==============================] - 0s 6ms/step - loss: 0.0028 - val_loss: 0.2342\n",
      "Epoch 7/10\n",
      "55/55 [==============================] - 0s 6ms/step - loss: 0.0024 - val_loss: 0.2912\n",
      "Epoch 8/10\n",
      "55/55 [==============================] - 0s 6ms/step - loss: 0.0027 - val_loss: 0.2553\n",
      "Epoch 9/10\n",
      "55/55 [==============================] - 0s 6ms/step - loss: 0.0028 - val_loss: 0.2726\n",
      "Epoch 10/10\n",
      "55/55 [==============================] - 0s 6ms/step - loss: 0.0025 - val_loss: 0.3210\n",
      "0.10369814865889534\n",
      "Now considering window size:  13\n",
      "Epoch 1/10\n",
      "55/55 [==============================] - 2s 12ms/step - loss: 0.2703 - val_loss: 0.1993\n",
      "Epoch 2/10\n",
      "55/55 [==============================] - 0s 6ms/step - loss: 0.0047 - val_loss: 0.1234\n",
      "Epoch 3/10\n",
      "55/55 [==============================] - 0s 6ms/step - loss: 0.0042 - val_loss: 0.1445\n",
      "Epoch 4/10\n",
      "55/55 [==============================] - 0s 6ms/step - loss: 0.0038 - val_loss: 0.1298\n",
      "Epoch 5/10\n",
      "55/55 [==============================] - 0s 6ms/step - loss: 0.0031 - val_loss: 0.2008\n",
      "Epoch 6/10\n",
      "55/55 [==============================] - 0s 6ms/step - loss: 0.0034 - val_loss: 0.2215\n",
      "Epoch 7/10\n",
      "55/55 [==============================] - 0s 6ms/step - loss: 0.0032 - val_loss: 0.3158\n",
      "Epoch 8/10\n",
      "55/55 [==============================] - 0s 6ms/step - loss: 0.0028 - val_loss: 0.2313\n",
      "Epoch 9/10\n",
      "55/55 [==============================] - 0s 6ms/step - loss: 0.0032 - val_loss: 0.2735\n",
      "Epoch 10/10\n",
      "55/55 [==============================] - 0s 6ms/step - loss: 0.0029 - val_loss: 0.3100\n",
      "0.1123211450314422\n",
      "Now considering window size:  14\n",
      "Epoch 1/10\n",
      "55/55 [==============================] - 2s 13ms/step - loss: 0.1573 - val_loss: 0.2396\n",
      "Epoch 2/10\n",
      "55/55 [==============================] - 0s 7ms/step - loss: 0.0047 - val_loss: 0.1880\n",
      "Epoch 3/10\n",
      "55/55 [==============================] - 0s 7ms/step - loss: 0.0036 - val_loss: 0.2966\n",
      "Epoch 4/10\n",
      "55/55 [==============================] - 0s 7ms/step - loss: 0.0033 - val_loss: 0.2428\n",
      "Epoch 5/10\n",
      "55/55 [==============================] - 0s 7ms/step - loss: 0.0034 - val_loss: 0.3021\n",
      "Epoch 6/10\n",
      "55/55 [==============================] - 0s 7ms/step - loss: 0.0030 - val_loss: 0.2900\n",
      "Epoch 7/10\n",
      "55/55 [==============================] - 0s 7ms/step - loss: 0.0028 - val_loss: 0.3399\n",
      "Epoch 8/10\n",
      "55/55 [==============================] - 0s 7ms/step - loss: 0.0030 - val_loss: 0.2968\n",
      "Epoch 9/10\n",
      "55/55 [==============================] - 0s 7ms/step - loss: 0.0024 - val_loss: 0.3459\n",
      "Epoch 10/10\n",
      "55/55 [==============================] - 0s 7ms/step - loss: 0.0023 - val_loss: 0.3833\n",
      "0.10492130238290133\n",
      "Now considering window size:  15\n",
      "Epoch 1/10\n",
      "55/55 [==============================] - 2s 13ms/step - loss: 0.1707 - val_loss: 0.2650\n",
      "Epoch 2/10\n",
      "55/55 [==============================] - 0s 7ms/step - loss: 0.0049 - val_loss: 0.2329\n",
      "Epoch 3/10\n",
      "55/55 [==============================] - 0s 7ms/step - loss: 0.0037 - val_loss: 0.2527\n",
      "Epoch 4/10\n",
      "55/55 [==============================] - 0s 7ms/step - loss: 0.0034 - val_loss: 0.3187\n",
      "Epoch 5/10\n",
      "55/55 [==============================] - 0s 7ms/step - loss: 0.0034 - val_loss: 0.2671\n",
      "Epoch 6/10\n",
      "55/55 [==============================] - 0s 7ms/step - loss: 0.0030 - val_loss: 0.2680\n",
      "Epoch 7/10\n",
      "55/55 [==============================] - 0s 7ms/step - loss: 0.0027 - val_loss: 0.1996\n",
      "Epoch 8/10\n",
      "55/55 [==============================] - 0s 7ms/step - loss: 0.0029 - val_loss: 0.2842\n",
      "Epoch 9/10\n",
      "55/55 [==============================] - 0s 7ms/step - loss: 0.0025 - val_loss: 0.2505\n",
      "Epoch 10/10\n",
      "55/55 [==============================] - 0s 7ms/step - loss: 0.0025 - val_loss: 0.2021\n",
      "0.09543723075091738\n",
      "Now considering window size:  16\n",
      "Epoch 1/10\n",
      "55/55 [==============================] - 2s 13ms/step - loss: 0.1754 - val_loss: 0.2307\n",
      "Epoch 2/10\n",
      "55/55 [==============================] - 0s 7ms/step - loss: 0.0050 - val_loss: 0.2194\n",
      "Epoch 3/10\n",
      "55/55 [==============================] - 0s 7ms/step - loss: 0.0039 - val_loss: 0.1932\n",
      "Epoch 4/10\n",
      "55/55 [==============================] - 0s 7ms/step - loss: 0.0038 - val_loss: 0.2741\n",
      "Epoch 5/10\n",
      "55/55 [==============================] - 0s 7ms/step - loss: 0.0038 - val_loss: 0.3959\n",
      "Epoch 6/10\n",
      "55/55 [==============================] - 0s 7ms/step - loss: 0.0033 - val_loss: 0.4411\n",
      "Epoch 7/10\n",
      "55/55 [==============================] - 0s 7ms/step - loss: 0.0033 - val_loss: 0.4087\n",
      "Epoch 8/10\n",
      "55/55 [==============================] - 0s 7ms/step - loss: 0.0034 - val_loss: 0.4812\n",
      "Epoch 9/10\n",
      "55/55 [==============================] - 0s 7ms/step - loss: 0.0028 - val_loss: 0.4582\n",
      "Epoch 10/10\n",
      "55/55 [==============================] - 0s 7ms/step - loss: 0.0031 - val_loss: 0.4320\n",
      "0.12027161497113946\n",
      "Now considering window size:  17\n",
      "Epoch 1/10\n",
      "55/55 [==============================] - 2s 16ms/step - loss: 0.0889 - val_loss: 0.1534\n",
      "Epoch 2/10\n",
      "55/55 [==============================] - 0s 8ms/step - loss: 0.0045 - val_loss: 0.1327\n",
      "Epoch 3/10\n",
      "55/55 [==============================] - 0s 8ms/step - loss: 0.0038 - val_loss: 0.1533\n",
      "Epoch 4/10\n",
      "55/55 [==============================] - 0s 8ms/step - loss: 0.0040 - val_loss: 0.1222\n",
      "Epoch 5/10\n",
      "55/55 [==============================] - 0s 8ms/step - loss: 0.0034 - val_loss: 0.1488\n",
      "Epoch 6/10\n",
      "55/55 [==============================] - 0s 8ms/step - loss: 0.0035 - val_loss: 0.2556\n",
      "Epoch 7/10\n",
      "55/55 [==============================] - 0s 8ms/step - loss: 0.0029 - val_loss: 0.2842\n",
      "Epoch 8/10\n",
      "55/55 [==============================] - 0s 8ms/step - loss: 0.0027 - val_loss: 0.3608\n",
      "Epoch 9/10\n",
      "55/55 [==============================] - 0s 8ms/step - loss: 0.0024 - val_loss: 0.2302\n"
     ]
    },
    {
     "name": "stdout",
     "output_type": "stream",
     "text": [
      "Epoch 10/10\n",
      "55/55 [==============================] - 0s 8ms/step - loss: 0.0028 - val_loss: 0.2196\n",
      "0.09870169659396899\n",
      "Now considering window size:  18\n",
      "Epoch 1/10\n",
      "55/55 [==============================] - 2s 14ms/step - loss: 0.2028 - val_loss: 0.3095\n",
      "Epoch 2/10\n",
      "55/55 [==============================] - 0s 8ms/step - loss: 0.0050 - val_loss: 0.2762\n",
      "Epoch 3/10\n",
      "55/55 [==============================] - 0s 8ms/step - loss: 0.0042 - val_loss: 0.2608\n",
      "Epoch 4/10\n",
      "55/55 [==============================] - 0s 8ms/step - loss: 0.0042 - val_loss: 0.2817\n",
      "Epoch 5/10\n",
      "55/55 [==============================] - 0s 8ms/step - loss: 0.0041 - val_loss: 0.2986\n",
      "Epoch 6/10\n",
      "55/55 [==============================] - 0s 8ms/step - loss: 0.0042 - val_loss: 0.3529\n",
      "Epoch 7/10\n",
      "55/55 [==============================] - 0s 8ms/step - loss: 0.0030 - val_loss: 0.3402\n",
      "Epoch 8/10\n",
      "55/55 [==============================] - 0s 8ms/step - loss: 0.0035 - val_loss: 0.3762\n",
      "Epoch 9/10\n",
      "55/55 [==============================] - 0s 8ms/step - loss: 0.0030 - val_loss: 0.3572\n",
      "Epoch 10/10\n",
      "55/55 [==============================] - 0s 8ms/step - loss: 0.0030 - val_loss: 0.3453\n",
      "0.1192654684312332\n",
      "Now considering window size:  19\n",
      "Epoch 1/10\n",
      "55/55 [==============================] - 2s 14ms/step - loss: 0.1489 - val_loss: 0.0908\n",
      "Epoch 2/10\n",
      "55/55 [==============================] - 0s 8ms/step - loss: 0.0046 - val_loss: 0.1132\n",
      "Epoch 3/10\n",
      "55/55 [==============================] - 0s 8ms/step - loss: 0.0039 - val_loss: 0.2209\n",
      "Epoch 4/10\n",
      "55/55 [==============================] - 0s 8ms/step - loss: 0.0036 - val_loss: 0.2197\n",
      "Epoch 5/10\n",
      "55/55 [==============================] - 0s 8ms/step - loss: 0.0034 - val_loss: 0.1860\n",
      "Epoch 6/10\n",
      "55/55 [==============================] - 0s 8ms/step - loss: 0.0034 - val_loss: 0.1972\n",
      "Epoch 7/10\n",
      "55/55 [==============================] - 0s 8ms/step - loss: 0.0030 - val_loss: 0.2255\n",
      "Epoch 8/10\n",
      "55/55 [==============================] - 0s 8ms/step - loss: 0.0030 - val_loss: 0.1623\n",
      "Epoch 9/10\n",
      "55/55 [==============================] - 0s 8ms/step - loss: 0.0026 - val_loss: 0.2350\n",
      "Epoch 10/10\n",
      "55/55 [==============================] - 0s 8ms/step - loss: 0.0029 - val_loss: 0.1118\n",
      "0.089259769089709\n",
      "New min MSE is  0.089259769089709\n",
      "Now considering window size:  20\n",
      "Epoch 1/10\n",
      "55/55 [==============================] - 2s 15ms/step - loss: 0.0950 - val_loss: 0.1614\n",
      "Epoch 2/10\n",
      "55/55 [==============================] - 1s 9ms/step - loss: 0.0042 - val_loss: 0.2163\n",
      "Epoch 3/10\n",
      "55/55 [==============================] - 0s 9ms/step - loss: 0.0040 - val_loss: 0.1989\n",
      "Epoch 4/10\n",
      "55/55 [==============================] - 0s 9ms/step - loss: 0.0034 - val_loss: 0.2100\n",
      "Epoch 5/10\n",
      "55/55 [==============================] - 0s 9ms/step - loss: 0.0036 - val_loss: 0.1879\n",
      "Epoch 6/10\n",
      "55/55 [==============================] - 0s 9ms/step - loss: 0.0036 - val_loss: 0.2060\n",
      "Epoch 7/10\n",
      "55/55 [==============================] - 0s 9ms/step - loss: 0.0032 - val_loss: 0.1383\n",
      "Epoch 8/10\n",
      "55/55 [==============================] - 0s 9ms/step - loss: 0.0031 - val_loss: 0.1469\n",
      "Epoch 9/10\n",
      "55/55 [==============================] - 0s 9ms/step - loss: 0.0028 - val_loss: 0.1544\n",
      "Epoch 10/10\n",
      "55/55 [==============================] - 0s 9ms/step - loss: 0.0024 - val_loss: 0.1283\n",
      "0.08845914441194778\n",
      "New min MSE is  0.08845914441194778\n",
      "Now considering window size:  21\n",
      "Epoch 1/10\n",
      "55/55 [==============================] - 2s 15ms/step - loss: 0.1153 - val_loss: 0.3571\n",
      "Epoch 2/10\n",
      "55/55 [==============================] - 1s 9ms/step - loss: 0.0050 - val_loss: 0.4552\n",
      "Epoch 3/10\n",
      "55/55 [==============================] - 1s 9ms/step - loss: 0.0042 - val_loss: 0.5328\n",
      "Epoch 4/10\n",
      "55/55 [==============================] - 1s 9ms/step - loss: 0.0039 - val_loss: 0.5533\n",
      "Epoch 5/10\n",
      "55/55 [==============================] - 1s 9ms/step - loss: 0.0038 - val_loss: 0.5427\n",
      "Epoch 6/10\n",
      "55/55 [==============================] - 1s 9ms/step - loss: 0.0033 - val_loss: 0.4842\n",
      "Epoch 7/10\n",
      "55/55 [==============================] - 1s 9ms/step - loss: 0.0031 - val_loss: 0.5870\n",
      "Epoch 8/10\n",
      "55/55 [==============================] - 1s 9ms/step - loss: 0.0029 - val_loss: 0.4331\n",
      "Epoch 9/10\n",
      "55/55 [==============================] - 1s 9ms/step - loss: 0.0031 - val_loss: 0.4528\n",
      "Epoch 10/10\n",
      "55/55 [==============================] - 1s 9ms/step - loss: 0.0028 - val_loss: 0.4710\n",
      "0.12490731512346095\n",
      "Now considering window size:  22\n",
      "Epoch 1/10\n",
      "55/55 [==============================] - 2s 18ms/step - loss: 0.1182 - val_loss: 0.8313\n",
      "Epoch 2/10\n",
      "55/55 [==============================] - 1s 10ms/step - loss: 0.0045 - val_loss: 0.6152\n",
      "Epoch 3/10\n",
      "55/55 [==============================] - 1s 10ms/step - loss: 0.0040 - val_loss: 0.6369\n",
      "Epoch 4/10\n",
      "55/55 [==============================] - 1s 10ms/step - loss: 0.0035 - val_loss: 0.6725\n",
      "Epoch 5/10\n",
      "55/55 [==============================] - 1s 10ms/step - loss: 0.0036 - val_loss: 0.7457\n",
      "Epoch 6/10\n",
      "55/55 [==============================] - 1s 10ms/step - loss: 0.0034 - val_loss: 0.7265\n",
      "Epoch 7/10\n",
      "55/55 [==============================] - 1s 10ms/step - loss: 0.0032 - val_loss: 0.8700\n",
      "Epoch 8/10\n",
      "55/55 [==============================] - 1s 10ms/step - loss: 0.0027 - val_loss: 0.6490\n",
      "Epoch 9/10\n",
      "55/55 [==============================] - 1s 10ms/step - loss: 0.0023 - val_loss: 0.5716\n",
      "Epoch 10/10\n",
      "55/55 [==============================] - 1s 10ms/step - loss: 0.0023 - val_loss: 0.6455\n",
      "0.1312242285275707\n",
      "Now considering window size:  23\n",
      "Epoch 1/10\n",
      "55/55 [==============================] - 2s 16ms/step - loss: 0.1890 - val_loss: 0.2803\n",
      "Epoch 2/10\n",
      "55/55 [==============================] - 1s 11ms/step - loss: 0.0052 - val_loss: 0.3171\n",
      "Epoch 3/10\n",
      "55/55 [==============================] - 1s 11ms/step - loss: 0.0040 - val_loss: 0.4193\n",
      "Epoch 4/10\n",
      "55/55 [==============================] - 1s 11ms/step - loss: 0.0036 - val_loss: 0.4397\n",
      "Epoch 5/10\n",
      "55/55 [==============================] - 1s 11ms/step - loss: 0.0036 - val_loss: 0.5704\n",
      "Epoch 6/10\n",
      "55/55 [==============================] - 1s 11ms/step - loss: 0.0032 - val_loss: 0.5779\n",
      "Epoch 7/10\n",
      "55/55 [==============================] - 1s 11ms/step - loss: 0.0029 - val_loss: 0.6168\n",
      "Epoch 8/10\n",
      "55/55 [==============================] - 1s 11ms/step - loss: 0.0029 - val_loss: 0.5816\n",
      "Epoch 9/10\n",
      "55/55 [==============================] - 1s 11ms/step - loss: 0.0028 - val_loss: 0.3959\n",
      "Epoch 10/10\n",
      "55/55 [==============================] - 1s 11ms/step - loss: 0.0025 - val_loss: 0.4728\n",
      "0.11781913740993767\n",
      "Now considering window size:  24\n",
      "Epoch 1/10\n",
      "55/55 [==============================] - 3s 17ms/step - loss: 0.1138 - val_loss: 0.1532\n",
      "Epoch 2/10\n",
      "55/55 [==============================] - 1s 11ms/step - loss: 0.0044 - val_loss: 0.1326\n",
      "Epoch 3/10\n",
      "55/55 [==============================] - 1s 11ms/step - loss: 0.0038 - val_loss: 0.1539\n",
      "Epoch 4/10\n",
      "55/55 [==============================] - 1s 10ms/step - loss: 0.0036 - val_loss: 0.1927\n",
      "Epoch 5/10\n",
      "55/55 [==============================] - 1s 10ms/step - loss: 0.0036 - val_loss: 0.2305\n",
      "Epoch 6/10\n",
      "55/55 [==============================] - 1s 11ms/step - loss: 0.0030 - val_loss: 0.1357\n",
      "Epoch 7/10\n",
      "55/55 [==============================] - 1s 11ms/step - loss: 0.0031 - val_loss: 0.1791\n",
      "Epoch 8/10\n",
      "55/55 [==============================] - 1s 11ms/step - loss: 0.0033 - val_loss: 0.1628\n",
      "Epoch 9/10\n",
      "55/55 [==============================] - 1s 11ms/step - loss: 0.0025 - val_loss: 0.1937\n",
      "Epoch 10/10\n",
      "55/55 [==============================] - 1s 11ms/step - loss: 0.0024 - val_loss: 0.2854\n",
      "0.10491998917073432\n",
      "Now considering window size:  25\n",
      "Epoch 1/10\n",
      "55/55 [==============================] - 2s 18ms/step - loss: 0.1164 - val_loss: 0.1578\n",
      "Epoch 2/10\n",
      "55/55 [==============================] - 1s 12ms/step - loss: 0.0041 - val_loss: 0.2066\n",
      "Epoch 3/10\n",
      "55/55 [==============================] - 1s 12ms/step - loss: 0.0039 - val_loss: 0.2439\n",
      "Epoch 4/10\n",
      "55/55 [==============================] - 1s 12ms/step - loss: 0.0035 - val_loss: 0.2386\n",
      "Epoch 5/10\n",
      "55/55 [==============================] - 1s 12ms/step - loss: 0.0034 - val_loss: 0.2768\n",
      "Epoch 6/10\n",
      "55/55 [==============================] - 1s 12ms/step - loss: 0.0031 - val_loss: 0.2913\n",
      "Epoch 7/10\n",
      "55/55 [==============================] - 1s 12ms/step - loss: 0.0034 - val_loss: 0.1832\n",
      "Epoch 8/10\n"
     ]
    },
    {
     "name": "stdout",
     "output_type": "stream",
     "text": [
      "55/55 [==============================] - 1s 12ms/step - loss: 0.0030 - val_loss: 0.2883\n",
      "Epoch 9/10\n",
      "55/55 [==============================] - 1s 12ms/step - loss: 0.0023 - val_loss: 0.1765\n",
      "Epoch 10/10\n",
      "55/55 [==============================] - 1s 11ms/step - loss: 0.0026 - val_loss: 0.1880\n",
      "0.08954529177535277\n",
      "Now considering window size:  26\n",
      "Epoch 1/10\n",
      "55/55 [==============================] - 3s 18ms/step - loss: 0.1697 - val_loss: 0.2482\n",
      "Epoch 2/10\n",
      "55/55 [==============================] - 1s 12ms/step - loss: 0.0053 - val_loss: 0.2233\n",
      "Epoch 3/10\n",
      "55/55 [==============================] - 1s 12ms/step - loss: 0.0045 - val_loss: 0.2526\n",
      "Epoch 4/10\n",
      "55/55 [==============================] - 1s 12ms/step - loss: 0.0041 - val_loss: 0.3983\n",
      "Epoch 5/10\n",
      "55/55 [==============================] - 1s 12ms/step - loss: 0.0041 - val_loss: 0.4411\n",
      "Epoch 6/10\n",
      "55/55 [==============================] - 1s 12ms/step - loss: 0.0032 - val_loss: 0.4407\n",
      "Epoch 7/10\n",
      "55/55 [==============================] - 1s 12ms/step - loss: 0.0030 - val_loss: 0.4380\n",
      "Epoch 8/10\n",
      "55/55 [==============================] - 1s 12ms/step - loss: 0.0027 - val_loss: 0.3551\n",
      "Epoch 9/10\n",
      "55/55 [==============================] - 1s 12ms/step - loss: 0.0026 - val_loss: 0.2907\n",
      "Epoch 10/10\n",
      "55/55 [==============================] - 1s 12ms/step - loss: 0.0026 - val_loss: 0.2470\n",
      "0.08951965416186122\n",
      "Now considering window size:  27\n",
      "Epoch 1/10\n",
      "55/55 [==============================] - 3s 21ms/step - loss: 0.1365 - val_loss: 0.0493\n",
      "Epoch 2/10\n",
      "55/55 [==============================] - 1s 13ms/step - loss: 0.0049 - val_loss: 0.1431\n",
      "Epoch 3/10\n",
      "55/55 [==============================] - 1s 13ms/step - loss: 0.0038 - val_loss: 0.2138\n",
      "Epoch 4/10\n",
      "55/55 [==============================] - 1s 12ms/step - loss: 0.0040 - val_loss: 0.2191\n",
      "Epoch 5/10\n",
      "55/55 [==============================] - 1s 12ms/step - loss: 0.0035 - val_loss: 0.3582\n",
      "Epoch 6/10\n",
      "55/55 [==============================] - 1s 12ms/step - loss: 0.0033 - val_loss: 0.3754\n",
      "Epoch 7/10\n",
      "55/55 [==============================] - 1s 12ms/step - loss: 0.0031 - val_loss: 0.2630\n",
      "Epoch 8/10\n",
      "55/55 [==============================] - 1s 12ms/step - loss: 0.0028 - val_loss: 0.3723\n",
      "Epoch 9/10\n",
      "55/55 [==============================] - 1s 12ms/step - loss: 0.0025 - val_loss: 0.4354\n",
      "Epoch 10/10\n",
      "55/55 [==============================] - 1s 13ms/step - loss: 0.0024 - val_loss: 0.1761\n",
      "0.09050891934787618\n",
      "Now considering window size:  28\n",
      "Epoch 1/10\n",
      "55/55 [==============================] - 2s 18ms/step - loss: 0.2329 - val_loss: 0.2831\n",
      "Epoch 2/10\n",
      "55/55 [==============================] - 1s 13ms/step - loss: 0.0055 - val_loss: 0.2007\n",
      "Epoch 3/10\n",
      "55/55 [==============================] - 1s 12ms/step - loss: 0.0041 - val_loss: 0.2154\n",
      "Epoch 4/10\n",
      "55/55 [==============================] - 1s 12ms/step - loss: 0.0037 - val_loss: 0.1910\n",
      "Epoch 5/10\n",
      "55/55 [==============================] - 1s 12ms/step - loss: 0.0042 - val_loss: 0.1734\n",
      "Epoch 6/10\n",
      "55/55 [==============================] - 1s 12ms/step - loss: 0.0033 - val_loss: 0.1318\n",
      "Epoch 7/10\n",
      "55/55 [==============================] - 1s 12ms/step - loss: 0.0033 - val_loss: 0.1460\n",
      "Epoch 8/10\n",
      "55/55 [==============================] - 1s 12ms/step - loss: 0.0035 - val_loss: 0.1887\n",
      "Epoch 9/10\n",
      "55/55 [==============================] - 1s 12ms/step - loss: 0.0030 - val_loss: 0.1596\n",
      "Epoch 10/10\n",
      "55/55 [==============================] - 1s 12ms/step - loss: 0.0025 - val_loss: 0.1561\n",
      "0.09224924854393088\n",
      "Now considering window size:  29\n",
      "Epoch 1/10\n",
      "55/55 [==============================] - 3s 20ms/step - loss: 0.1416 - val_loss: 0.2440\n",
      "Epoch 2/10\n",
      "55/55 [==============================] - 1s 14ms/step - loss: 0.0049 - val_loss: 0.2383\n",
      "Epoch 3/10\n",
      "55/55 [==============================] - 1s 14ms/step - loss: 0.0037 - val_loss: 0.2862\n",
      "Epoch 4/10\n",
      "55/55 [==============================] - 1s 14ms/step - loss: 0.0042 - val_loss: 0.5828\n",
      "Epoch 5/10\n",
      "55/55 [==============================] - 1s 14ms/step - loss: 0.0036 - val_loss: 0.5859\n",
      "Epoch 6/10\n",
      "55/55 [==============================] - 1s 14ms/step - loss: 0.0032 - val_loss: 0.6549\n",
      "Epoch 7/10\n",
      "55/55 [==============================] - 1s 14ms/step - loss: 0.0029 - val_loss: 0.6487\n",
      "Epoch 8/10\n",
      "55/55 [==============================] - 1s 14ms/step - loss: 0.0034 - val_loss: 0.7063\n",
      "Epoch 9/10\n",
      "55/55 [==============================] - 1s 14ms/step - loss: 0.0030 - val_loss: 0.5335\n",
      "Epoch 10/10\n",
      "55/55 [==============================] - 1s 14ms/step - loss: 0.0025 - val_loss: 0.5687\n",
      "0.1308289803848029\n",
      "Now considering window size:  30\n",
      "Epoch 1/10\n",
      "55/55 [==============================] - 3s 20ms/step - loss: 0.1554 - val_loss: 0.3782\n",
      "Epoch 2/10\n",
      "55/55 [==============================] - 1s 13ms/step - loss: 0.0045 - val_loss: 0.2619\n",
      "Epoch 3/10\n",
      "55/55 [==============================] - 1s 13ms/step - loss: 0.0039 - val_loss: 0.2737\n",
      "Epoch 4/10\n",
      "55/55 [==============================] - 1s 13ms/step - loss: 0.0037 - val_loss: 0.3006\n",
      "Epoch 5/10\n",
      "55/55 [==============================] - 1s 13ms/step - loss: 0.0033 - val_loss: 0.3612\n",
      "Epoch 6/10\n",
      "55/55 [==============================] - 1s 13ms/step - loss: 0.0033 - val_loss: 0.3188\n",
      "Epoch 7/10\n",
      "55/55 [==============================] - 1s 13ms/step - loss: 0.0033 - val_loss: 0.3093\n",
      "Epoch 8/10\n",
      "55/55 [==============================] - 1s 13ms/step - loss: 0.0030 - val_loss: 0.3352\n",
      "Epoch 9/10\n",
      "55/55 [==============================] - 1s 13ms/step - loss: 0.0025 - val_loss: 0.4137\n",
      "Epoch 10/10\n",
      "55/55 [==============================] - 1s 13ms/step - loss: 0.0029 - val_loss: 0.3048\n",
      "0.10887411396794439\n",
      "Now considering window size:  31\n",
      "Epoch 1/10\n",
      "55/55 [==============================] - 3s 20ms/step - loss: 0.1690 - val_loss: 0.3623\n",
      "Epoch 2/10\n",
      "55/55 [==============================] - 1s 14ms/step - loss: 0.0049 - val_loss: 0.2924\n",
      "Epoch 3/10\n",
      "55/55 [==============================] - 1s 13ms/step - loss: 0.0039 - val_loss: 0.3020\n",
      "Epoch 4/10\n",
      "55/55 [==============================] - 1s 13ms/step - loss: 0.0033 - val_loss: 0.3783\n",
      "Epoch 5/10\n",
      "55/55 [==============================] - 1s 13ms/step - loss: 0.0036 - val_loss: 0.6550\n",
      "Epoch 6/10\n",
      "55/55 [==============================] - 1s 13ms/step - loss: 0.0033 - val_loss: 0.3712\n",
      "Epoch 7/10\n",
      "55/55 [==============================] - 1s 13ms/step - loss: 0.0029 - val_loss: 0.4832\n",
      "Epoch 8/10\n",
      "55/55 [==============================] - 1s 13ms/step - loss: 0.0028 - val_loss: 0.8696\n",
      "Epoch 9/10\n",
      "55/55 [==============================] - 1s 13ms/step - loss: 0.0022 - val_loss: 0.7356\n",
      "Epoch 10/10\n",
      "55/55 [==============================] - 1s 13ms/step - loss: 0.0024 - val_loss: 0.6522\n",
      "0.1282431461877831\n",
      "Now considering window size:  32\n",
      "Epoch 1/10\n",
      "55/55 [==============================] - 3s 23ms/step - loss: 0.1253 - val_loss: 0.2386\n",
      "Epoch 2/10\n",
      "55/55 [==============================] - 1s 14ms/step - loss: 0.0055 - val_loss: 0.1861\n",
      "Epoch 3/10\n",
      "55/55 [==============================] - 1s 14ms/step - loss: 0.0040 - val_loss: 0.1747\n",
      "Epoch 4/10\n",
      "55/55 [==============================] - 1s 14ms/step - loss: 0.0037 - val_loss: 0.1989\n",
      "Epoch 5/10\n",
      "55/55 [==============================] - 1s 14ms/step - loss: 0.0035 - val_loss: 0.1643\n",
      "Epoch 6/10\n",
      "55/55 [==============================] - 1s 14ms/step - loss: 0.0031 - val_loss: 0.1579\n",
      "Epoch 7/10\n",
      "55/55 [==============================] - 1s 14ms/step - loss: 0.0032 - val_loss: 0.2377\n",
      "Epoch 8/10\n",
      "55/55 [==============================] - 1s 14ms/step - loss: 0.0030 - val_loss: 0.2304\n",
      "Epoch 9/10\n",
      "55/55 [==============================] - 1s 14ms/step - loss: 0.0026 - val_loss: 0.2251\n",
      "Epoch 10/10\n",
      "55/55 [==============================] - 1s 14ms/step - loss: 0.0029 - val_loss: 0.2361\n",
      "0.09932902295144813\n",
      "Now considering window size:  33\n",
      "Epoch 1/10\n",
      "55/55 [==============================] - 3s 21ms/step - loss: 0.0655 - val_loss: 0.0352\n",
      "Epoch 2/10\n",
      "55/55 [==============================] - 1s 16ms/step - loss: 0.0053 - val_loss: 0.0753\n",
      "Epoch 3/10\n",
      "55/55 [==============================] - 1s 15ms/step - loss: 0.0044 - val_loss: 0.1792\n",
      "Epoch 4/10\n",
      "55/55 [==============================] - 1s 14ms/step - loss: 0.0035 - val_loss: 0.2602\n",
      "Epoch 5/10\n",
      "55/55 [==============================] - 1s 14ms/step - loss: 0.0037 - val_loss: 0.2504\n",
      "Epoch 6/10\n",
      "55/55 [==============================] - 1s 14ms/step - loss: 0.0032 - val_loss: 0.2234\n",
      "Epoch 7/10\n",
      "55/55 [==============================] - 1s 14ms/step - loss: 0.0037 - val_loss: 0.2502\n",
      "Epoch 8/10\n",
      "55/55 [==============================] - 1s 14ms/step - loss: 0.0029 - val_loss: 0.2433\n",
      "Epoch 9/10\n",
      "55/55 [==============================] - 1s 14ms/step - loss: 0.0026 - val_loss: 0.2476\n",
      "Epoch 10/10\n",
      "55/55 [==============================] - 1s 14ms/step - loss: 0.0030 - val_loss: 0.3132\n",
      "0.10297643647461668\n",
      "Now considering window size:  34\n",
      "Epoch 1/10\n",
      "55/55 [==============================] - 3s 22ms/step - loss: 0.0736 - val_loss: 0.2530\n",
      "Epoch 2/10\n",
      "55/55 [==============================] - 1s 16ms/step - loss: 0.0053 - val_loss: 0.2430\n",
      "Epoch 3/10\n",
      "55/55 [==============================] - 1s 16ms/step - loss: 0.0044 - val_loss: 0.2068\n",
      "Epoch 4/10\n",
      "55/55 [==============================] - 1s 15ms/step - loss: 0.0040 - val_loss: 0.2477\n",
      "Epoch 5/10\n",
      "55/55 [==============================] - 1s 15ms/step - loss: 0.0037 - val_loss: 0.2957\n",
      "Epoch 6/10\n",
      "55/55 [==============================] - 1s 15ms/step - loss: 0.0037 - val_loss: 0.3323\n",
      "Epoch 7/10\n",
      "55/55 [==============================] - 1s 16ms/step - loss: 0.0028 - val_loss: 0.3749\n",
      "Epoch 8/10\n",
      "55/55 [==============================] - 1s 15ms/step - loss: 0.0029 - val_loss: 0.3542\n",
      "Epoch 9/10\n",
      "55/55 [==============================] - 1s 16ms/step - loss: 0.0028 - val_loss: 0.3152\n",
      "Epoch 10/10\n",
      "55/55 [==============================] - 1s 15ms/step - loss: 0.0025 - val_loss: 0.3248\n",
      "0.12122068885258268\n",
      "Now considering window size:  35\n",
      "Epoch 1/10\n",
      "55/55 [==============================] - 3s 22ms/step - loss: 0.1347 - val_loss: 0.2427\n",
      "Epoch 2/10\n",
      "55/55 [==============================] - 1s 16ms/step - loss: 0.0052 - val_loss: 0.2291\n",
      "Epoch 3/10\n",
      "55/55 [==============================] - 1s 16ms/step - loss: 0.0045 - val_loss: 0.2737\n",
      "Epoch 4/10\n",
      "55/55 [==============================] - 1s 15ms/step - loss: 0.0041 - val_loss: 0.2655\n",
      "Epoch 5/10\n",
      "55/55 [==============================] - 1s 15ms/step - loss: 0.0037 - val_loss: 0.2688\n",
      "Epoch 6/10\n",
      "55/55 [==============================] - 1s 15ms/step - loss: 0.0032 - val_loss: 0.2570\n",
      "Epoch 7/10\n",
      "55/55 [==============================] - 1s 15ms/step - loss: 0.0037 - val_loss: 0.2689\n",
      "Epoch 8/10\n",
      "55/55 [==============================] - 1s 15ms/step - loss: 0.0031 - val_loss: 0.3199\n",
      "Epoch 9/10\n",
      "55/55 [==============================] - 1s 15ms/step - loss: 0.0027 - val_loss: 0.4745\n",
      "Epoch 10/10\n",
      "55/55 [==============================] - 1s 15ms/step - loss: 0.0025 - val_loss: 0.5104\n",
      "0.13442939208095828\n",
      "Now considering window size:  36\n",
      "Epoch 1/10\n",
      "55/55 [==============================] - 3s 23ms/step - loss: 0.1824 - val_loss: 0.2013\n",
      "Epoch 2/10\n",
      "55/55 [==============================] - 1s 16ms/step - loss: 0.0048 - val_loss: 0.2042\n",
      "Epoch 3/10\n",
      "55/55 [==============================] - 1s 16ms/step - loss: 0.0042 - val_loss: 0.2360\n",
      "Epoch 4/10\n",
      "55/55 [==============================] - 1s 16ms/step - loss: 0.0037 - val_loss: 0.3112\n",
      "Epoch 5/10\n",
      "55/55 [==============================] - 1s 16ms/step - loss: 0.0033 - val_loss: 0.4027\n",
      "Epoch 6/10\n",
      "55/55 [==============================] - 1s 16ms/step - loss: 0.0032 - val_loss: 0.3786\n",
      "Epoch 7/10\n",
      "55/55 [==============================] - 1s 16ms/step - loss: 0.0034 - val_loss: 0.4300\n",
      "Epoch 8/10\n",
      "55/55 [==============================] - 1s 16ms/step - loss: 0.0026 - val_loss: 0.4068\n",
      "Epoch 9/10\n",
      "55/55 [==============================] - 1s 16ms/step - loss: 0.0028 - val_loss: 0.5614\n",
      "Epoch 10/10\n",
      "55/55 [==============================] - 1s 16ms/step - loss: 0.0030 - val_loss: 0.5490\n",
      "0.13901670943725913\n",
      "Now considering window size:  37\n",
      "Epoch 1/10\n",
      "55/55 [==============================] - 3s 25ms/step - loss: 0.1539 - val_loss: 0.2638\n",
      "Epoch 2/10\n",
      "55/55 [==============================] - 1s 16ms/step - loss: 0.0050 - val_loss: 0.2325\n",
      "Epoch 3/10\n",
      "55/55 [==============================] - 1s 16ms/step - loss: 0.0038 - val_loss: 0.3789\n",
      "Epoch 4/10\n",
      "55/55 [==============================] - 1s 16ms/step - loss: 0.0045 - val_loss: 0.3703\n",
      "Epoch 5/10\n",
      "55/55 [==============================] - 1s 16ms/step - loss: 0.0034 - val_loss: 0.2990\n",
      "Epoch 6/10\n",
      "55/55 [==============================] - 1s 16ms/step - loss: 0.0029 - val_loss: 0.2878\n",
      "Epoch 7/10\n",
      "55/55 [==============================] - 1s 16ms/step - loss: 0.0026 - val_loss: 0.3629\n",
      "Epoch 8/10\n",
      "55/55 [==============================] - 1s 16ms/step - loss: 0.0028 - val_loss: 0.2679\n",
      "Epoch 9/10\n",
      "55/55 [==============================] - 1s 16ms/step - loss: 0.0025 - val_loss: 0.2708\n",
      "Epoch 10/10\n",
      "55/55 [==============================] - 1s 16ms/step - loss: 0.0020 - val_loss: 0.1628\n",
      "0.09353057351113926\n",
      "Now considering window size:  38\n",
      "Epoch 1/10\n",
      "55/55 [==============================] - 3s 23ms/step - loss: 0.1002 - val_loss: 0.0998\n",
      "Epoch 2/10\n",
      "55/55 [==============================] - 1s 18ms/step - loss: 0.0047 - val_loss: 0.2103\n",
      "Epoch 3/10\n",
      "55/55 [==============================] - 1s 18ms/step - loss: 0.0036 - val_loss: 0.4114\n",
      "Epoch 4/10\n",
      "55/55 [==============================] - 1s 18ms/step - loss: 0.0036 - val_loss: 0.8803\n",
      "Epoch 5/10\n",
      "55/55 [==============================] - 1s 18ms/step - loss: 0.0031 - val_loss: 1.0566\n",
      "Epoch 6/10\n",
      "55/55 [==============================] - 1s 18ms/step - loss: 0.0032 - val_loss: 0.5173\n",
      "Epoch 7/10\n",
      "55/55 [==============================] - 1s 18ms/step - loss: 0.0031 - val_loss: 0.5456\n",
      "Epoch 8/10\n",
      "55/55 [==============================] - 1s 18ms/step - loss: 0.0031 - val_loss: 0.6290\n",
      "Epoch 9/10\n",
      "55/55 [==============================] - 1s 18ms/step - loss: 0.0033 - val_loss: 0.6296\n",
      "Epoch 10/10\n",
      "55/55 [==============================] - 1s 18ms/step - loss: 0.0023 - val_loss: 0.7146\n",
      "0.1534190618118855\n",
      "Now considering window size:  39\n",
      "Epoch 1/10\n",
      "54/54 [==============================] - 3s 23ms/step - loss: 0.1209 - val_loss: 0.1903\n",
      "Epoch 2/10\n",
      "54/54 [==============================] - 1s 17ms/step - loss: 0.0049 - val_loss: 0.2245\n",
      "Epoch 3/10\n",
      "54/54 [==============================] - 1s 17ms/step - loss: 0.0043 - val_loss: 0.2701\n",
      "Epoch 4/10\n",
      "54/54 [==============================] - 1s 17ms/step - loss: 0.0042 - val_loss: 0.2398\n",
      "Epoch 5/10\n",
      "54/54 [==============================] - 1s 17ms/step - loss: 0.0034 - val_loss: 0.2995\n",
      "Epoch 6/10\n",
      "54/54 [==============================] - 1s 17ms/step - loss: 0.0034 - val_loss: 0.3016\n",
      "Epoch 7/10\n",
      "54/54 [==============================] - 1s 17ms/step - loss: 0.0037 - val_loss: 0.2741\n",
      "Epoch 8/10\n",
      "54/54 [==============================] - 1s 17ms/step - loss: 0.0030 - val_loss: 0.2486\n",
      "Epoch 9/10\n",
      "54/54 [==============================] - 1s 17ms/step - loss: 0.0025 - val_loss: 0.2465\n",
      "Epoch 10/10\n",
      "54/54 [==============================] - 1s 17ms/step - loss: 0.0025 - val_loss: 0.2699\n",
      "0.11876439375483093\n",
      "Now considering window size:  40\n",
      "Epoch 1/10\n",
      "54/54 [==============================] - 2s 24ms/step - loss: 0.2075 - val_loss: 0.0891\n",
      "Epoch 2/10\n",
      "54/54 [==============================] - 1s 21ms/step - loss: 0.0044 - val_loss: 0.0888\n",
      "Epoch 3/10\n",
      "54/54 [==============================] - 1s 19ms/step - loss: 0.0036 - val_loss: 0.0882\n",
      "Epoch 4/10\n",
      "54/54 [==============================] - 1s 18ms/step - loss: 0.0033 - val_loss: 0.1332\n",
      "Epoch 5/10\n",
      "54/54 [==============================] - 1s 17ms/step - loss: 0.0030 - val_loss: 0.0934\n",
      "Epoch 6/10\n",
      "54/54 [==============================] - 1s 17ms/step - loss: 0.0031 - val_loss: 0.1413\n",
      "Epoch 7/10\n",
      "54/54 [==============================] - 1s 18ms/step - loss: 0.0030 - val_loss: 0.1636\n",
      "Epoch 8/10\n",
      "54/54 [==============================] - 1s 17ms/step - loss: 0.0026 - val_loss: 0.2297\n",
      "Epoch 9/10\n",
      "54/54 [==============================] - 1s 17ms/step - loss: 0.0024 - val_loss: 0.2696\n",
      "Epoch 10/10\n",
      "54/54 [==============================] - 1s 17ms/step - loss: 0.0030 - val_loss: 0.2032\n",
      "0.0827659579009946\n",
      "New min MSE is  0.0827659579009946\n",
      "Now considering window size:  41\n",
      "Epoch 1/10\n",
      "54/54 [==============================] - 3s 26ms/step - loss: 0.1711 - val_loss: 0.3941\n",
      "Epoch 2/10\n",
      "54/54 [==============================] - 1s 19ms/step - loss: 0.0049 - val_loss: 0.3325\n",
      "Epoch 3/10\n",
      "54/54 [==============================] - 1s 20ms/step - loss: 0.0041 - val_loss: 0.3404\n",
      "Epoch 4/10\n"
     ]
    },
    {
     "name": "stdout",
     "output_type": "stream",
     "text": [
      "54/54 [==============================] - 1s 19ms/step - loss: 0.0040 - val_loss: 0.3303\n",
      "Epoch 5/10\n",
      "54/54 [==============================] - 1s 19ms/step - loss: 0.0034 - val_loss: 0.3135\n",
      "Epoch 6/10\n",
      "54/54 [==============================] - 1s 19ms/step - loss: 0.0038 - val_loss: 0.4024\n",
      "Epoch 7/10\n",
      "54/54 [==============================] - 1s 19ms/step - loss: 0.0032 - val_loss: 0.5068\n",
      "Epoch 8/10\n",
      "54/54 [==============================] - 1s 19ms/step - loss: 0.0031 - val_loss: 0.3969\n",
      "Epoch 9/10\n",
      "54/54 [==============================] - 1s 19ms/step - loss: 0.0028 - val_loss: 0.3841\n",
      "Epoch 10/10\n",
      "54/54 [==============================] - 1s 19ms/step - loss: 0.0028 - val_loss: 0.4026\n",
      "0.13037325875496492\n",
      "Now considering window size:  42\n",
      "Epoch 1/10\n",
      "54/54 [==============================] - 3s 26ms/step - loss: 0.2025 - val_loss: 0.3163\n",
      "Epoch 2/10\n",
      "54/54 [==============================] - 1s 19ms/step - loss: 0.0059 - val_loss: 0.2444\n",
      "Epoch 3/10\n",
      "54/54 [==============================] - 1s 19ms/step - loss: 0.0044 - val_loss: 0.2417\n",
      "Epoch 4/10\n",
      "54/54 [==============================] - 1s 19ms/step - loss: 0.0039 - val_loss: 0.2569\n",
      "Epoch 5/10\n",
      "54/54 [==============================] - 1s 19ms/step - loss: 0.0033 - val_loss: 0.2180\n",
      "Epoch 6/10\n",
      "54/54 [==============================] - 1s 19ms/step - loss: 0.0034 - val_loss: 0.1596\n",
      "Epoch 7/10\n",
      "54/54 [==============================] - 1s 19ms/step - loss: 0.0029 - val_loss: 0.1470\n",
      "Epoch 8/10\n",
      "54/54 [==============================] - 1s 19ms/step - loss: 0.0030 - val_loss: 0.1795\n",
      "Epoch 9/10\n",
      "54/54 [==============================] - 1s 21ms/step - loss: 0.0027 - val_loss: 0.1608\n",
      "Epoch 10/10\n",
      "54/54 [==============================] - 1s 21ms/step - loss: 0.0023 - val_loss: 0.1532\n",
      "0.09943944901498272\n",
      "Now considering window size:  43\n",
      "Epoch 1/10\n",
      "54/54 [==============================] - 4s 30ms/step - loss: 0.1218 - val_loss: 0.0312\n",
      "Epoch 2/10\n",
      "54/54 [==============================] - 1s 20ms/step - loss: 0.0044 - val_loss: 0.0672\n",
      "Epoch 3/10\n",
      "54/54 [==============================] - 1s 20ms/step - loss: 0.0036 - val_loss: 0.1538\n",
      "Epoch 4/10\n",
      "54/54 [==============================] - 1s 20ms/step - loss: 0.0035 - val_loss: 0.2695\n",
      "Epoch 5/10\n",
      "54/54 [==============================] - 1s 21ms/step - loss: 0.0035 - val_loss: 0.3058\n",
      "Epoch 6/10\n",
      "54/54 [==============================] - 1s 23ms/step - loss: 0.0028 - val_loss: 0.3383\n",
      "Epoch 7/10\n",
      "54/54 [==============================] - 1s 22ms/step - loss: 0.0026 - val_loss: 0.3915\n",
      "Epoch 8/10\n",
      "54/54 [==============================] - 1s 22ms/step - loss: 0.0025 - val_loss: 0.3112\n",
      "Epoch 9/10\n",
      "54/54 [==============================] - 1s 22ms/step - loss: 0.0022 - val_loss: 0.4311\n",
      "Epoch 10/10\n",
      "54/54 [==============================] - 1s 22ms/step - loss: 0.0028 - val_loss: 0.3206\n",
      "0.11008234296214849\n",
      "Now considering window size:  44\n",
      "Epoch 1/10\n",
      "54/54 [==============================] - 3s 27ms/step - loss: 0.0824 - val_loss: 0.2671\n",
      "Epoch 2/10\n",
      "54/54 [==============================] - 1s 20ms/step - loss: 0.0047 - val_loss: 0.2228\n",
      "Epoch 3/10\n",
      "54/54 [==============================] - 1s 20ms/step - loss: 0.0043 - val_loss: 0.2074\n",
      "Epoch 4/10\n",
      "54/54 [==============================] - 1s 20ms/step - loss: 0.0039 - val_loss: 0.2731\n",
      "Epoch 5/10\n",
      "54/54 [==============================] - 1s 20ms/step - loss: 0.0037 - val_loss: 0.2946\n",
      "Epoch 6/10\n",
      "54/54 [==============================] - 1s 21ms/step - loss: 0.0038 - val_loss: 0.2702\n",
      "Epoch 7/10\n",
      "54/54 [==============================] - 1s 22ms/step - loss: 0.0032 - val_loss: 0.2603\n",
      "Epoch 8/10\n",
      "54/54 [==============================] - 1s 23ms/step - loss: 0.0028 - val_loss: 0.2174\n",
      "Epoch 9/10\n",
      "54/54 [==============================] - 1s 22ms/step - loss: 0.0026 - val_loss: 0.3014\n",
      "Epoch 10/10\n",
      "54/54 [==============================] - 1s 22ms/step - loss: 0.0023 - val_loss: 0.2959\n",
      "0.11973511712367853\n",
      "Now considering window size:  45\n",
      "Epoch 1/10\n",
      "54/54 [==============================] - 3s 29ms/step - loss: 0.0910 - val_loss: 0.4322\n",
      "Epoch 2/10\n",
      "54/54 [==============================] - 1s 22ms/step - loss: 0.0046 - val_loss: 0.3670\n",
      "Epoch 3/10\n",
      "54/54 [==============================] - 1s 22ms/step - loss: 0.0045 - val_loss: 0.2541\n",
      "Epoch 4/10\n",
      "54/54 [==============================] - 1s 22ms/step - loss: 0.0035 - val_loss: 0.2612\n",
      "Epoch 5/10\n",
      "54/54 [==============================] - 1s 23ms/step - loss: 0.0031 - val_loss: 0.2053\n",
      "Epoch 6/10\n",
      "54/54 [==============================] - 1s 23ms/step - loss: 0.0031 - val_loss: 0.2565\n",
      "Epoch 7/10\n",
      "54/54 [==============================] - 1s 22ms/step - loss: 0.0026 - val_loss: 0.2082\n",
      "Epoch 8/10\n",
      "54/54 [==============================] - 1s 22ms/step - loss: 0.0026 - val_loss: 0.2310\n",
      "Epoch 9/10\n",
      "54/54 [==============================] - 1s 22ms/step - loss: 0.0025 - val_loss: 0.2226\n",
      "Epoch 10/10\n",
      "54/54 [==============================] - 1s 22ms/step - loss: 0.0026 - val_loss: 0.2798\n",
      "0.1057946047043217\n",
      "Now considering window size:  46\n",
      "Epoch 1/10\n",
      "54/54 [==============================] - 3s 29ms/step - loss: 0.1116 - val_loss: 0.1218\n",
      "Epoch 2/10\n",
      "54/54 [==============================] - 1s 22ms/step - loss: 0.0053 - val_loss: 0.0896\n",
      "Epoch 3/10\n",
      "54/54 [==============================] - 1s 22ms/step - loss: 0.0041 - val_loss: 0.0877\n",
      "Epoch 4/10\n",
      "54/54 [==============================] - 1s 22ms/step - loss: 0.0040 - val_loss: 0.0754\n",
      "Epoch 5/10\n",
      "54/54 [==============================] - 1s 22ms/step - loss: 0.0038 - val_loss: 0.0639\n",
      "Epoch 6/10\n",
      "54/54 [==============================] - 1s 22ms/step - loss: 0.0032 - val_loss: 0.0548\n",
      "Epoch 7/10\n",
      "54/54 [==============================] - 1s 22ms/step - loss: 0.0027 - val_loss: 0.0517\n",
      "Epoch 8/10\n",
      "54/54 [==============================] - 1s 22ms/step - loss: 0.0026 - val_loss: 0.1278\n",
      "Epoch 9/10\n",
      "54/54 [==============================] - 1s 23ms/step - loss: 0.0030 - val_loss: 0.0871\n",
      "Epoch 10/10\n",
      "54/54 [==============================] - 1s 22ms/step - loss: 0.0027 - val_loss: 0.0818\n",
      "0.08130490568931126\n",
      "New min MSE is  0.08130490568931126\n",
      "Now considering window size:  47\n",
      "Epoch 1/10\n",
      "54/54 [==============================] - 3s 28ms/step - loss: 0.0965 - val_loss: 0.2470\n",
      "Epoch 2/10\n",
      "54/54 [==============================] - 1s 22ms/step - loss: 0.0043 - val_loss: 0.1971\n",
      "Epoch 3/10\n",
      "54/54 [==============================] - 1s 22ms/step - loss: 0.0037 - val_loss: 0.1750\n",
      "Epoch 4/10\n",
      "54/54 [==============================] - 1s 22ms/step - loss: 0.0038 - val_loss: 0.1386\n",
      "Epoch 5/10\n",
      "54/54 [==============================] - 1s 22ms/step - loss: 0.0038 - val_loss: 0.1717\n",
      "Epoch 6/10\n",
      "54/54 [==============================] - 1s 22ms/step - loss: 0.0034 - val_loss: 0.1033\n",
      "Epoch 7/10\n",
      "54/54 [==============================] - 1s 23ms/step - loss: 0.0028 - val_loss: 0.1404\n",
      "Epoch 8/10\n",
      "54/54 [==============================] - 1s 23ms/step - loss: 0.0024 - val_loss: 0.1283\n",
      "Epoch 9/10\n",
      "54/54 [==============================] - 1s 23ms/step - loss: 0.0025 - val_loss: 0.1024\n",
      "Epoch 10/10\n",
      "54/54 [==============================] - 1s 23ms/step - loss: 0.0025 - val_loss: 0.0990\n",
      "0.07919045116002157\n",
      "New min MSE is  0.07919045116002157\n",
      "Now considering window size:  48\n",
      "Epoch 1/10\n",
      "54/54 [==============================] - 3s 27ms/step - loss: 0.1814 - val_loss: 0.1945\n",
      "Epoch 2/10\n",
      "54/54 [==============================] - 1s 20ms/step - loss: 0.0049 - val_loss: 0.1790\n",
      "Epoch 3/10\n",
      "54/54 [==============================] - 1s 21ms/step - loss: 0.0042 - val_loss: 0.1783\n",
      "Epoch 4/10\n",
      "54/54 [==============================] - 1s 21ms/step - loss: 0.0035 - val_loss: 0.1806\n",
      "Epoch 5/10\n",
      "54/54 [==============================] - 1s 21ms/step - loss: 0.0030 - val_loss: 0.1653\n",
      "Epoch 6/10\n",
      "54/54 [==============================] - 1s 21ms/step - loss: 0.0033 - val_loss: 0.1602\n",
      "Epoch 7/10\n",
      "54/54 [==============================] - 1s 21ms/step - loss: 0.0029 - val_loss: 0.1412\n",
      "Epoch 8/10\n",
      "54/54 [==============================] - 1s 21ms/step - loss: 0.0024 - val_loss: 0.1483\n",
      "Epoch 9/10\n",
      "54/54 [==============================] - 1s 21ms/step - loss: 0.0030 - val_loss: 0.1403\n",
      "Epoch 10/10\n",
      "54/54 [==============================] - 1s 21ms/step - loss: 0.0031 - val_loss: 0.1249\n",
      "0.10318715155895974\n",
      "Now considering window size:  49\n",
      "Epoch 1/10\n",
      "54/54 [==============================] - 3s 29ms/step - loss: 0.1132 - val_loss: 0.2356\n"
     ]
    },
    {
     "name": "stdout",
     "output_type": "stream",
     "text": [
      "Epoch 2/10\n",
      "54/54 [==============================] - 1s 23ms/step - loss: 0.0041 - val_loss: 0.2516\n",
      "Epoch 3/10\n",
      "54/54 [==============================] - 1s 23ms/step - loss: 0.0039 - val_loss: 0.5526\n",
      "Epoch 4/10\n",
      "54/54 [==============================] - 1s 23ms/step - loss: 0.0036 - val_loss: 1.1860\n",
      "Epoch 5/10\n",
      "54/54 [==============================] - 1s 24ms/step - loss: 0.0034 - val_loss: 1.0968\n",
      "Epoch 6/10\n",
      "54/54 [==============================] - 1s 24ms/step - loss: 0.0028 - val_loss: 1.3034\n",
      "Epoch 7/10\n",
      "54/54 [==============================] - 1s 23ms/step - loss: 0.0029 - val_loss: 1.4340\n",
      "Epoch 8/10\n",
      "54/54 [==============================] - 1s 23ms/step - loss: 0.0029 - val_loss: 1.3995\n",
      "Epoch 9/10\n",
      "54/54 [==============================] - 1s 23ms/step - loss: 0.0023 - val_loss: 1.4523\n",
      "Epoch 10/10\n",
      "54/54 [==============================] - 1s 23ms/step - loss: 0.0026 - val_loss: 1.4849\n",
      "0.1971229327682939\n",
      "Now considering window size:  50\n",
      "Epoch 1/10\n",
      "54/54 [==============================] - 3s 29ms/step - loss: 0.1423 - val_loss: 0.6873\n",
      "Epoch 2/10\n",
      "54/54 [==============================] - 1s 23ms/step - loss: 0.0050 - val_loss: 0.9215\n",
      "Epoch 3/10\n",
      "54/54 [==============================] - 1s 23ms/step - loss: 0.0048 - val_loss: 1.6414\n",
      "Epoch 4/10\n",
      "54/54 [==============================] - 1s 22ms/step - loss: 0.0039 - val_loss: 1.5947\n",
      "Epoch 5/10\n",
      "54/54 [==============================] - 1s 22ms/step - loss: 0.0033 - val_loss: 2.1912\n",
      "Epoch 6/10\n",
      "54/54 [==============================] - 1s 22ms/step - loss: 0.0031 - val_loss: 2.7432\n",
      "Epoch 7/10\n",
      "54/54 [==============================] - 1s 23ms/step - loss: 0.0030 - val_loss: 4.6054\n",
      "Epoch 8/10\n",
      "54/54 [==============================] - 1s 23ms/step - loss: 0.0033 - val_loss: 1.7608\n",
      "Epoch 9/10\n",
      "54/54 [==============================] - 1s 23ms/step - loss: 0.0026 - val_loss: 4.8132\n",
      "Epoch 10/10\n",
      "54/54 [==============================] - 1s 23ms/step - loss: 0.0024 - val_loss: 5.5705\n",
      "1.440985803866229\n",
      "Now considering window size:  51\n",
      "Epoch 1/10\n",
      "54/54 [==============================] - 3s 27ms/step - loss: 0.1022 - val_loss: 0.2356\n",
      "Epoch 2/10\n",
      "54/54 [==============================] - 1s 21ms/step - loss: 0.0054 - val_loss: 0.2535\n",
      "Epoch 3/10\n",
      "54/54 [==============================] - 1s 21ms/step - loss: 0.0041 - val_loss: 0.4176\n",
      "Epoch 4/10\n",
      "54/54 [==============================] - 1s 21ms/step - loss: 0.0037 - val_loss: 0.6046\n",
      "Epoch 5/10\n",
      "54/54 [==============================] - 1s 21ms/step - loss: 0.0036 - val_loss: 0.4030\n",
      "Epoch 6/10\n",
      "54/54 [==============================] - 1s 21ms/step - loss: 0.0033 - val_loss: 0.4284\n",
      "Epoch 7/10\n",
      "54/54 [==============================] - 1s 21ms/step - loss: 0.0030 - val_loss: 0.5622\n",
      "Epoch 8/10\n",
      "54/54 [==============================] - 1s 21ms/step - loss: 0.0029 - val_loss: 0.3458\n",
      "Epoch 9/10\n",
      "54/54 [==============================] - 1s 21ms/step - loss: 0.0029 - val_loss: 0.4731\n",
      "Epoch 10/10\n",
      "54/54 [==============================] - 1s 22ms/step - loss: 0.0028 - val_loss: 0.3289\n",
      "0.1275972682295375\n",
      "Now considering window size:  52\n",
      "Epoch 1/10\n",
      "54/54 [==============================] - 3s 31ms/step - loss: 0.1058 - val_loss: 0.2290\n",
      "Epoch 2/10\n",
      "54/54 [==============================] - 1s 25ms/step - loss: 0.0048 - val_loss: 0.1299\n",
      "Epoch 3/10\n",
      "54/54 [==============================] - 1s 25ms/step - loss: 0.0037 - val_loss: 0.1175\n",
      "Epoch 4/10\n",
      "54/54 [==============================] - 1s 25ms/step - loss: 0.0036 - val_loss: 0.1128\n",
      "Epoch 5/10\n",
      "54/54 [==============================] - 1s 25ms/step - loss: 0.0037 - val_loss: 0.1934\n",
      "Epoch 6/10\n",
      "54/54 [==============================] - 1s 25ms/step - loss: 0.0034 - val_loss: 0.1576\n",
      "Epoch 7/10\n",
      "54/54 [==============================] - 1s 25ms/step - loss: 0.0030 - val_loss: 0.2129\n",
      "Epoch 8/10\n",
      "54/54 [==============================] - 1s 25ms/step - loss: 0.0029 - val_loss: 0.2411\n",
      "Epoch 9/10\n",
      "54/54 [==============================] - 1s 25ms/step - loss: 0.0024 - val_loss: 0.1399\n",
      "Epoch 10/10\n",
      "54/54 [==============================] - 1s 25ms/step - loss: 0.0028 - val_loss: 0.1678\n",
      "0.09230733534556744\n",
      "Now considering window size:  53\n",
      "Epoch 1/10\n",
      "54/54 [==============================] - 3s 33ms/step - loss: 0.0541 - val_loss: 0.3474\n",
      "Epoch 2/10\n",
      "54/54 [==============================] - 1s 25ms/step - loss: 0.0051 - val_loss: 0.6103\n",
      "Epoch 3/10\n",
      "54/54 [==============================] - 1s 25ms/step - loss: 0.0040 - val_loss: 0.5760\n",
      "Epoch 4/10\n",
      "54/54 [==============================] - 1s 25ms/step - loss: 0.0037 - val_loss: 0.4686\n",
      "Epoch 5/10\n",
      "54/54 [==============================] - 1s 25ms/step - loss: 0.0036 - val_loss: 0.4458\n",
      "Epoch 6/10\n",
      "54/54 [==============================] - 1s 25ms/step - loss: 0.0030 - val_loss: 1.1797\n",
      "Epoch 7/10\n",
      "54/54 [==============================] - 1s 25ms/step - loss: 0.0027 - val_loss: 0.3544\n",
      "Epoch 8/10\n",
      "54/54 [==============================] - 1s 25ms/step - loss: 0.0028 - val_loss: 1.6985\n",
      "Epoch 9/10\n",
      "54/54 [==============================] - 1s 25ms/step - loss: 0.0028 - val_loss: 0.4545\n",
      "Epoch 10/10\n",
      "54/54 [==============================] - 1s 25ms/step - loss: 0.0028 - val_loss: 0.4007\n",
      "0.14101750572095675\n",
      "Now considering window size:  54\n",
      "Epoch 1/10\n",
      "54/54 [==============================] - 3s 31ms/step - loss: 0.1720 - val_loss: 0.1314\n",
      "Epoch 2/10\n",
      "54/54 [==============================] - 1s 25ms/step - loss: 0.0047 - val_loss: 0.3416\n",
      "Epoch 3/10\n",
      "54/54 [==============================] - 1s 25ms/step - loss: 0.0040 - val_loss: 0.5080\n",
      "Epoch 4/10\n",
      "54/54 [==============================] - 1s 24ms/step - loss: 0.0038 - val_loss: 0.3510\n",
      "Epoch 5/10\n",
      "54/54 [==============================] - 1s 24ms/step - loss: 0.0034 - val_loss: 0.3645\n",
      "Epoch 6/10\n",
      "54/54 [==============================] - 1s 24ms/step - loss: 0.0031 - val_loss: 0.3158\n",
      "Epoch 7/10\n",
      "54/54 [==============================] - 1s 25ms/step - loss: 0.0033 - val_loss: 0.1964\n",
      "Epoch 8/10\n",
      "54/54 [==============================] - 1s 25ms/step - loss: 0.0033 - val_loss: 0.2526\n",
      "Epoch 9/10\n",
      "54/54 [==============================] - 1s 25ms/step - loss: 0.0025 - val_loss: 0.2228\n",
      "Epoch 10/10\n",
      "54/54 [==============================] - 1s 25ms/step - loss: 0.0023 - val_loss: 0.4208\n",
      "0.1546776104162612\n",
      "Now considering window size:  55\n",
      "Epoch 1/10\n",
      "54/54 [==============================] - 4s 33ms/step - loss: 0.0938 - val_loss: 0.7221\n",
      "Epoch 2/10\n",
      "54/54 [==============================] - 1s 27ms/step - loss: 0.0040 - val_loss: 0.4887\n",
      "Epoch 3/10\n",
      "54/54 [==============================] - 2s 28ms/step - loss: 0.0039 - val_loss: 0.3849\n",
      "Epoch 4/10\n",
      "54/54 [==============================] - 2s 28ms/step - loss: 0.0033 - val_loss: 0.1871\n",
      "Epoch 5/10\n",
      "54/54 [==============================] - 1s 27ms/step - loss: 0.0036 - val_loss: 0.1732\n",
      "Epoch 6/10\n",
      "54/54 [==============================] - 1s 27ms/step - loss: 0.0033 - val_loss: 0.1686\n",
      "Epoch 7/10\n",
      "54/54 [==============================] - 1s 27ms/step - loss: 0.0027 - val_loss: 0.1520\n",
      "Epoch 8/10\n",
      "54/54 [==============================] - 1s 27ms/step - loss: 0.0026 - val_loss: 0.1553\n",
      "Epoch 9/10\n",
      "54/54 [==============================] - 1s 27ms/step - loss: 0.0023 - val_loss: 0.1278\n",
      "Epoch 10/10\n",
      "54/54 [==============================] - 1s 27ms/step - loss: 0.0025 - val_loss: 0.1250\n",
      "0.08830639960122855\n",
      "Now considering window size:  56\n",
      "Epoch 1/10\n",
      "54/54 [==============================] - 3s 32ms/step - loss: 0.0927 - val_loss: 0.2237\n",
      "Epoch 2/10\n",
      "54/54 [==============================] - 1s 26ms/step - loss: 0.0052 - val_loss: 0.2341\n",
      "Epoch 3/10\n",
      "54/54 [==============================] - 1s 26ms/step - loss: 0.0041 - val_loss: 0.1817\n",
      "Epoch 4/10\n",
      "54/54 [==============================] - 1s 26ms/step - loss: 0.0035 - val_loss: 0.1396\n",
      "Epoch 5/10\n",
      "54/54 [==============================] - 1s 26ms/step - loss: 0.0036 - val_loss: 0.1993\n",
      "Epoch 6/10\n",
      "54/54 [==============================] - 1s 26ms/step - loss: 0.0033 - val_loss: 0.1911\n",
      "Epoch 7/10\n",
      "54/54 [==============================] - 1s 26ms/step - loss: 0.0027 - val_loss: 0.2286\n",
      "Epoch 8/10\n",
      "54/54 [==============================] - 1s 26ms/step - loss: 0.0034 - val_loss: 0.2129\n",
      "Epoch 9/10\n",
      "54/54 [==============================] - 1s 26ms/step - loss: 0.0025 - val_loss: 0.1844\n",
      "Epoch 10/10\n",
      "54/54 [==============================] - 1s 26ms/step - loss: 0.0029 - val_loss: 0.2242\n"
     ]
    },
    {
     "name": "stdout",
     "output_type": "stream",
     "text": [
      "0.12111220595686895\n",
      "Now considering window size:  57\n",
      "Epoch 1/10\n",
      "54/54 [==============================] - 3s 34ms/step - loss: 0.1394 - val_loss: 0.1066\n",
      "Epoch 2/10\n",
      "54/54 [==============================] - 2s 28ms/step - loss: 0.0052 - val_loss: 0.2079\n",
      "Epoch 3/10\n",
      "54/54 [==============================] - 2s 28ms/step - loss: 0.0044 - val_loss: 0.3926\n",
      "Epoch 4/10\n",
      "54/54 [==============================] - 2s 28ms/step - loss: 0.0036 - val_loss: 0.5803\n",
      "Epoch 5/10\n",
      "54/54 [==============================] - 1s 28ms/step - loss: 0.0038 - val_loss: 0.7188\n",
      "Epoch 6/10\n",
      "54/54 [==============================] - 1s 28ms/step - loss: 0.0032 - val_loss: 1.2523\n",
      "Epoch 7/10\n",
      "54/54 [==============================] - 2s 28ms/step - loss: 0.0028 - val_loss: 0.7591\n",
      "Epoch 8/10\n",
      "54/54 [==============================] - 2s 28ms/step - loss: 0.0027 - val_loss: 0.6917\n",
      "Epoch 9/10\n",
      "54/54 [==============================] - 2s 28ms/step - loss: 0.0029 - val_loss: 0.6744\n",
      "Epoch 10/10\n",
      "54/54 [==============================] - 2s 28ms/step - loss: 0.0026 - val_loss: 0.6399\n",
      "0.2097710251405972\n",
      "Now considering window size:  58\n",
      "Epoch 1/10\n",
      "54/54 [==============================] - 4s 35ms/step - loss: 0.1373 - val_loss: 0.3294\n",
      "Epoch 2/10\n",
      "54/54 [==============================] - 1s 27ms/step - loss: 0.0054 - val_loss: 0.3279\n",
      "Epoch 3/10\n",
      "54/54 [==============================] - 2s 28ms/step - loss: 0.0045 - val_loss: 0.3062\n",
      "Epoch 4/10\n",
      "54/54 [==============================] - 2s 28ms/step - loss: 0.0041 - val_loss: 0.2933\n",
      "Epoch 5/10\n",
      "54/54 [==============================] - 2s 28ms/step - loss: 0.0037 - val_loss: 0.2539\n",
      "Epoch 6/10\n",
      "54/54 [==============================] - 2s 29ms/step - loss: 0.0032 - val_loss: 0.3258\n",
      "Epoch 7/10\n",
      "54/54 [==============================] - 2s 28ms/step - loss: 0.0036 - val_loss: 0.2892\n",
      "Epoch 8/10\n",
      "54/54 [==============================] - 2s 28ms/step - loss: 0.0027 - val_loss: 0.1925\n",
      "Epoch 9/10\n",
      "54/54 [==============================] - 2s 29ms/step - loss: 0.0030 - val_loss: 0.1849\n",
      "Epoch 10/10\n",
      "54/54 [==============================] - 2s 29ms/step - loss: 0.0024 - val_loss: 0.1821\n",
      "0.10524172529929476\n",
      "Now considering window size:  59\n",
      "Epoch 1/10\n",
      "54/54 [==============================] - 3s 35ms/step - loss: 0.0731 - val_loss: 0.1026\n",
      "Epoch 2/10\n",
      "54/54 [==============================] - 1s 27ms/step - loss: 0.0046 - val_loss: 0.1764\n",
      "Epoch 3/10\n",
      "54/54 [==============================] - 1s 27ms/step - loss: 0.0042 - val_loss: 0.2625\n",
      "Epoch 4/10\n",
      "54/54 [==============================] - 1s 27ms/step - loss: 0.0033 - val_loss: 0.2947\n",
      "Epoch 5/10\n",
      "54/54 [==============================] - 1s 27ms/step - loss: 0.0035 - val_loss: 0.3214\n",
      "Epoch 6/10\n",
      "54/54 [==============================] - 1s 28ms/step - loss: 0.0036 - val_loss: 0.3998\n",
      "Epoch 7/10\n",
      "54/54 [==============================] - 1s 28ms/step - loss: 0.0028 - val_loss: 0.3009\n",
      "Epoch 8/10\n",
      "54/54 [==============================] - 1s 28ms/step - loss: 0.0028 - val_loss: 0.3321\n",
      "Epoch 9/10\n",
      "54/54 [==============================] - 1s 28ms/step - loss: 0.0029 - val_loss: 0.2890\n",
      "Epoch 10/10\n",
      "54/54 [==============================] - 2s 29ms/step - loss: 0.0026 - val_loss: 0.3508\n",
      "0.13811665426882372\n",
      "Now considering window size:  60\n",
      "Epoch 1/10\n",
      "54/54 [==============================] - 4s 36ms/step - loss: 0.1204 - val_loss: 0.2750\n",
      "Epoch 2/10\n",
      "54/54 [==============================] - 2s 29ms/step - loss: 0.0049 - val_loss: 0.1982\n",
      "Epoch 3/10\n",
      "54/54 [==============================] - 2s 29ms/step - loss: 0.0043 - val_loss: 0.2416\n",
      "Epoch 4/10\n",
      "54/54 [==============================] - 2s 29ms/step - loss: 0.0040 - val_loss: 0.2681\n",
      "Epoch 5/10\n",
      "54/54 [==============================] - 2s 29ms/step - loss: 0.0034 - val_loss: 0.2971\n",
      "Epoch 6/10\n",
      "54/54 [==============================] - 2s 29ms/step - loss: 0.0033 - val_loss: 0.2377\n",
      "Epoch 7/10\n",
      "54/54 [==============================] - 2s 29ms/step - loss: 0.0034 - val_loss: 0.2761\n",
      "Epoch 8/10\n",
      "54/54 [==============================] - 2s 29ms/step - loss: 0.0033 - val_loss: 0.2286\n",
      "Epoch 9/10\n",
      "54/54 [==============================] - 2s 29ms/step - loss: 0.0031 - val_loss: 0.1702\n",
      "Epoch 10/10\n",
      "54/54 [==============================] - 2s 29ms/step - loss: 0.0028 - val_loss: 0.1692\n",
      "0.1013964273763401\n"
     ]
    }
   ],
   "source": [
    "for i in range(10,max_window_size + 1):\n",
    "    print(\"Now considering window size: \", i)\n",
    "    #Consider past minute to hour of performance to predict the next minute\n",
    "    X_train = []; X_test = []\n",
    "    Y_train = []; Y_test = []\n",
    "\n",
    "    previous_periods = i; future_periods = 1;\n",
    "    for index in range(previous_periods, len(train) - future_periods + 1):\n",
    "        if index >= len(train) - previous_periods:\n",
    "            X_test.append(train_transformed[index - previous_periods : index, 0 : train.shape[1]-1])\n",
    "            Y_test.append(train_transformed[index + future_periods - 1 : index + future_periods, 4])\n",
    "        X_train.append(train_transformed[index - previous_periods : index, 0 : train.shape[1]-1])\n",
    "        Y_train.append(train_transformed[index + future_periods - 1 : index + future_periods, 4]) #3 for index of Close\n",
    "    \n",
    "    X_train = np.array(X_train)\n",
    "    Y_train = np.array(Y_train)\n",
    "\n",
    "    for index in range(previous_periods, len(test) - future_periods + 1):\n",
    "        X_test.append(test_transformed[index - previous_periods : index, 0 : test.shape[1]-1])\n",
    "        Y_test.append(test_transformed[index + future_periods - 1 : index + future_periods, 4]) #3 for index of Close\n",
    "    \n",
    "    X_test = np.array(X_test)\n",
    "    Y_test = np.array(Y_test)\n",
    "    \n",
    "    #LSTM model for time series forecasting\n",
    "    model = Sequential()\n",
    "    model.add(tf.keras.layers.LSTM(64, input_shape = (X_train.shape[1], X_train.shape[2]), return_sequences = True, activation = 'relu'))\n",
    "    model.add(tf.keras.layers.LSTM(32, return_sequences = False))\n",
    "    model.add(tf.keras.layers.Dense(Y_train.shape[1]))\n",
    "\n",
    "    #early_stopping = tf.keras.callbacks.EarlyStopping(monitor = \"val_loss\", patience = 5)\n",
    "\n",
    "    model.compile(optimizer=\"adam\", loss=\"mse\")\n",
    "    #model.summary()\n",
    "    \n",
    "    #Train model\n",
    "    history = model.fit(X_train, Y_train, epochs = 10, batch_size = 32, validation_split = 0.2, verbose = 1)#, callbacks = [early_stopping])\n",
    "    \n",
    "    compare = mean_squared_error(model.predict(X_test), Y_test)\n",
    "    print(compare)\n",
    "    \n",
    "    if compare < min_mse:\n",
    "        min_mse = compare\n",
    "        print(\"New min MSE is \", min_mse)\n",
    "        model.save(\"best_LSTM.h5\")\n",
    "        best_window_size = i\n",
    "    "
   ]
  },
  {
   "cell_type": "code",
   "execution_count": 4,
   "metadata": {},
   "outputs": [
    {
     "name": "stdout",
     "output_type": "stream",
     "text": [
      "The best window size is:  47\n",
      "WARNING:tensorflow:Model was constructed with shape (None, 47, 5) for input KerasTensor(type_spec=TensorSpec(shape=(None, 47, 5), dtype=tf.float32, name='lstm_74_input'), name='lstm_74_input', description=\"created by layer 'lstm_74_input'\"), but it was called on an input with incompatible shape (None, 60, 5).\n",
      "[123.30662  123.31083  123.311165 123.313614 123.31879  123.32369\n",
      " 123.31621  123.30796  123.3077   123.33659  123.36135  123.39026\n",
      " 123.411865 123.41992  123.42355  123.39426  123.381424 123.3747\n",
      " 123.372154 123.38884  123.40394  123.415596 123.4205   123.41936\n",
      " 123.41948  123.42692  123.43038  123.43229  123.433586 123.44906\n",
      " 123.45861  123.46478  123.4702   123.47627  123.47978  123.4817\n",
      " 123.4819   123.48568  123.484955 123.49431  123.50578  123.51357\n",
      " 123.52089  123.53186  123.54351  123.54229  123.54169  123.54272\n",
      " 123.54336  123.54532  123.54876  123.55826  123.57624  123.586525\n",
      " 123.596466 123.60431  123.602974 123.600266 123.6002   123.5935\n",
      " 124.64574  124.704865 124.76789  124.8235   124.867355 124.91113\n",
      " 124.95712  125.009254 125.05096  125.08712  125.122925 125.15738\n",
      " 125.19461  125.22886  125.26818  125.3173   125.37079  125.40583\n",
      " 125.4421   125.47873  125.504295 125.52769  125.55228  125.580696\n",
      " 125.62908  125.70872  125.78623  125.84328  125.90793  125.98042\n",
      " 126.05682  126.124    126.18991  126.239105 126.25765  126.27294\n",
      " 126.28081  126.29107  126.28288  126.27435  126.209755 126.21695\n",
      " 126.22329  126.26077  126.31033  126.35557  126.37653  126.39904\n",
      " 126.36375  126.33322  126.289604 126.25713  126.24455  126.23898\n",
      " 126.20863  126.18556  126.17752  126.16484  126.11884  126.04111\n",
      " 126.00602  126.02235  126.07631  126.10863  126.14596  126.17355\n",
      " 126.14211  126.101234 126.084915 126.04011  125.98473  125.91047\n",
      " 125.87304  125.858826 125.87731  125.81291  125.33897  125.15109\n",
      " 124.85661  124.5651   124.39977  124.304756 124.19504  124.114044\n",
      " 124.09478  124.10415  124.05358  124.0158   124.03283  124.0358\n",
      " 124.002174 123.97327  123.98738  124.04412  124.10639  124.12399\n",
      " 124.09756  124.00813  123.92598  123.86744  123.81014  123.77111\n",
      " 123.779335 123.741615 123.66805  123.60164  123.52036  123.49844\n",
      " 123.3146   123.22273  123.16329  123.15203  123.177765 123.198654\n",
      " 123.22409  123.25348  123.308044 123.33403  123.34706  123.346596\n",
      " 123.359276 123.36354  123.4088   123.43974  123.47689  123.52615\n",
      " 123.57864  123.6075   123.65959  123.71984  123.76772  123.82127\n",
      " 123.852005 123.88419  123.92605  123.913795 123.89223  123.91462\n",
      " 123.96315  123.99172  123.99698  123.98274  123.94619  123.8705\n",
      " 123.81784  123.79358  123.7626   123.74211  123.73446  123.743256\n",
      " 123.76173  123.77107  123.79452  123.8213   123.833954 123.84757\n",
      " 123.826805 123.81161  123.8098   123.84086  123.90386  123.99511\n",
      " 124.101234 124.20056  124.262726 124.29876  124.32106  124.32969\n",
      " 124.3081   124.267586 124.22774  124.179306 124.16195  124.10482\n",
      " 124.06199  124.0446   124.06883  124.12839  124.20086  124.26246\n",
      " 124.32854  124.40643  124.47761  124.52855  124.56868  124.60795\n",
      " 124.64267  124.669136 124.67797  124.68058  124.7054   124.74047\n",
      " 124.75885  124.75854  124.732445 124.70776  124.6949   124.69902\n",
      " 124.71292  124.733925 124.75176  124.76203  124.77509  124.78519\n",
      " 124.78241  124.74667  124.698166 124.62882  124.54663  124.45212\n",
      " 124.369705 124.32538  124.32655  124.36775  124.43821  124.513916\n",
      " 124.59673  124.6727   124.728745 124.76963  124.75053  124.71441\n",
      " 124.67735  124.66193  124.64693  124.63797  124.65129  124.68678\n",
      " 124.74275  124.80336  124.84474  124.86321  124.8751   124.87594\n",
      " 124.87161  124.86119  124.8452   124.82378  124.812225 124.81131\n",
      " 124.8037   124.7999   124.80921  124.82316  124.84529  124.86938\n",
      " 124.89639  124.91898  124.92925  124.93071  124.93396  124.93571\n",
      " 124.94172  124.94724  124.96043  124.980774 124.99252  125.000435\n",
      " 125.00798  125.01193  125.00873  125.008514 125.01583  125.02673\n",
      " 125.03304  125.0156   124.9786   124.94023  124.90876  124.86285\n",
      " 124.82894  124.80869  124.78986  124.768135 124.74939  124.7364\n",
      " 124.744835 124.76889  124.769554 124.7387   124.691086 124.65142\n",
      " 124.607704 124.572174 124.53839  124.489105 124.41949  124.34206\n",
      " 124.27015  124.180664 124.10545  124.05151  124.03412  124.03376\n",
      " 124.057945 124.10124  124.15269  124.197395 124.22902  124.27117\n",
      " 124.31279  124.337944 124.36223  124.36756  124.35322  124.317726\n",
      " 124.2935   124.28938  124.30719  124.34252  124.38384  124.42936\n",
      " 124.46614  124.49382  124.51037  124.52722  124.56505  124.626755\n",
      " 124.694    124.76741  124.84915  124.91141  124.959175 124.9888\n",
      " 125.004265 124.98078  124.94777  124.916435 124.893456 124.869995\n",
      " 124.85269  124.82699  124.798035 124.76356  124.73767  124.72981\n",
      " 124.75189  124.78744  124.8181   124.83617  124.85122  124.86185\n",
      " 124.86777  124.85555  124.84752  124.839676 124.83749  124.83346\n",
      " 124.822044 124.80692  124.76537  124.705215 124.63905  124.58955\n",
      " 124.563675 124.559204 124.55763  124.55331  124.54411  124.51254\n",
      " 124.48651  124.473145 124.46038  124.44842  124.454735 124.48037\n",
      " 124.5056   124.5239   124.51162  124.50294  124.49094  124.49466\n",
      " 124.51317  124.52638  124.52876  124.533424 124.5459   124.534004\n",
      " 124.50019  124.47184  124.46276  124.46036  124.463196 124.473656\n",
      " 124.49208  124.52545  124.563034 124.60389  124.63985  124.66494\n",
      " 124.66601  124.63733  124.60862  124.58698  124.55465  124.52942\n",
      " 124.51348  124.51764  124.525604 124.52781  124.52627  124.53601\n",
      " 124.54688  124.55201  124.546974 124.546036 124.55243  124.53914\n",
      " 124.50227  124.47867  124.465256 124.4497   124.44054  124.43897\n",
      " 124.42695  124.39246  124.35959  124.34468  124.34535  124.363335\n",
      " 124.392586 124.430565 124.45533  124.46666  124.45909  124.43878\n",
      " 124.41984  124.42028  124.44636  124.48069  124.51125  124.55978\n",
      " 124.61867  124.68348  124.749245 124.802505 124.84438  124.86482\n",
      " 124.871895 124.88454  124.91476  124.948326 124.98553  125.0194\n",
      " 125.050095 125.05741  125.05118  125.02568  124.976654 124.928505\n",
      " 124.893814 124.86998  124.853745 124.84593  124.84741  124.86323\n",
      " 124.89141  124.9392   124.977516 125.015854 125.05925  125.11142\n",
      " 125.17055  125.21186 ]\n"
     ]
    }
   ],
   "source": [
    "#Use best model for prediction\n",
    "print(\"The best window size is: \", best_window_size)\n",
    "best_model = tf.keras.models.load_model(\"best_LSTM_window.h5\")\n",
    "\n",
    "prediction = best_model.predict(X_test)\n",
    "\n",
    "copy = np.repeat(prediction, train.shape[1], axis = -1)\n",
    "prediction = scaler2.inverse_transform(copy)[:,0]\n",
    "print(prediction)"
   ]
  },
  {
   "cell_type": "code",
   "execution_count": 5,
   "metadata": {},
   "outputs": [
    {
     "data": {
      "image/png": "[encoded data removed]",
      "text/plain": [
       "<Figure size 432x288 with 1 Axes>"
      ]
     },
     "metadata": {
      "needs_background": "light"
     },
     "output_type": "display_data"
    }
   ],
   "source": [
    "#Overall Forecasting\n",
    "train_length = train.shape[0]\n",
    "test_length = test.shape[0]\n",
    "plt.plot(np.arange(train_length), train[[\"Close\"]], color = 'blue')\n",
    "plt.plot(np.arange(train_length, train_length + test_length), test[[\"Close\"]], color=\"green\")\n",
    "plt.plot(np.arange(train_length, train_length + test_length), prediction)\n",
    "plt.show()"
   ]
  },
  {
   "cell_type": "code",
   "execution_count": 7,
   "metadata": {},
   "outputs": [
    {
     "data": {
      "image/png": "[encoded data removed]",
      "text/plain": [
       "<Figure size 432x288 with 1 Axes>"
      ]
     },
     "metadata": {
      "needs_background": "light"
     },
     "output_type": "display_data"
    }
   ],
   "source": [
    "#Forecasting for predicted time period\n",
    "plt.plot(np.arange(train_length, train_length + test_length), test[[\"Close\"]], color=\"green\")\n",
    "plt.show()"
   ]
  },
  {
   "cell_type": "code",
   "execution_count": 8,
   "metadata": {},
   "outputs": [
    {
     "data": {
      "text/plain": [
       "[<matplotlib.lines.Line2D at 0x2b6a4c0dd88>]"
      ]
     },
     "execution_count": 8,
     "metadata": {},
     "output_type": "execute_result"
    },
    {
     "data": {
      "image/png": "[encoded data removed]",
      "text/plain": [
       "<Figure size 432x288 with 1 Axes>"
      ]
     },
     "metadata": {
      "needs_background": "light"
     },
     "output_type": "display_data"
    }
   ],
   "source": [
    "plt.plot(np.arange(train_length, train_length + test_length), prediction)"
   ]
  },
  {
   "cell_type": "markdown",
   "metadata": {},
   "source": [
    "# Training LSTM on all S&P 500 daily stock data"
   ]
  },
  {
   "cell_type": "code",
   "execution_count": 29,
   "metadata": {},
   "outputs": [],
   "source": [
    "list_of_tickers = ['MMM', 'ABT', 'ABBV', 'ABMD', 'ACN', 'ATVI', 'ADBE', 'AMD', 'AAP', 'AES', 'AFL', 'A', 'APD', 'AKAM', 'ALK', 'ALB', 'ARE', 'ALXN', 'ALGN', 'ALLE', 'LNT', 'ALL', 'GOOGL', 'GOOG', 'MO', 'AMZN', 'AMCR', 'AEE', 'AAL', 'AEP', 'AXP', 'AIG', 'AMT', 'AWK', 'AMP', 'ABC', 'AME', 'AMGN', 'APH', 'ADI', 'ANSS', 'ANTM', 'AON', 'AOS', 'APA', 'AAPL', 'AMAT', 'APTV', 'ADM', 'ANET', 'AJG', 'AIZ', 'T', 'ATO', 'ADSK', 'ADP', 'AZO', 'AVB', 'AVY', 'BKR', 'BLL', 'BAC', 'BK', 'BAX', 'BDX', 'BRK.B', 'BBY', 'BIO', 'BIIB', 'BLK', 'BA', 'BKNG', 'BWA', 'BXP', 'BSX', 'BMY', 'AVGO', 'BR', 'BF.B', 'CHRW', 'COG', 'CDNS', 'CPB', 'COF', 'CAH', 'KMX', 'CCL', 'CARR', 'CTLT', 'CAT', 'CBOE', 'CBRE', 'CDW', 'CE', 'CNC', 'CNP', 'CERN', 'CF', 'SCHW', 'CHTR', 'CVX', 'CMG', 'CB', 'CHD', 'CI', 'CINF', 'CTAS', 'CSCO', 'C', 'CFG', 'CTXS', 'CLX', 'CME', 'CMS', 'KO', 'CTSH', 'CL', 'CMCSA', 'CMA', 'CAG', 'COP', 'ED', 'STZ', 'COO', 'CPRT', 'GLW', 'CTVA', 'COST', 'CCI', 'CSX', 'CMI', 'CVS', 'DHI', 'DHR', 'DRI', 'DVA', 'DE', 'DAL', 'XRAY', 'DVN', 'DXCM', 'FANG', 'DLR', 'DFS', 'DISCA', 'DISCK', 'DISH', 'DG', 'DLTR', 'D', 'DPZ', 'DOV', 'DOW', 'DTE', 'DUK', 'DRE', 'DD', 'DXC', 'EMN', 'ETN', 'EBAY', 'ECL', 'EIX', 'EW', 'EA', 'EMR', 'ENPH', 'ETR', 'EOG', 'EFX', 'EQIX', 'EQR', 'ESS', 'EL', 'ETSY', 'EVRG', 'ES', 'RE', 'EXC', 'EXPE', 'EXPD', 'EXR', 'XOM', 'FFIV', 'FB', 'FAST', 'FRT', 'FDX', 'FIS', 'FITB', 'FE', 'FRC', 'FISV', 'FLT', 'FLIR', 'FLS', 'FMC', 'F', 'FTNT', 'FTV', 'FBHS', 'FOXA', 'FOX', 'BEN', 'FCX', 'GPS', 'GRMN', 'IT', 'GD', 'GE', 'GIS', 'GM', 'GPC', 'GILD', 'GL', 'GPN', 'GS', 'GWW', 'HAL', 'HBI', 'HIG', 'HAS', 'HCA', 'PEAK', 'HSIC', 'HSY', 'HES', 'HPE', 'HLT', 'HFC', 'HOLX', 'HD', 'HON', 'HRL', 'HST', 'HWM', 'HPQ', 'HUM', 'HBAN', 'HII', 'IEX', 'IDXX', 'INFO', 'ITW', 'ILMN', 'INCY', 'IR', 'INTC', 'ICE', 'IBM', 'IP', 'IPG', 'IFF', 'INTU', 'ISRG', 'IVZ', 'IPGP', 'IQV', 'IRM', 'JKHY', 'J', 'JBHT', 'SJM', 'JNJ', 'JCI', 'JPM', 'JNPR', 'KSU', 'K', 'KEY', 'KEYS', 'KMB', 'KIM', 'KMI', 'KLAC', 'KHC', 'KR', 'LB', 'LHX', 'LH', 'LRCX', 'LW', 'LVS', 'LEG', 'LDOS', 'LEN', 'LLY', 'LNC', 'LIN', 'LYV', 'LKQ', 'LMT', 'L', 'LOW', 'LUMN', 'LYB', 'MTB', 'MRO', 'MPC', 'MKTX', 'MAR', 'MMC', 'MLM', 'MAS', 'MA', 'MKC', 'MXIM', 'MCD', 'MCK', 'MDT', 'MRK', 'MET', 'MTD', 'MGM', 'MCHP', 'MU', 'MSFT', 'MAA', 'MHK', 'TAP', 'MDLZ', 'MPWR', 'MNST', 'MCO', 'MS', 'MOS', 'MSI', 'MSCI', 'NDAQ', 'NTAP', 'NFLX', 'NWL', 'NEM', 'NWSA', 'NWS', 'NEE', 'NLSN', 'NKE', 'NI', 'NSC', 'NTRS', 'NOC', 'NLOK', 'NCLH', 'NOV', 'NRG', 'NUE', 'NVDA', 'NVR', 'ORLY', 'OXY', 'ODFL', 'OMC', 'OKE', 'ORCL', 'OTIS', 'PCAR', 'PKG', 'PH', 'PAYX', 'PAYC', 'PYPL', 'PNR', 'PBCT', 'PEP', 'PKI', 'PRGO', 'PFE', 'PM', 'PSX', 'PNW', 'PXD', 'PNC', 'POOL', 'PPG', 'PPL', 'PFG', 'PG', 'PGR', 'PLD', 'PRU', 'PEG', 'PSA', 'PHM', 'PVH', 'QRVO', 'PWR', 'QCOM', 'DGX', 'RL', 'RJF', 'RTX', 'O', 'REG', 'REGN', 'RF', 'RSG', 'RMD', 'RHI', 'ROK', 'ROL', 'ROP', 'ROST', 'RCL', 'SPGI', 'CRM', 'SBAC', 'SLB', 'STX', 'SEE', 'SRE', 'NOW', 'SHW', 'SPG', 'SWKS', 'SLG', 'SNA', 'SO', 'LUV', 'SWK', 'SBUX', 'STT', 'STE', 'SYK', 'SIVB', 'SYF', 'SNPS', 'SYY', 'TMUS', 'TROW', 'TTWO', 'TPR', 'TGT', 'TEL', 'TDY', 'TFX', 'TER', 'TSLA', 'TXN', 'TXT', 'TMO', 'TJX', 'TSCO', 'TT', 'TDG', 'TRV', 'TRMB', 'TFC', 'TWTR', 'TYL', 'TSN', 'UDR', 'ULTA', 'USB', 'UAA', 'UA', 'UNP', 'UAL', 'UNH', 'UPS', 'URI', 'UHS', 'UNM', 'VLO', 'VAR', 'VTR', 'VRSN', 'VRSK', 'VZ', 'VRTX', 'VFC', 'VIAC', 'VTRS', 'V', 'VNT', 'VNO', 'VMC', 'WRB', 'WAB', 'WMT', 'WBA', 'DIS', 'WM', 'WAT', 'WEC', 'WFC', 'WELL', 'WST', 'WDC', 'WU', 'WRK', 'WY', 'WHR', 'WMB', 'WLTW', 'WYNN', 'XEL', 'XRX', 'XLNX', 'XYL', 'YUM', 'ZBRA', 'ZBH', 'ZION', 'ZTS']\n",
    "list_of_tickers.remove(\"BRK.B\")\n",
    "list_of_tickers.remove(\"BF.B\")\n",
    "\n",
    "total_df = pd.read_csv(\"./data_generation/Stock_data/Daily_data_MMM.csv\")\n",
    "\n",
    "#total_train = \n",
    "#total_test \n",
    "\n",
    "for ticker in list_of_tickers:\n",
    "    if ticker == \"MMM\":\n",
    "        continue\n",
    "    else:\n",
    "        added_df = pd.read_csv(\"./data_generation/Stock_data/Daily_data_\" + ticker + \".csv\")\n",
    "        total_df = pd.concat([total_df, added_df])"
   ]
  },
  {
   "cell_type": "code",
   "execution_count": 31,
   "metadata": {},
   "outputs": [
    {
     "ename": "ValueError",
     "evalue": "could not convert string to float: 'High'",
     "output_type": "error",
     "traceback": [
      "\u001b[1;31m---------------------------------------------------------------------------\u001b[0m",
      "\u001b[1;31mValueError\u001b[0m                                Traceback (most recent call last)",
      "\u001b[1;32m<ipython-input-31-981dc09f46a1>\u001b[0m in \u001b[0;36m<module>\u001b[1;34m\u001b[0m\n\u001b[1;32m----> 1\u001b[1;33m \u001b[0mtotal_df\u001b[0m \u001b[1;33m=\u001b[0m \u001b[0mtotal_df\u001b[0m\u001b[1;33m[\u001b[0m\u001b[1;33m[\u001b[0m\u001b[1;34m\"High\"\u001b[0m\u001b[1;33m,\u001b[0m \u001b[1;34m\"Low\"\u001b[0m\u001b[1;33m,\u001b[0m \u001b[1;34m\"Open\"\u001b[0m\u001b[1;33m,\u001b[0m \u001b[1;34m\"Volume\"\u001b[0m\u001b[1;33m,\u001b[0m \u001b[1;34m\"Close\"\u001b[0m\u001b[1;33m]\u001b[0m\u001b[1;33m]\u001b[0m\u001b[1;33m.\u001b[0m\u001b[0mastype\u001b[0m\u001b[1;33m(\u001b[0m\u001b[0mfloat\u001b[0m\u001b[1;33m)\u001b[0m\u001b[1;33m\u001b[0m\u001b[1;33m\u001b[0m\u001b[0m\n\u001b[0m\u001b[0;32m      2\u001b[0m \u001b[1;33m\u001b[0m\u001b[0m\n\u001b[0;32m      3\u001b[0m \u001b[0mscaler\u001b[0m \u001b[1;33m=\u001b[0m \u001b[0mStandardScaler\u001b[0m\u001b[1;33m(\u001b[0m\u001b[1;33m)\u001b[0m\u001b[1;33m.\u001b[0m\u001b[0mfit\u001b[0m\u001b[1;33m(\u001b[0m\u001b[0mtotal_df\u001b[0m\u001b[1;33m)\u001b[0m\u001b[1;33m\u001b[0m\u001b[1;33m\u001b[0m\u001b[0m\n\u001b[0;32m      4\u001b[0m \u001b[0mtotal_df_transformed\u001b[0m \u001b[1;33m=\u001b[0m \u001b[0mscaler\u001b[0m\u001b[1;33m.\u001b[0m\u001b[0mtransform\u001b[0m\u001b[1;33m(\u001b[0m\u001b[0mtotal_df\u001b[0m\u001b[1;33m)\u001b[0m\u001b[1;33m\u001b[0m\u001b[1;33m\u001b[0m\u001b[0m\n\u001b[0;32m      5\u001b[0m \u001b[1;33m\u001b[0m\u001b[0m\n",
      "\u001b[1;32m~\\Anaconda3\\envs\\envTF22\\lib\\site-packages\\pandas\\core\\generic.py\u001b[0m in \u001b[0;36mastype\u001b[1;34m(self, dtype, copy, errors)\u001b[0m\n\u001b[0;32m   5535\u001b[0m         \u001b[1;32melse\u001b[0m\u001b[1;33m:\u001b[0m\u001b[1;33m\u001b[0m\u001b[1;33m\u001b[0m\u001b[0m\n\u001b[0;32m   5536\u001b[0m             \u001b[1;31m# else, only a single dtype is given\u001b[0m\u001b[1;33m\u001b[0m\u001b[1;33m\u001b[0m\u001b[1;33m\u001b[0m\u001b[0m\n\u001b[1;32m-> 5537\u001b[1;33m             \u001b[0mnew_data\u001b[0m \u001b[1;33m=\u001b[0m \u001b[0mself\u001b[0m\u001b[1;33m.\u001b[0m\u001b[0m_mgr\u001b[0m\u001b[1;33m.\u001b[0m\u001b[0mastype\u001b[0m\u001b[1;33m(\u001b[0m\u001b[0mdtype\u001b[0m\u001b[1;33m=\u001b[0m\u001b[0mdtype\u001b[0m\u001b[1;33m,\u001b[0m \u001b[0mcopy\u001b[0m\u001b[1;33m=\u001b[0m\u001b[0mcopy\u001b[0m\u001b[1;33m,\u001b[0m \u001b[0merrors\u001b[0m\u001b[1;33m=\u001b[0m\u001b[0merrors\u001b[0m\u001b[1;33m,\u001b[0m\u001b[1;33m)\u001b[0m\u001b[1;33m\u001b[0m\u001b[1;33m\u001b[0m\u001b[0m\n\u001b[0m\u001b[0;32m   5538\u001b[0m             \u001b[1;32mreturn\u001b[0m \u001b[0mself\u001b[0m\u001b[1;33m.\u001b[0m\u001b[0m_constructor\u001b[0m\u001b[1;33m(\u001b[0m\u001b[0mnew_data\u001b[0m\u001b[1;33m)\u001b[0m\u001b[1;33m.\u001b[0m\u001b[0m__finalize__\u001b[0m\u001b[1;33m(\u001b[0m\u001b[0mself\u001b[0m\u001b[1;33m,\u001b[0m \u001b[0mmethod\u001b[0m\u001b[1;33m=\u001b[0m\u001b[1;34m\"astype\"\u001b[0m\u001b[1;33m)\u001b[0m\u001b[1;33m\u001b[0m\u001b[1;33m\u001b[0m\u001b[0m\n\u001b[0;32m   5539\u001b[0m \u001b[1;33m\u001b[0m\u001b[0m\n",
      "\u001b[1;32m~\\Anaconda3\\envs\\envTF22\\lib\\site-packages\\pandas\\core\\internals\\managers.py\u001b[0m in \u001b[0;36mastype\u001b[1;34m(self, dtype, copy, errors)\u001b[0m\n\u001b[0;32m    593\u001b[0m         \u001b[0mself\u001b[0m\u001b[1;33m,\u001b[0m \u001b[0mdtype\u001b[0m\u001b[1;33m,\u001b[0m \u001b[0mcopy\u001b[0m\u001b[1;33m:\u001b[0m \u001b[0mbool\u001b[0m \u001b[1;33m=\u001b[0m \u001b[1;32mFalse\u001b[0m\u001b[1;33m,\u001b[0m \u001b[0merrors\u001b[0m\u001b[1;33m:\u001b[0m \u001b[0mstr\u001b[0m \u001b[1;33m=\u001b[0m \u001b[1;34m\"raise\"\u001b[0m\u001b[1;33m\u001b[0m\u001b[1;33m\u001b[0m\u001b[0m\n\u001b[0;32m    594\u001b[0m     ) -> \"BlockManager\":\n\u001b[1;32m--> 595\u001b[1;33m         \u001b[1;32mreturn\u001b[0m \u001b[0mself\u001b[0m\u001b[1;33m.\u001b[0m\u001b[0mapply\u001b[0m\u001b[1;33m(\u001b[0m\u001b[1;34m\"astype\"\u001b[0m\u001b[1;33m,\u001b[0m \u001b[0mdtype\u001b[0m\u001b[1;33m=\u001b[0m\u001b[0mdtype\u001b[0m\u001b[1;33m,\u001b[0m \u001b[0mcopy\u001b[0m\u001b[1;33m=\u001b[0m\u001b[0mcopy\u001b[0m\u001b[1;33m,\u001b[0m \u001b[0merrors\u001b[0m\u001b[1;33m=\u001b[0m\u001b[0merrors\u001b[0m\u001b[1;33m)\u001b[0m\u001b[1;33m\u001b[0m\u001b[1;33m\u001b[0m\u001b[0m\n\u001b[0m\u001b[0;32m    596\u001b[0m \u001b[1;33m\u001b[0m\u001b[0m\n\u001b[0;32m    597\u001b[0m     def convert(\n",
      "\u001b[1;32m~\\Anaconda3\\envs\\envTF22\\lib\\site-packages\\pandas\\core\\internals\\managers.py\u001b[0m in \u001b[0;36mapply\u001b[1;34m(self, f, align_keys, **kwargs)\u001b[0m\n\u001b[0;32m    404\u001b[0m                 \u001b[0mapplied\u001b[0m \u001b[1;33m=\u001b[0m \u001b[0mb\u001b[0m\u001b[1;33m.\u001b[0m\u001b[0mapply\u001b[0m\u001b[1;33m(\u001b[0m\u001b[0mf\u001b[0m\u001b[1;33m,\u001b[0m \u001b[1;33m**\u001b[0m\u001b[0mkwargs\u001b[0m\u001b[1;33m)\u001b[0m\u001b[1;33m\u001b[0m\u001b[1;33m\u001b[0m\u001b[0m\n\u001b[0;32m    405\u001b[0m             \u001b[1;32melse\u001b[0m\u001b[1;33m:\u001b[0m\u001b[1;33m\u001b[0m\u001b[1;33m\u001b[0m\u001b[0m\n\u001b[1;32m--> 406\u001b[1;33m                 \u001b[0mapplied\u001b[0m \u001b[1;33m=\u001b[0m \u001b[0mgetattr\u001b[0m\u001b[1;33m(\u001b[0m\u001b[0mb\u001b[0m\u001b[1;33m,\u001b[0m \u001b[0mf\u001b[0m\u001b[1;33m)\u001b[0m\u001b[1;33m(\u001b[0m\u001b[1;33m**\u001b[0m\u001b[0mkwargs\u001b[0m\u001b[1;33m)\u001b[0m\u001b[1;33m\u001b[0m\u001b[1;33m\u001b[0m\u001b[0m\n\u001b[0m\u001b[0;32m    407\u001b[0m             \u001b[0mresult_blocks\u001b[0m \u001b[1;33m=\u001b[0m \u001b[0m_extend_blocks\u001b[0m\u001b[1;33m(\u001b[0m\u001b[0mapplied\u001b[0m\u001b[1;33m,\u001b[0m \u001b[0mresult_blocks\u001b[0m\u001b[1;33m)\u001b[0m\u001b[1;33m\u001b[0m\u001b[1;33m\u001b[0m\u001b[0m\n\u001b[0;32m    408\u001b[0m \u001b[1;33m\u001b[0m\u001b[0m\n",
      "\u001b[1;32m~\\Anaconda3\\envs\\envTF22\\lib\\site-packages\\pandas\\core\\internals\\blocks.py\u001b[0m in \u001b[0;36mastype\u001b[1;34m(self, dtype, copy, errors)\u001b[0m\n\u001b[0;32m    587\u001b[0m             \u001b[0mvals1d\u001b[0m \u001b[1;33m=\u001b[0m \u001b[0mvalues\u001b[0m\u001b[1;33m.\u001b[0m\u001b[0mravel\u001b[0m\u001b[1;33m(\u001b[0m\u001b[1;33m)\u001b[0m\u001b[1;33m\u001b[0m\u001b[1;33m\u001b[0m\u001b[0m\n\u001b[0;32m    588\u001b[0m             \u001b[1;32mtry\u001b[0m\u001b[1;33m:\u001b[0m\u001b[1;33m\u001b[0m\u001b[1;33m\u001b[0m\u001b[0m\n\u001b[1;32m--> 589\u001b[1;33m                 \u001b[0mvalues\u001b[0m \u001b[1;33m=\u001b[0m \u001b[0mastype_nansafe\u001b[0m\u001b[1;33m(\u001b[0m\u001b[0mvals1d\u001b[0m\u001b[1;33m,\u001b[0m \u001b[0mdtype\u001b[0m\u001b[1;33m,\u001b[0m \u001b[0mcopy\u001b[0m\u001b[1;33m=\u001b[0m\u001b[1;32mTrue\u001b[0m\u001b[1;33m)\u001b[0m\u001b[1;33m\u001b[0m\u001b[1;33m\u001b[0m\u001b[0m\n\u001b[0m\u001b[0;32m    590\u001b[0m             \u001b[1;32mexcept\u001b[0m \u001b[1;33m(\u001b[0m\u001b[0mValueError\u001b[0m\u001b[1;33m,\u001b[0m \u001b[0mTypeError\u001b[0m\u001b[1;33m)\u001b[0m\u001b[1;33m:\u001b[0m\u001b[1;33m\u001b[0m\u001b[1;33m\u001b[0m\u001b[0m\n\u001b[0;32m    591\u001b[0m                 \u001b[1;31m# e.g. astype_nansafe can fail on object-dtype of strings\u001b[0m\u001b[1;33m\u001b[0m\u001b[1;33m\u001b[0m\u001b[1;33m\u001b[0m\u001b[0m\n",
      "\u001b[1;32m~\\Anaconda3\\envs\\envTF22\\lib\\site-packages\\pandas\\core\\dtypes\\cast.py\u001b[0m in \u001b[0;36mastype_nansafe\u001b[1;34m(arr, dtype, copy, skipna)\u001b[0m\n\u001b[0;32m    987\u001b[0m     \u001b[1;32mif\u001b[0m \u001b[0mcopy\u001b[0m \u001b[1;32mor\u001b[0m \u001b[0mis_object_dtype\u001b[0m\u001b[1;33m(\u001b[0m\u001b[0marr\u001b[0m\u001b[1;33m)\u001b[0m \u001b[1;32mor\u001b[0m \u001b[0mis_object_dtype\u001b[0m\u001b[1;33m(\u001b[0m\u001b[0mdtype\u001b[0m\u001b[1;33m)\u001b[0m\u001b[1;33m:\u001b[0m\u001b[1;33m\u001b[0m\u001b[1;33m\u001b[0m\u001b[0m\n\u001b[0;32m    988\u001b[0m         \u001b[1;31m# Explicit copy, or required since NumPy can't view from / to object.\u001b[0m\u001b[1;33m\u001b[0m\u001b[1;33m\u001b[0m\u001b[1;33m\u001b[0m\u001b[0m\n\u001b[1;32m--> 989\u001b[1;33m         \u001b[1;32mreturn\u001b[0m \u001b[0marr\u001b[0m\u001b[1;33m.\u001b[0m\u001b[0mastype\u001b[0m\u001b[1;33m(\u001b[0m\u001b[0mdtype\u001b[0m\u001b[1;33m,\u001b[0m \u001b[0mcopy\u001b[0m\u001b[1;33m=\u001b[0m\u001b[1;32mTrue\u001b[0m\u001b[1;33m)\u001b[0m\u001b[1;33m\u001b[0m\u001b[1;33m\u001b[0m\u001b[0m\n\u001b[0m\u001b[0;32m    990\u001b[0m \u001b[1;33m\u001b[0m\u001b[0m\n\u001b[0;32m    991\u001b[0m     \u001b[1;32mreturn\u001b[0m \u001b[0marr\u001b[0m\u001b[1;33m.\u001b[0m\u001b[0mview\u001b[0m\u001b[1;33m(\u001b[0m\u001b[0mdtype\u001b[0m\u001b[1;33m)\u001b[0m\u001b[1;33m\u001b[0m\u001b[1;33m\u001b[0m\u001b[0m\n",
      "\u001b[1;31mValueError\u001b[0m: could not convert string to float: 'High'"
     ]
    }
   ],
   "source": [
    "total_df = total_df[[\"High\", \"Low\", \"Open\", \"Volume\", \"Close\"]]\n",
    "\n",
    "scaler = StandardScaler().fit(total_df)\n",
    "total_df_transformed = scaler.transform(total_df)\n",
    "\n",
    "print(total_df_transformed)"
   ]
  },
  {
   "cell_type": "code",
   "execution_count": 24,
   "metadata": {},
   "outputs": [
    {
     "name": "stdout",
     "output_type": "stream",
     "text": [
      "(2394037, 7, 4)\n"
     ]
    }
   ],
   "source": [
    "X_train = []; Y_train = []\n",
    "\n",
    "previous_periods = 7; future_periods = 1;\n",
    "for index in range(previous_periods, len(total_df) - future_periods + 1):\n",
    "    X_train.append(total_df_transformed[index - previous_periods : index, 0 : total_df.shape[1]-1])\n",
    "    Y_train.append(total_df_transformed[index + future_periods - 1 : index + future_periods, 4]) #3 for index of Close\n",
    "    \n",
    "X_train = np.array(X_train)\n",
    "Y_train = np.array(Y_train)\n",
    "\n",
    "print(X_train.shape)"
   ]
  },
  {
   "cell_type": "code",
   "execution_count": 25,
   "metadata": {},
   "outputs": [
    {
     "name": "stdout",
     "output_type": "stream",
     "text": [
      "Model: \"sequential_2\"\n",
      "_________________________________________________________________\n",
      "Layer (type)                 Output Shape              Param #   \n",
      "=================================================================\n",
      "lstm_5 (LSTM)                (None, 7, 128)            68096     \n",
      "_________________________________________________________________\n",
      "lstm_6 (LSTM)                (None, 128)               131584    \n",
      "_________________________________________________________________\n",
      "dense_2 (Dense)              (None, 1)                 129       \n",
      "=================================================================\n",
      "Total params: 199,809\n",
      "Trainable params: 199,809\n",
      "Non-trainable params: 0\n",
      "_________________________________________________________________\n"
     ]
    }
   ],
   "source": [
    "#LSTM model for time series forecasting\n",
    "model = Sequential()\n",
    "model.add(tf.keras.layers.LSTM(128, input_shape = (X_train.shape[1], X_train.shape[2]), return_sequences = True, activation = 'relu'))\n",
    "model.add(tf.keras.layers.LSTM(64, return_sequences = False)) # Changed from 64\n",
    "model.add(tf.keras.layers.Dense(Y_train.shape[1]))\n",
    "\n",
    "early_stopping = tf.keras.callbacks.EarlyStopping(monitor = \"val_loss\", patience = 5)\n",
    "\n",
    "lr = tf.keras.optimizers.schedules.ExponentialDecay(\n",
    "    initial_learning_rate=5e-4,\n",
    "    decay_steps=10000,\n",
    "    decay_rate=0.9)\n",
    "Adam = tf.keras.optimizers.Adam(learning_rate = lr)\n",
    "\n",
    "model.compile(optimizer=\"adam\", loss=\"mse\")\n",
    "model.summary()"
   ]
  },
  {
   "cell_type": "code",
   "execution_count": 26,
   "metadata": {},
   "outputs": [
    {
     "name": "stdout",
     "output_type": "stream",
     "text": [
      "Epoch 1/5\n",
      "59851/59851 [==============================] - 402s 7ms/step - loss: 0.0124 - val_loss: 8.0857e-04\n",
      "Epoch 2/5\n",
      "59851/59851 [==============================] - 396s 7ms/step - loss: 0.0098 - val_loss: 0.0010\n",
      "Epoch 3/5\n",
      "59851/59851 [==============================] - 387s 6ms/step - loss: 0.0075 - val_loss: 8.8445e-04\n",
      "Epoch 4/5\n",
      "59851/59851 [==============================] - 395s 7ms/step - loss: 0.0051 - val_loss: 7.2143e-04\n",
      "Epoch 5/5\n",
      "59851/59851 [==============================] - 392s 7ms/step - loss: 0.0050 - val_loss: 8.1038e-04\n"
     ]
    }
   ],
   "source": [
    "#Train model\n",
    "history = model.fit(X_train, Y_train, epochs = 5, batch_size = 32, validation_split = 0.2, verbose = 1, callbacks = [early_stopping])"
   ]
  },
  {
   "cell_type": "markdown",
   "metadata": {},
   "source": [
    "## Save model"
   ]
  },
  {
   "cell_type": "code",
   "execution_count": 17,
   "metadata": {},
   "outputs": [
    {
     "name": "stdout",
     "output_type": "stream",
     "text": [
      "WARNING:tensorflow:From c:\\users\\julia\\anaconda3\\envs\\envtf22\\lib\\site-packages\\tensorflow\\python\\ops\\resource_variable_ops.py:1817: calling BaseResourceVariable.__init__ (from tensorflow.python.ops.resource_variable_ops) with constraint is deprecated and will be removed in a future version.\n",
      "Instructions for updating:\n",
      "If using Keras pass *_constraint arguments to layers.\n",
      "INFO:tensorflow:Assets written to: ./models/S&P500_model\\assets\n"
     ]
    }
   ],
   "source": [
    "model.save(\"./models/S&P500_model\")"
   ]
  },
  {
   "cell_type": "markdown",
   "metadata": {},
   "source": [
    "## Testing the Large LSTM"
   ]
  },
  {
   "cell_type": "code",
   "execution_count": 18,
   "metadata": {},
   "outputs": [],
   "source": [
    "#Load the model\n",
    "model = tf.keras.models.load_model(\"./models/S&P500_model\")"
   ]
  },
  {
   "cell_type": "code",
   "execution_count": 17,
   "metadata": {},
   "outputs": [
    {
     "name": "stdout",
     "output_type": "stream",
     "text": [
      "WARNING:tensorflow:Model was constructed with shape (None, 7, 4) for input Tensor(\"lstm_2_input:0\", shape=(None, 7, 4), dtype=float32), but it was called on an input with incompatible shape (None, 60, 4).\n",
      "[123.84798  122.14993  124.1505   123.93159  123.41359  123.40395\n",
      " 123.54784  122.26897  123.42635  122.471825 123.67483  123.944824\n",
      " 121.2395   122.062325 124.21717  124.717125 123.01591  121.481384\n",
      " 121.94307  123.072945 121.705376 120.27541  123.4684   124.15422\n",
      " 124.5213   123.2533   123.42586  122.7428   122.24188  123.42368\n",
      " 122.54193  124.56898  124.407974 122.35929  119.859604 119.97268\n",
      " 122.896286 122.18448  124.41975  124.554405 123.93132  121.771736\n",
      " 126.38882  122.24548  123.90097  124.59539  124.70426  122.00648\n",
      " 122.0728   122.079994 122.48554  122.468666 123.44155  127.09457\n",
      " 122.18062  122.080444 123.165855 119.60187  122.77504  124.50752\n",
      " 123.995705 126.44556  122.00293  125.38193  124.90371  124.13713\n",
      " 124.80257  125.894356 123.30873  121.60886  124.54701  125.26015\n",
      " 125.56926  124.746155 124.84511  124.68939  124.65909  123.86552\n",
      " 124.807365 125.844635 127.67013  126.127686 126.36683  125.965706\n",
      " 125.38443  123.571045 123.73579  124.63431  126.04552  125.88505\n",
      " 125.79828  125.59962  125.929794 125.90754  124.30125  125.977936\n",
      " 126.138916 123.49185  127.18086  127.1882   127.18067  127.70629\n",
      " 123.37923  123.98156  126.07087  125.73828  125.27789  123.66115\n",
      " 124.253876 124.57157  124.71799  124.73694  123.63214  124.46116\n",
      " 124.84646  126.48364  125.6981   124.64651  124.06755  126.15449\n",
      " 124.945045 124.07809  125.626076 125.25834  124.25326  123.41812\n",
      " 123.96609  123.81176  126.14827  124.016136 123.30499  124.69835\n",
      " 126.8847   123.588844 124.158646 126.59553  123.6516   125.923676\n",
      " 125.11073  124.690674 123.966774 128.27269  126.03248  126.5681\n",
      " 125.22615  129.10143  125.28856  124.01655  123.24727  125.35016\n",
      " 124.048454 123.97693  123.814476 123.708885 129.73587  126.912285\n",
      " 125.36794  126.018684 125.90082  128.88672  125.571075 126.17655\n",
      " 125.472404 123.9778   123.43223  125.128044 123.43871  126.61958\n",
      " 123.385574 125.30375  125.61714  126.5727   124.145256 123.7106\n",
      " 123.2598   125.448    124.125046 125.17492  124.62845  124.10763\n",
      " 126.117516 125.196014 123.60633  123.1398   126.05947  125.090225\n",
      " 127.15869  122.82955  124.07141  125.16713  125.64672  124.718994\n",
      " 125.301575 123.059166 126.2634   124.32208  124.32365  124.8682\n",
      " 124.269516 125.139595 123.09297  124.52018  125.50529  125.193375\n",
      " 124.254814 125.502556 122.75137  123.224495 125.20546  121.8137\n",
      " 120.62425  124.17492  124.29451  124.95308  122.931854 124.69856\n",
      " 123.09742  123.52199  123.91722  125.66142  122.81659  126.21241\n",
      " 123.77472  119.61426  124.320496 121.96481  121.800064 123.42975\n",
      " 124.7562   124.904434 123.10313  122.258644 122.816376 123.50676\n",
      " 123.40333  124.494026 124.5649   125.581375 123.92304  123.482\n",
      " 124.35874  123.89536  124.69659  121.29693  124.38476  123.65285\n",
      " 126.94066  122.05466  127.37532  122.610214 122.125916 125.45059\n",
      " 127.5238   126.93981  126.744156 127.28223  127.40048  128.11426\n",
      " 123.83816  122.84038  124.187546 122.638954 125.17776  123.81558\n",
      " 123.583664 123.4799   122.335724 124.553986 123.508606 123.57169\n",
      " 124.78427  123.569305 123.714806 124.17865  124.66312  123.75489\n",
      " 121.30516  123.67297  123.52129  123.954    124.32025  124.43942\n",
      " 125.2484   122.952484 126.005196 121.90604  124.32909  124.35556\n",
      " 122.35756  123.54659  123.03565  124.99217  122.19051  123.57631\n",
      " 123.6128   125.13415  124.54137  124.73377  125.5865   126.59861\n",
      " 124.89153  127.043274 127.02706  125.30043  124.92673  125.73407\n",
      " 126.02442  125.82785  125.740486 123.55076  127.131805 127.09862\n",
      " 125.678    123.40325  125.70457  124.987465 123.47831  124.77594\n",
      " 123.1044   124.30809  123.87311  124.115074 124.01579  123.64083\n",
      " 123.93725  124.59272  124.522766 122.78059  126.547325 123.63678\n",
      " 124.80581  125.65226  122.659805 125.74215  125.757744 125.77069\n",
      " 127.121544 127.13816  127.09467  124.893135 125.67989  125.7036\n",
      " 125.818275 125.58442  123.97323  125.904854 123.65778  125.78605\n",
      " 127.17751  127.15579  125.75418  127.1182   127.11254  127.1073\n",
      " 125.76328  125.39918  123.57289  122.37417  124.2441   125.78186\n",
      " 125.370224 127.55645  123.625336 125.608116 126.17074  126.10179\n",
      " 125.80817  125.94525  125.7915   125.80409  125.800934 125.734184\n",
      " 125.951454 125.75993  123.62785  126.244896 125.82088  124.03688\n",
      " 125.82279  125.81274  126.12557  123.64149  123.57822  125.60112\n",
      " 125.8208   125.709305 125.646805 125.11401  125.665344 125.48716\n",
      " 124.580956 123.97089  125.27186  125.988914 122.84749  125.076805\n",
      " 127.12876  123.93603  127.04197  124.63258  125.077446 125.05739\n",
      " 124.8354   122.67543  122.56515  124.334656 124.28136  124.258965\n",
      " 128.08434  125.186325 123.17233  125.417854 126.4515   124.316505\n",
      " 124.3193   125.52555  122.88435  124.30133  124.29537  125.47045\n",
      " 122.78262  124.24135  126.78101  125.50833  122.67312  126.212006\n",
      " 125.519615 125.215515 122.57463  123.07264  124.86831  124.50485\n",
      " 123.87842  124.69867  123.18164  124.97597  125.94858  125.58343\n",
      " 123.59572  127.18751  125.80541  125.74708  127.161446 125.80848\n",
      " 125.79967  125.74946  126.05336  123.53054  123.73819  126.04552\n",
      " 126.162224 125.70386  125.70187  125.972015 125.769875 126.08344\n",
      " 125.57084  126.01199  125.98046  125.56918  124.99803  124.82522\n",
      " 124.722664 125.67018  127.13595  127.113045 125.49105  127.100235\n",
      " 123.72034  127.068695 121.98806  126.963806 124.67476  123.42508\n",
      " 124.71823  124.4398   124.90392  123.416115 121.92491  126.91345\n",
      " 123.51747  122.84024  123.62794  123.78707  124.91445  124.417076\n",
      " 124.43179  125.573044 124.61508  125.44061  124.6118   123.94692\n",
      " 123.94982  126.95689  124.39285  124.413864 126.96242  123.541435\n",
      " 121.89908  127.173935 125.75412  124.61249  125.23624  125.67381\n",
      " 123.68565  126.585434 127.069496 124.40881  124.69154  124.91856\n",
      " 124.39855  124.34536  126.97845  124.96111  126.94128  126.94454\n",
      " 123.93339  122.579506 122.51483  123.940315 124.405876 124.90501\n",
      " 126.99169  124.413475]\n"
     ]
    }
   ],
   "source": [
    "#Predict the AAPL test data\n",
    "prediction = model.predict(X_test)\n",
    "\n",
    "copy = np.repeat(prediction, train.shape[1], axis = -1)\n",
    "prediction = scaler2.inverse_transform(copy)[:,0]\n",
    "print(prediction)"
   ]
  },
  {
   "cell_type": "code",
   "execution_count": 18,
   "metadata": {},
   "outputs": [
    {
     "data": {
      "image/png": "[encoded data removed]",
      "text/plain": [
       "<Figure size 432x288 with 1 Axes>"
      ]
     },
     "metadata": {
      "needs_background": "light"
     },
     "output_type": "display_data"
    }
   ],
   "source": [
    "#Overall Forecasting\n",
    "\n",
    "train_length = train.shape[0]\n",
    "test_length = test.shape[0]\n",
    "plt.plot(np.arange(train_length), train[[\"Close\"]], color = 'blue')\n",
    "plt.plot(np.arange(train_length, train_length + test_length), test[[\"Close\"]], color=\"green\")\n",
    "plt.plot(np.arange(train_length, train_length + test_length), prediction)\n",
    "plt.show()"
   ]
  },
  {
   "cell_type": "code",
   "execution_count": 19,
   "metadata": {},
   "outputs": [
    {
     "data": {
      "image/png": "[encoded data removed]",
      "text/plain": [
       "<Figure size 432x288 with 1 Axes>"
      ]
     },
     "metadata": {
      "needs_background": "light"
     },
     "output_type": "display_data"
    }
   ],
   "source": [
    "#Forecasting for predicted time period\n",
    "plt.plot(np.arange(train_length, train_length + test_length), test[[\"Close\"]], color=\"green\")\n",
    "plt.show()"
   ]
  },
  {
   "cell_type": "code",
   "execution_count": 20,
   "metadata": {},
   "outputs": [
    {
     "data": {
      "text/plain": [
       "[<matplotlib.lines.Line2D at 0x2663c8ce8c8>]"
      ]
     },
     "execution_count": 20,
     "metadata": {},
     "output_type": "execute_result"
    },
    {
     "data": {
      "image/png": "[encoded data removed]",
      "text/plain": [
       "<Figure size 432x288 with 1 Axes>"
      ]
     },
     "metadata": {
      "needs_background": "light"
     },
     "output_type": "display_data"
    }
   ],
   "source": [
    "plt.plot(np.arange(train_length, train_length + test_length), prediction)"
   ]
  },
  {
   "cell_type": "code",
   "execution_count": 21,
   "metadata": {},
   "outputs": [
    {
     "name": "stdout",
     "output_type": "stream",
     "text": [
      "        Closing  20_Day_SMA  50_Day_SMA  Signal  Position\n",
      "0    123.847977  123.847977  123.847977       0       NaN\n",
      "1    122.149933  122.998955  122.998955       0       0.0\n",
      "2    124.150497  123.382802  123.382802       0       0.0\n",
      "3    123.931587  123.519999  123.519999       0       0.0\n",
      "4    123.413589  123.498717  123.498717       0       0.0\n",
      "..          ...         ...         ...     ...       ...\n",
      "519  123.940315  124.753733  124.934083       0       0.0\n",
      "520  124.405876  124.754465  124.927219       0       0.0\n",
      "521  124.905006  124.810430  124.959155       0       0.0\n",
      "522  126.991692  124.811755  125.060551       0       0.0\n",
      "523  124.413475  124.756991  124.975771       0       0.0\n",
      "\n",
      "[524 rows x 5 columns]\n"
     ]
    },
    {
     "data": {
      "image/png": "[encoded data removed]",
      "text/plain": [
       "<Figure size 432x288 with 1 Axes>"
      ]
     },
     "metadata": {
      "needs_background": "light"
     },
     "output_type": "display_data"
    }
   ],
   "source": [
    "#Code from here: https://towardsdatascience.com/making-a-trade-call-using-simple-moving-average-sma-crossover-strategy-python-implementation-29963326da7a\n",
    "predicted_closing = pd.DataFrame({\"Closing\" : prediction})\n",
    "\n",
    "#Short Term Simple Average \n",
    "predicted_closing[\"20_Day_SMA\"] = predicted_closing[\"Closing\"].rolling(window = 10, min_periods=1).mean()\n",
    "#Long Term Simple Average\n",
    "predicted_closing[\"50_Day_SMA\"] = predicted_closing[\"Closing\"].rolling(window = 30, min_periods=1).mean()\n",
    "\n",
    "#Create Position from Signal; +1 is buy, -1 is sell\n",
    "predicted_closing[\"Signal\"] = np.where(predicted_closing[\"20_Day_SMA\"] > predicted_closing[\"50_Day_SMA\"], 1, 0)\n",
    "predicted_closing[\"Position\"] = predicted_closing[\"Signal\"].diff()\n",
    "\n",
    "print(predicted_closing)\n",
    "\n",
    "#Plot predicted time series\n",
    "plt.plot(np.arange(0,prediction.shape[0]), prediction)\n",
    "#Plot buy/sell markers\n",
    "plt.plot(predicted_closing[predicted_closing[\"Position\"] == 1].index,predicted_closing['20_Day_SMA'][predicted_closing['Position'] == 1], \n",
    "         '^', markersize = 15, color = 'g', label = 'buy')\n",
    "plt.plot(predicted_closing[predicted_closing[\"Position\"] == -1].index,predicted_closing['20_Day_SMA'][predicted_closing['Position'] == -1], \n",
    "         'v', markersize = 15, color = 'r', label = 'sell')\n",
    "\n",
    "plt.show()"
   ]
  },
  {
   "cell_type": "markdown",
   "metadata": {},
   "source": [
    "# LSTM for Multi-Step Prediction"
   ]
  },
  {
   "cell_type": "code",
   "execution_count": 2,
   "metadata": {},
   "outputs": [],
   "source": [
    "list_of_tickers = ['MMM', 'ABT', 'ABBV', 'ABMD', 'ACN', 'ATVI', 'ADBE', 'AMD', 'AAP', 'AES', 'AFL', 'A', 'APD', 'AKAM', 'ALK', 'ALB', 'ARE', 'ALXN', 'ALGN', 'ALLE', 'LNT', 'ALL', 'GOOGL', 'GOOG', 'MO', 'AMZN', 'AMCR', 'AEE', 'AAL', 'AEP', 'AXP', 'AIG', 'AMT', 'AWK', 'AMP', 'ABC', 'AME', 'AMGN', 'APH', 'ADI', 'ANSS', 'ANTM', 'AON', 'AOS', 'APA', 'AAPL', 'AMAT', 'APTV', 'ADM', 'ANET', 'AJG', 'AIZ', 'T', 'ATO', 'ADSK', 'ADP', 'AZO', 'AVB', 'AVY', 'BKR', 'BLL', 'BAC', 'BK', 'BAX', 'BDX', 'BRK.B', 'BBY', 'BIO', 'BIIB', 'BLK', 'BA', 'BKNG', 'BWA', 'BXP', 'BSX', 'BMY', 'AVGO', 'BR', 'BF.B', 'CHRW', 'COG', 'CDNS', 'CPB', 'COF', 'CAH', 'KMX', 'CCL', 'CARR', 'CTLT', 'CAT', 'CBOE', 'CBRE', 'CDW', 'CE', 'CNC', 'CNP', 'CERN', 'CF', 'SCHW', 'CHTR', 'CVX', 'CMG', 'CB', 'CHD', 'CI', 'CINF', 'CTAS', 'CSCO', 'C', 'CFG', 'CTXS', 'CLX', 'CME', 'CMS', 'KO', 'CTSH', 'CL', 'CMCSA', 'CMA', 'CAG', 'COP', 'ED', 'STZ', 'COO', 'CPRT', 'GLW', 'CTVA', 'COST', 'CCI', 'CSX', 'CMI', 'CVS', 'DHI', 'DHR', 'DRI', 'DVA', 'DE', 'DAL', 'XRAY', 'DVN', 'DXCM', 'FANG', 'DLR', 'DFS', 'DISCA', 'DISCK', 'DISH', 'DG', 'DLTR', 'D', 'DPZ', 'DOV', 'DOW', 'DTE', 'DUK', 'DRE', 'DD', 'DXC', 'EMN', 'ETN', 'EBAY', 'ECL', 'EIX', 'EW', 'EA', 'EMR', 'ENPH', 'ETR', 'EOG', 'EFX', 'EQIX', 'EQR', 'ESS', 'EL', 'ETSY', 'EVRG', 'ES', 'RE', 'EXC', 'EXPE', 'EXPD', 'EXR', 'XOM', 'FFIV', 'FB', 'FAST', 'FRT', 'FDX', 'FIS', 'FITB', 'FE', 'FRC', 'FISV', 'FLT', 'FLIR', 'FLS', 'FMC', 'F', 'FTNT', 'FTV', 'FBHS', 'FOXA', 'FOX', 'BEN', 'FCX', 'GPS', 'GRMN', 'IT', 'GD', 'GE', 'GIS', 'GM', 'GPC', 'GILD', 'GL', 'GPN', 'GS', 'GWW', 'HAL', 'HBI', 'HIG', 'HAS', 'HCA', 'PEAK', 'HSIC', 'HSY', 'HES', 'HPE', 'HLT', 'HFC', 'HOLX', 'HD', 'HON', 'HRL', 'HST', 'HWM', 'HPQ', 'HUM', 'HBAN', 'HII', 'IEX', 'IDXX', 'INFO', 'ITW', 'ILMN', 'INCY', 'IR', 'INTC', 'ICE', 'IBM', 'IP', 'IPG', 'IFF', 'INTU', 'ISRG', 'IVZ', 'IPGP', 'IQV', 'IRM', 'JKHY', 'J', 'JBHT', 'SJM', 'JNJ', 'JCI', 'JPM', 'JNPR', 'KSU', 'K', 'KEY', 'KEYS', 'KMB', 'KIM', 'KMI', 'KLAC', 'KHC', 'KR', 'LB', 'LHX', 'LH', 'LRCX', 'LW', 'LVS', 'LEG', 'LDOS', 'LEN', 'LLY', 'LNC', 'LIN', 'LYV', 'LKQ', 'LMT', 'L', 'LOW', 'LUMN', 'LYB', 'MTB', 'MRO', 'MPC', 'MKTX', 'MAR', 'MMC', 'MLM', 'MAS', 'MA', 'MKC', 'MXIM', 'MCD', 'MCK', 'MDT', 'MRK', 'MET', 'MTD', 'MGM', 'MCHP', 'MU', 'MSFT', 'MAA', 'MHK', 'TAP', 'MDLZ', 'MPWR', 'MNST', 'MCO', 'MS', 'MOS', 'MSI', 'MSCI', 'NDAQ', 'NTAP', 'NFLX', 'NWL', 'NEM', 'NWSA', 'NWS', 'NEE', 'NLSN', 'NKE', 'NI', 'NSC', 'NTRS', 'NOC', 'NLOK', 'NCLH', 'NOV', 'NRG', 'NUE', 'NVDA', 'NVR', 'ORLY', 'OXY', 'ODFL', 'OMC', 'OKE', 'ORCL', 'OTIS', 'PCAR', 'PKG', 'PH', 'PAYX', 'PAYC', 'PYPL', 'PNR', 'PBCT', 'PEP', 'PKI', 'PRGO', 'PFE', 'PM', 'PSX', 'PNW', 'PXD', 'PNC', 'POOL', 'PPG', 'PPL', 'PFG', 'PG', 'PGR', 'PLD', 'PRU', 'PEG', 'PSA', 'PHM', 'PVH', 'QRVO', 'PWR', 'QCOM', 'DGX', 'RL', 'RJF', 'RTX', 'O', 'REG', 'REGN', 'RF', 'RSG', 'RMD', 'RHI', 'ROK', 'ROL', 'ROP', 'ROST', 'RCL', 'SPGI', 'CRM', 'SBAC', 'SLB', 'STX', 'SEE', 'SRE', 'NOW', 'SHW', 'SPG', 'SWKS', 'SLG', 'SNA', 'SO', 'LUV', 'SWK', 'SBUX', 'STT', 'STE', 'SYK', 'SIVB', 'SYF', 'SNPS', 'SYY', 'TMUS', 'TROW', 'TTWO', 'TPR', 'TGT', 'TEL', 'TDY', 'TFX', 'TER', 'TSLA', 'TXN', 'TXT', 'TMO', 'TJX', 'TSCO', 'TT', 'TDG', 'TRV', 'TRMB', 'TFC', 'TWTR', 'TYL', 'TSN', 'UDR', 'ULTA', 'USB', 'UAA', 'UA', 'UNP', 'UAL', 'UNH', 'UPS', 'URI', 'UHS', 'UNM', 'VLO', 'VAR', 'VTR', 'VRSN', 'VRSK', 'VZ', 'VRTX', 'VFC', 'VIAC', 'VTRS', 'V', 'VNT', 'VNO', 'VMC', 'WRB', 'WAB', 'WMT', 'WBA', 'DIS', 'WM', 'WAT', 'WEC', 'WFC', 'WELL', 'WST', 'WDC', 'WU', 'WRK', 'WY', 'WHR', 'WMB', 'WLTW', 'WYNN', 'XEL', 'XRX', 'XLNX', 'XYL', 'YUM', 'ZBRA', 'ZBH', 'ZION', 'ZTS']\n",
    "list_of_tickers.remove(\"BRK.B\")\n",
    "list_of_tickers.remove(\"BF.B\")\n",
    "\n",
    "total_df = pd.read_csv(\"./data_generation/Stock_data/Daily_data_MMM.csv\")\n",
    "\n",
    "#total_train = \n",
    "#total_test \n",
    "\n",
    "for ticker in list_of_tickers:\n",
    "    if ticker == \"MMM\":\n",
    "        continue\n",
    "    else:\n",
    "        added_df = pd.read_csv(\"./data_generation/Stock_data/Daily_data_\" + ticker + \".csv\")\n",
    "        total_df = pd.concat([total_df, added_df])"
   ]
  },
  {
   "cell_type": "code",
   "execution_count": 3,
   "metadata": {},
   "outputs": [],
   "source": [
    "temp_total_df = total_df"
   ]
  },
  {
   "cell_type": "code",
   "execution_count": 4,
   "metadata": {},
   "outputs": [],
   "source": [
    "total_df = temp_total_df"
   ]
  },
  {
   "cell_type": "code",
   "execution_count": 5,
   "metadata": {},
   "outputs": [
    {
     "name": "stdout",
     "output_type": "stream",
     "text": [
      "         Date   High       Low      Open    Close     Volume  \\\n",
      "0  2000-01-03  48.25  47.03125  48.03125  47.1875  2173400.0   \n",
      "\n",
      "            Adj Close  \n",
      "0  27.588531494140625  \n",
      "             High       Low      Open      Volume    Close\n",
      "0           48.25  47.03125  48.03125   2173400.0  47.1875\n",
      "1        47.40625   45.3125   46.4375   2713800.0  45.3125\n",
      "2          48.125   45.5625   45.5625   3699400.0   46.625\n",
      "3           51.25  47.15625  47.15625   5975800.0   50.375\n",
      "4        51.90625  49.96875   50.5625   4101200.0   51.375\n",
      "...           ...       ...       ...         ...      ...\n",
      "2394927     149.6    145.02    148.01  2.3031e+06   145.15\n",
      "2394928    153.49    147.35     147.5  3.1215e+06   150.14\n",
      "2394929     152.7    148.57    150.45  2.1192e+06   151.09\n",
      "2394930    153.55    152.19    152.66  1.4568e+06   152.36\n",
      "2394931   152.852    150.69     152.2      549339   152.52\n",
      "\n",
      "[2394821 rows x 5 columns]\n",
      "[[-0.13921365 -0.14003961 -0.13668102 -0.1233117  -0.14323969]\n",
      " [-0.14563862 -0.15344718 -0.14896229 -0.10523834 -0.15768607]\n",
      " [-0.1401655  -0.15149699 -0.15570494 -0.07227552 -0.14757361]\n",
      " ...\n",
      " [ 0.65615046  0.65204049  0.65254672 -0.12512439  0.65730151]\n",
      " [ 0.66262308  0.68027922  0.6695768  -0.14727798  0.66708656]\n",
      " [ 0.65730948  0.66857807  0.66603203 -0.17762748  0.66831934]]\n"
     ]
    }
   ],
   "source": [
    "from scipy.stats import zscore\n",
    "print(total_df.head(1))\n",
    "total_df = total_df[[\"High\", \"Low\", \"Open\", \"Volume\", \"Close\"]].reset_index(drop=True)\n",
    "total_df = total_df[total_df.High != \"High\"]\n",
    "print(total_df)\n",
    "\n",
    "scaler = StandardScaler().fit(total_df)\n",
    "total_df_transformed = scaler.transform(total_df)\n",
    "\n",
    "print(total_df_transformed)"
   ]
  },
  {
   "cell_type": "markdown",
   "metadata": {},
   "source": [
    "## Close Model"
   ]
  },
  {
   "cell_type": "code",
   "execution_count": 7,
   "metadata": {},
   "outputs": [
    {
     "name": "stdout",
     "output_type": "stream",
     "text": [
      "(2394814, 7, 5)\n",
      "(2394814, 1)\n"
     ]
    }
   ],
   "source": [
    "X_train = []; Y_train = []\n",
    "\n",
    "previous_periods = 7; future_periods = 1;\n",
    "for index in range(previous_periods, len(total_df) - future_periods + 1):\n",
    "    X_train.append(total_df_transformed[index - previous_periods : index,0 : 5])#total_df.shape[1]-1])\n",
    "    Y_train.append(total_df_transformed[index + future_periods - 1 : index + future_periods, 4]) \n",
    "    \n",
    "X_train = np.array(X_train)\n",
    "Y_train = np.array(Y_train)\n",
    "\n",
    "#X_train = X_train.reshape(X_train.shape[0], X_train.shape[1], 1)\n",
    "\n",
    "print(X_train.shape)\n",
    "print(Y_train.shape)"
   ]
  },
  {
   "cell_type": "code",
   "execution_count": 12,
   "metadata": {},
   "outputs": [
    {
     "name": "stdout",
     "output_type": "stream",
     "text": [
      "Model: \"sequential_2\"\n",
      "_________________________________________________________________\n",
      "Layer (type)                 Output Shape              Param #   \n",
      "=================================================================\n",
      "lstm_4 (LSTM)                (None, 7, 128)            68608     \n",
      "_________________________________________________________________\n",
      "lstm_5 (LSTM)                (None, 64)                49408     \n",
      "_________________________________________________________________\n",
      "dense_2 (Dense)              (None, 1)                 65        \n",
      "=================================================================\n",
      "Total params: 118,081\n",
      "Trainable params: 118,081\n",
      "Non-trainable params: 0\n",
      "_________________________________________________________________\n"
     ]
    }
   ],
   "source": [
    "#LSTM model for time series forecasting\n",
    "model = Sequential()\n",
    "model.add(tf.keras.layers.LSTM(128, input_shape = (X_train.shape[1], 5), return_sequences = True, activation = 'relu'))\n",
    "model.add(tf.keras.layers.LSTM(64, return_sequences = False)) # Changed from 64\n",
    "model.add(tf.keras.layers.Dense(Y_train.shape[1]))\n",
    "\n",
    "early_stopping = tf.keras.callbacks.EarlyStopping(monitor = \"val_loss\", patience = 3)\n",
    "\n",
    "lr = tf.keras.optimizers.schedules.ExponentialDecay(\n",
    "    initial_learning_rate=5e-4,\n",
    "    decay_steps=10000,\n",
    "    decay_rate=0.9)\n",
    "Adam = tf.keras.optimizers.Adam(learning_rate = lr)\n",
    "\n",
    "model.compile(optimizer=\"adam\", loss=\"mse\")\n",
    "model.summary()"
   ]
  },
  {
   "cell_type": "code",
   "execution_count": 13,
   "metadata": {},
   "outputs": [
    {
     "name": "stdout",
     "output_type": "stream",
     "text": [
      "Epoch 1/5\n",
      "59871/59871 [==============================] - 382s 6ms/step - loss: 0.0358 - val_loss: 6.8544e-04\n",
      "Epoch 2/5\n",
      "59871/59871 [==============================] - 374s 6ms/step - loss: 0.0034 - val_loss: 8.2151e-04\n",
      "Epoch 3/5\n",
      "59871/59871 [==============================] - 395s 7ms/step - loss: 0.0090 - val_loss: 7.1776e-04\n",
      "Epoch 4/5\n",
      "59871/59871 [==============================] - 393s 7ms/step - loss: 0.0162 - val_loss: 8.7361e-04\n"
     ]
    }
   ],
   "source": [
    "#Train model\n",
    "with tf.device('/GPU:0'):\n",
    "    history = model.fit(X_train, Y_train, epochs = 5, batch_size = 32, validation_split = 0.2, verbose = 1, callbacks = [early_stopping])"
   ]
  },
  {
   "cell_type": "code",
   "execution_count": 14,
   "metadata": {},
   "outputs": [
    {
     "name": "stderr",
     "output_type": "stream",
     "text": [
      "WARNING:absl:Found untraced functions such as lstm_cell_5_layer_call_and_return_conditional_losses, lstm_cell_5_layer_call_fn, lstm_cell_5_layer_call_fn, lstm_cell_5_layer_call_and_return_conditional_losses, lstm_cell_5_layer_call_and_return_conditional_losses while saving (showing 5 of 5). These functions will not be directly callable after loading.\n",
      "WARNING:absl:Found untraced functions such as lstm_cell_5_layer_call_and_return_conditional_losses, lstm_cell_5_layer_call_fn, lstm_cell_5_layer_call_fn, lstm_cell_5_layer_call_and_return_conditional_losses, lstm_cell_5_layer_call_and_return_conditional_losses while saving (showing 5 of 5). These functions will not be directly callable after loading.\n"
     ]
    },
    {
     "name": "stdout",
     "output_type": "stream",
     "text": [
      "INFO:tensorflow:Assets written to: ./models/close_model_2\\assets\n"
     ]
    },
    {
     "name": "stderr",
     "output_type": "stream",
     "text": [
      "INFO:tensorflow:Assets written to: ./models/close_model_2\\assets\n"
     ]
    }
   ],
   "source": [
    "model.save(\"./models/close_model_2\")"
   ]
  },
  {
   "cell_type": "markdown",
   "metadata": {},
   "source": [
    "## Volume Model"
   ]
  },
  {
   "cell_type": "code",
   "execution_count": 15,
   "metadata": {},
   "outputs": [
    {
     "name": "stdout",
     "output_type": "stream",
     "text": [
      "(2394814, 7, 5)\n",
      "(2394814, 1)\n"
     ]
    }
   ],
   "source": [
    "X_train = []; Y_train = []\n",
    "\n",
    "previous_periods = 7; future_periods = 1;\n",
    "for index in range(previous_periods, len(total_df) - future_periods + 1):\n",
    "    X_train.append(total_df_transformed[index - previous_periods : index, 0:5])#[0,1,2,4]])\n",
    "    Y_train.append(total_df_transformed[index + future_periods - 1 : index + future_periods, 3]) \n",
    "    \n",
    "X_train = np.array(X_train)\n",
    "Y_train = np.array(Y_train)\n",
    "\n",
    "#X_train = X_train.reshape(X_train.shape[0], X_train.shape[1], 1)\n",
    "\n",
    "print(X_train.shape)\n",
    "print(Y_train.shape)"
   ]
  },
  {
   "cell_type": "code",
   "execution_count": 16,
   "metadata": {},
   "outputs": [
    {
     "name": "stdout",
     "output_type": "stream",
     "text": [
      "Model: \"sequential_3\"\n",
      "_________________________________________________________________\n",
      "Layer (type)                 Output Shape              Param #   \n",
      "=================================================================\n",
      "lstm_6 (LSTM)                (None, 7, 128)            68608     \n",
      "_________________________________________________________________\n",
      "lstm_7 (LSTM)                (None, 64)                49408     \n",
      "_________________________________________________________________\n",
      "dense_3 (Dense)              (None, 1)                 65        \n",
      "=================================================================\n",
      "Total params: 118,081\n",
      "Trainable params: 118,081\n",
      "Non-trainable params: 0\n",
      "_________________________________________________________________\n"
     ]
    }
   ],
   "source": [
    "model = Sequential()\n",
    "model.add(tf.keras.layers.LSTM(128, input_shape = (X_train.shape[1], 5), return_sequences = True, activation = 'relu'))\n",
    "model.add(tf.keras.layers.LSTM(64, return_sequences = False)) # Changed from 64\n",
    "model.add(tf.keras.layers.Dense(Y_train.shape[1]))\n",
    "\n",
    "early_stopping = tf.keras.callbacks.EarlyStopping(monitor = \"val_loss\", patience = 3)\n",
    "\n",
    "lr = tf.keras.optimizers.schedules.ExponentialDecay(\n",
    "    initial_learning_rate=5e-4,\n",
    "    decay_steps=10000,\n",
    "    decay_rate=0.9)\n",
    "Adam = tf.keras.optimizers.Adam(learning_rate = lr)\n",
    "\n",
    "model.compile(optimizer=\"adam\", loss=\"mse\")\n",
    "model.summary()"
   ]
  },
  {
   "cell_type": "code",
   "execution_count": 17,
   "metadata": {},
   "outputs": [
    {
     "name": "stdout",
     "output_type": "stream",
     "text": [
      "Epoch 1/5\n",
      "59871/59871 [==============================] - 383s 6ms/step - loss: 0.3589 - val_loss: 0.0149\n",
      "Epoch 2/5\n",
      "59871/59871 [==============================] - 395s 7ms/step - loss: 0.2191 - val_loss: 0.0190\n",
      "Epoch 3/5\n",
      "59871/59871 [==============================] - 416s 7ms/step - loss: 0.1993 - val_loss: 0.0149\n",
      "Epoch 4/5\n",
      "59871/59871 [==============================] - 426s 7ms/step - loss: 0.2064 - val_loss: 0.0151\n"
     ]
    }
   ],
   "source": [
    "#Train model\n",
    "with tf.device('/GPU:0'):\n",
    "    history = model.fit(X_train, Y_train, epochs = 5, batch_size = 32, validation_split = 0.2, verbose = 1, callbacks = [early_stopping])"
   ]
  },
  {
   "cell_type": "code",
   "execution_count": 18,
   "metadata": {},
   "outputs": [
    {
     "name": "stderr",
     "output_type": "stream",
     "text": [
      "WARNING:absl:Found untraced functions such as lstm_cell_7_layer_call_and_return_conditional_losses, lstm_cell_7_layer_call_fn, lstm_cell_7_layer_call_fn, lstm_cell_7_layer_call_and_return_conditional_losses, lstm_cell_7_layer_call_and_return_conditional_losses while saving (showing 5 of 5). These functions will not be directly callable after loading.\n",
      "WARNING:absl:Found untraced functions such as lstm_cell_7_layer_call_and_return_conditional_losses, lstm_cell_7_layer_call_fn, lstm_cell_7_layer_call_fn, lstm_cell_7_layer_call_and_return_conditional_losses, lstm_cell_7_layer_call_and_return_conditional_losses while saving (showing 5 of 5). These functions will not be directly callable after loading.\n"
     ]
    },
    {
     "name": "stdout",
     "output_type": "stream",
     "text": [
      "INFO:tensorflow:Assets written to: ./models/volume_model_2\\assets\n"
     ]
    },
    {
     "name": "stderr",
     "output_type": "stream",
     "text": [
      "INFO:tensorflow:Assets written to: ./models/volume_model_2\\assets\n"
     ]
    }
   ],
   "source": [
    "model.save(\"./models/volume_model_2\")"
   ]
  },
  {
   "cell_type": "markdown",
   "metadata": {},
   "source": [
    "## Open Model"
   ]
  },
  {
   "cell_type": "code",
   "execution_count": 19,
   "metadata": {},
   "outputs": [
    {
     "name": "stdout",
     "output_type": "stream",
     "text": [
      "(2394814, 7, 5)\n",
      "(2394814, 1)\n"
     ]
    }
   ],
   "source": [
    "X_train = []; Y_train = []\n",
    "\n",
    "previous_periods = 7; future_periods = 1;\n",
    "for index in range(previous_periods, len(total_df) - future_periods + 1):\n",
    "    X_train.append(total_df_transformed[index - previous_periods : index, 0:5])#[0,1,3,4]])\n",
    "    Y_train.append(total_df_transformed[index + future_periods - 1 : index + future_periods, 2]) \n",
    "    \n",
    "X_train = np.array(X_train)\n",
    "Y_train = np.array(Y_train)\n",
    "\n",
    "#X_train = X_train.reshape(X_train.shape[0], X_train.shape[1], 1)\n",
    "\n",
    "print(X_train.shape)\n",
    "print(Y_train.shape)"
   ]
  },
  {
   "cell_type": "code",
   "execution_count": 20,
   "metadata": {},
   "outputs": [
    {
     "name": "stdout",
     "output_type": "stream",
     "text": [
      "Model: \"sequential_4\"\n",
      "_________________________________________________________________\n",
      "Layer (type)                 Output Shape              Param #   \n",
      "=================================================================\n",
      "lstm_8 (LSTM)                (None, 7, 128)            68608     \n",
      "_________________________________________________________________\n",
      "lstm_9 (LSTM)                (None, 64)                49408     \n",
      "_________________________________________________________________\n",
      "dense_4 (Dense)              (None, 1)                 65        \n",
      "=================================================================\n",
      "Total params: 118,081\n",
      "Trainable params: 118,081\n",
      "Non-trainable params: 0\n",
      "_________________________________________________________________\n"
     ]
    }
   ],
   "source": [
    "model = Sequential()\n",
    "model.add(tf.keras.layers.LSTM(128, input_shape = (X_train.shape[1], 5), return_sequences = True, activation = 'relu'))\n",
    "model.add(tf.keras.layers.LSTM(64, return_sequences = False)) # Changed from 64\n",
    "model.add(tf.keras.layers.Dense(Y_train.shape[1]))\n",
    "\n",
    "early_stopping = tf.keras.callbacks.EarlyStopping(monitor = \"val_loss\", patience = 3)\n",
    "\n",
    "lr = tf.keras.optimizers.schedules.ExponentialDecay(\n",
    "    initial_learning_rate=5e-4,\n",
    "    decay_steps=10000,\n",
    "    decay_rate=0.9)\n",
    "Adam = tf.keras.optimizers.Adam(learning_rate = lr)\n",
    "\n",
    "model.compile(optimizer=\"adam\", loss=\"mse\")\n",
    "model.summary()"
   ]
  },
  {
   "cell_type": "code",
   "execution_count": 21,
   "metadata": {},
   "outputs": [
    {
     "name": "stdout",
     "output_type": "stream",
     "text": [
      "Epoch 1/5\n",
      "59871/59871 [==============================] - 521s 9ms/step - loss: 0.0395 - val_loss: 6.3231e-04\n",
      "Epoch 2/5\n",
      "59871/59871 [==============================] - 579s 10ms/step - loss: 0.0041 - val_loss: 5.6252e-04\n",
      "Epoch 3/5\n",
      "59871/59871 [==============================] - 560s 9ms/step - loss: 0.0059 - val_loss: 5.7954e-04\n",
      "Epoch 4/5\n",
      "59871/59871 [==============================] - 559s 9ms/step - loss: 0.0115 - val_loss: 5.7404e-04\n",
      "Epoch 5/5\n",
      "59871/59871 [==============================] - 542s 9ms/step - loss: 0.0199 - val_loss: 6.3168e-04\n"
     ]
    }
   ],
   "source": [
    "#Train model\n",
    "with tf.device('/GPU:0'):\n",
    "    history = model.fit(X_train, Y_train, epochs = 5, batch_size = 32, validation_split = 0.2, verbose = 1, callbacks = [early_stopping])"
   ]
  },
  {
   "cell_type": "code",
   "execution_count": 22,
   "metadata": {},
   "outputs": [
    {
     "name": "stderr",
     "output_type": "stream",
     "text": [
      "WARNING:absl:Found untraced functions such as lstm_cell_9_layer_call_and_return_conditional_losses, lstm_cell_9_layer_call_fn, lstm_cell_9_layer_call_fn, lstm_cell_9_layer_call_and_return_conditional_losses, lstm_cell_9_layer_call_and_return_conditional_losses while saving (showing 5 of 5). These functions will not be directly callable after loading.\n",
      "WARNING:absl:Found untraced functions such as lstm_cell_9_layer_call_and_return_conditional_losses, lstm_cell_9_layer_call_fn, lstm_cell_9_layer_call_fn, lstm_cell_9_layer_call_and_return_conditional_losses, lstm_cell_9_layer_call_and_return_conditional_losses while saving (showing 5 of 5). These functions will not be directly callable after loading.\n"
     ]
    },
    {
     "name": "stdout",
     "output_type": "stream",
     "text": [
      "INFO:tensorflow:Assets written to: ./models/open_model_2\\assets\n"
     ]
    },
    {
     "name": "stderr",
     "output_type": "stream",
     "text": [
      "INFO:tensorflow:Assets written to: ./models/open_model_2\\assets\n"
     ]
    }
   ],
   "source": [
    "model.save(\"./models/open_model_2\")"
   ]
  },
  {
   "cell_type": "markdown",
   "metadata": {},
   "source": [
    "## Low Model"
   ]
  },
  {
   "cell_type": "code",
   "execution_count": 23,
   "metadata": {},
   "outputs": [
    {
     "name": "stdout",
     "output_type": "stream",
     "text": [
      "(2394814, 7, 5)\n",
      "(2394814, 1)\n"
     ]
    }
   ],
   "source": [
    "X_train = []; Y_train = []\n",
    "\n",
    "previous_periods = 7; future_periods = 1;\n",
    "for index in range(previous_periods, len(total_df) - future_periods + 1):\n",
    "    X_train.append(total_df_transformed[index - previous_periods : index, 0:5])#[0,2,3,4]])\n",
    "    Y_train.append(total_df_transformed[index + future_periods - 1 : index + future_periods, 1]) \n",
    "    \n",
    "X_train = np.array(X_train)\n",
    "Y_train = np.array(Y_train)\n",
    "\n",
    "#X_train = X_train.reshape(X_train.shape[0], X_train.shape[1], 1)\n",
    "\n",
    "print(X_train.shape)\n",
    "print(Y_train.shape)"
   ]
  },
  {
   "cell_type": "code",
   "execution_count": 24,
   "metadata": {},
   "outputs": [
    {
     "name": "stdout",
     "output_type": "stream",
     "text": [
      "Model: \"sequential_5\"\n",
      "_________________________________________________________________\n",
      "Layer (type)                 Output Shape              Param #   \n",
      "=================================================================\n",
      "lstm_10 (LSTM)               (None, 7, 128)            68608     \n",
      "_________________________________________________________________\n",
      "lstm_11 (LSTM)               (None, 64)                49408     \n",
      "_________________________________________________________________\n",
      "dense_5 (Dense)              (None, 1)                 65        \n",
      "=================================================================\n",
      "Total params: 118,081\n",
      "Trainable params: 118,081\n",
      "Non-trainable params: 0\n",
      "_________________________________________________________________\n"
     ]
    }
   ],
   "source": [
    "model = Sequential()\n",
    "model.add(tf.keras.layers.LSTM(128, input_shape = (X_train.shape[1], 5), return_sequences = True, activation = 'relu'))\n",
    "model.add(tf.keras.layers.LSTM(64, return_sequences = False)) # Changed from 64\n",
    "model.add(tf.keras.layers.Dense(Y_train.shape[1]))\n",
    "\n",
    "early_stopping = tf.keras.callbacks.EarlyStopping(monitor = \"val_loss\", patience = 3)\n",
    "\n",
    "lr = tf.keras.optimizers.schedules.ExponentialDecay(\n",
    "    initial_learning_rate=5e-4,\n",
    "    decay_steps=10000,\n",
    "    decay_rate=0.9)\n",
    "Adam = tf.keras.optimizers.Adam(learning_rate = lr)\n",
    "\n",
    "model.compile(optimizer=\"adam\", loss=\"mse\")\n",
    "model.summary()"
   ]
  },
  {
   "cell_type": "code",
   "execution_count": 25,
   "metadata": {},
   "outputs": [
    {
     "name": "stdout",
     "output_type": "stream",
     "text": [
      "Epoch 1/5\n",
      "59871/59871 [==============================] - 571s 10ms/step - loss: 0.0380 - val_loss: 8.5325e-04\n",
      "Epoch 2/5\n",
      "59871/59871 [==============================] - 582s 10ms/step - loss: 0.0059 - val_loss: 7.4336e-04\n",
      "Epoch 3/5\n",
      "59871/59871 [==============================] - 573s 10ms/step - loss: 0.0079 - val_loss: 6.4691e-04\n",
      "Epoch 4/5\n",
      "59871/59871 [==============================] - 549s 9ms/step - loss: 0.0072 - val_loss: 0.0012\n",
      "Epoch 5/5\n",
      "59871/59871 [==============================] - 562s 9ms/step - loss: 0.0098 - val_loss: 0.0012\n"
     ]
    }
   ],
   "source": [
    "#Train model\n",
    "with tf.device('/GPU:0'):\n",
    "    history = model.fit(X_train, Y_train, epochs = 5, batch_size = 32, validation_split = 0.2, verbose = 1, callbacks = [early_stopping])"
   ]
  },
  {
   "cell_type": "code",
   "execution_count": 26,
   "metadata": {},
   "outputs": [
    {
     "name": "stderr",
     "output_type": "stream",
     "text": [
      "WARNING:absl:Found untraced functions such as lstm_cell_11_layer_call_and_return_conditional_losses, lstm_cell_11_layer_call_fn, lstm_cell_11_layer_call_fn, lstm_cell_11_layer_call_and_return_conditional_losses, lstm_cell_11_layer_call_and_return_conditional_losses while saving (showing 5 of 5). These functions will not be directly callable after loading.\n",
      "WARNING:absl:Found untraced functions such as lstm_cell_11_layer_call_and_return_conditional_losses, lstm_cell_11_layer_call_fn, lstm_cell_11_layer_call_fn, lstm_cell_11_layer_call_and_return_conditional_losses, lstm_cell_11_layer_call_and_return_conditional_losses while saving (showing 5 of 5). These functions will not be directly callable after loading.\n"
     ]
    },
    {
     "name": "stdout",
     "output_type": "stream",
     "text": [
      "INFO:tensorflow:Assets written to: ./models/low_model_2\\assets\n"
     ]
    },
    {
     "name": "stderr",
     "output_type": "stream",
     "text": [
      "INFO:tensorflow:Assets written to: ./models/low_model_2\\assets\n"
     ]
    }
   ],
   "source": [
    "model.save(\"./models/low_model_2\")"
   ]
  },
  {
   "cell_type": "markdown",
   "metadata": {},
   "source": [
    "## High Model"
   ]
  },
  {
   "cell_type": "code",
   "execution_count": 6,
   "metadata": {},
   "outputs": [
    {
     "name": "stdout",
     "output_type": "stream",
     "text": [
      "(2394814, 7, 5)\n",
      "(2394814, 1)\n"
     ]
    }
   ],
   "source": [
    "X_train = []; Y_train = []\n",
    "\n",
    "previous_periods = 7; future_periods = 1;\n",
    "for index in range(previous_periods, len(total_df) - future_periods + 1):\n",
    "    X_train.append(total_df_transformed[index - previous_periods : index, 0:5])#[1,2,3,4]])\n",
    "    Y_train.append(total_df_transformed[index + future_periods - 1 : index + future_periods, 0]) \n",
    "    \n",
    "X_train = np.array(X_train)\n",
    "Y_train = np.array(Y_train)\n",
    "\n",
    "#X_train = X_train.reshape(X_train.shape[0], X_train.shape[1], 1)\n",
    "\n",
    "print(X_train.shape)\n",
    "print(Y_train.shape)"
   ]
  },
  {
   "cell_type": "code",
   "execution_count": 7,
   "metadata": {},
   "outputs": [
    {
     "name": "stdout",
     "output_type": "stream",
     "text": [
      "Model: \"sequential\"\n",
      "_________________________________________________________________\n",
      "Layer (type)                 Output Shape              Param #   \n",
      "=================================================================\n",
      "lstm (LSTM)                  (None, 7, 128)            68608     \n",
      "_________________________________________________________________\n",
      "lstm_1 (LSTM)                (None, 64)                49408     \n",
      "_________________________________________________________________\n",
      "dense (Dense)                (None, 1)                 65        \n",
      "=================================================================\n",
      "Total params: 118,081\n",
      "Trainable params: 118,081\n",
      "Non-trainable params: 0\n",
      "_________________________________________________________________\n"
     ]
    }
   ],
   "source": [
    "model = Sequential()\n",
    "model.add(tf.keras.layers.LSTM(128, input_shape = (X_train.shape[1], 5), return_sequences = True, activation = 'relu'))\n",
    "model.add(tf.keras.layers.LSTM(64, return_sequences = False)) # Changed from 64\n",
    "model.add(tf.keras.layers.Dense(Y_train.shape[1]))\n",
    "\n",
    "early_stopping = tf.keras.callbacks.EarlyStopping(monitor = \"val_loss\", patience = 3)\n",
    "\n",
    "lr = tf.keras.optimizers.schedules.ExponentialDecay(\n",
    "    initial_learning_rate=5e-4,\n",
    "    decay_steps=10000,\n",
    "    decay_rate=0.9)\n",
    "Adam = tf.keras.optimizers.Adam(learning_rate = lr)\n",
    "\n",
    "model.compile(optimizer=\"adam\", loss=\"mse\")\n",
    "model.summary()"
   ]
  },
  {
   "cell_type": "code",
   "execution_count": 8,
   "metadata": {},
   "outputs": [
    {
     "name": "stdout",
     "output_type": "stream",
     "text": [
      "Epoch 1/5\n",
      "59871/59871 [==============================] - 373s 6ms/step - loss: 0.0314 - val_loss: 7.1610e-04\n",
      "Epoch 2/5\n",
      "59871/59871 [==============================] - 352s 6ms/step - loss: 0.0061 - val_loss: 6.4266e-04\n",
      "Epoch 3/5\n",
      "59871/59871 [==============================] - 377s 6ms/step - loss: 0.0055 - val_loss: 6.9091e-04\n",
      "Epoch 4/5\n",
      "59871/59871 [==============================] - 438s 7ms/step - loss: 0.0081 - val_loss: 6.4187e-04\n",
      "Epoch 5/5\n",
      "59871/59871 [==============================] - 437s 7ms/step - loss: 0.0188 - val_loss: 6.6171e-04\n"
     ]
    }
   ],
   "source": [
    "#Train model\n",
    "with tf.device('/GPU:0'):\n",
    "    history = model.fit(X_train, Y_train, epochs = 5, batch_size = 32, validation_split = 0.2, verbose = 1, callbacks = [early_stopping])"
   ]
  },
  {
   "cell_type": "code",
   "execution_count": 9,
   "metadata": {},
   "outputs": [
    {
     "name": "stderr",
     "output_type": "stream",
     "text": [
      "WARNING:absl:Found untraced functions such as lstm_cell_1_layer_call_and_return_conditional_losses, lstm_cell_1_layer_call_fn, lstm_cell_1_layer_call_fn, lstm_cell_1_layer_call_and_return_conditional_losses, lstm_cell_1_layer_call_and_return_conditional_losses while saving (showing 5 of 5). These functions will not be directly callable after loading.\n",
      "WARNING:absl:Found untraced functions such as lstm_cell_1_layer_call_and_return_conditional_losses, lstm_cell_1_layer_call_fn, lstm_cell_1_layer_call_fn, lstm_cell_1_layer_call_and_return_conditional_losses, lstm_cell_1_layer_call_and_return_conditional_losses while saving (showing 5 of 5). These functions will not be directly callable after loading.\n"
     ]
    },
    {
     "name": "stdout",
     "output_type": "stream",
     "text": [
      "INFO:tensorflow:Assets written to: ./models/high_model_2\\assets\n"
     ]
    },
    {
     "name": "stderr",
     "output_type": "stream",
     "text": [
      "INFO:tensorflow:Assets written to: ./models/high_model_2\\assets\n"
     ]
    }
   ],
   "source": [
    "model.save(\"./models/high_model_2\")"
   ]
  },
  {
   "cell_type": "markdown",
   "metadata": {},
   "source": [
    "# IGNORE BELOW"
   ]
  },
  {
   "cell_type": "markdown",
   "metadata": {},
   "source": [
    "## Predict all five at once "
   ]
  },
  {
   "cell_type": "code",
   "execution_count": 13,
   "metadata": {},
   "outputs": [
    {
     "name": "stdout",
     "output_type": "stream",
     "text": [
      "(2394814, 7, 5)\n",
      "(2394814, 5)\n"
     ]
    }
   ],
   "source": [
    "X_train = []; Y_train = []\n",
    "\n",
    "previous_periods = 7; future_periods = 1;\n",
    "for index in range(previous_periods, len(total_df) - future_periods + 1):\n",
    "    X_train.append(total_df_transformed[index - previous_periods : index, 0:5])\n",
    "    Y_train.append(total_df_transformed[index + future_periods - 1 : index + future_periods, 0:5]) \n",
    "    \n",
    "X_train = np.array(X_train)\n",
    "Y_train = np.array(Y_train)\n",
    "\n",
    "#X_train = X_train.reshape(X_train.shape[0], X_train.shape[1], 1)\n",
    "Y_train = Y_train.reshape(Y_train.shape[0], -1)\n",
    "\n",
    "print(X_train.shape)\n",
    "print(Y_train.shape)"
   ]
  },
  {
   "cell_type": "code",
   "execution_count": 14,
   "metadata": {},
   "outputs": [
    {
     "name": "stdout",
     "output_type": "stream",
     "text": [
      "Model: \"sequential_2\"\n",
      "_________________________________________________________________\n",
      "Layer (type)                 Output Shape              Param #   \n",
      "=================================================================\n",
      "lstm_4 (LSTM)                (None, 7, 128)            68608     \n",
      "_________________________________________________________________\n",
      "lstm_5 (LSTM)                (None, 64)                49408     \n",
      "_________________________________________________________________\n",
      "dense_2 (Dense)              (None, 5)                 325       \n",
      "=================================================================\n",
      "Total params: 118,341\n",
      "Trainable params: 118,341\n",
      "Non-trainable params: 0\n",
      "_________________________________________________________________\n"
     ]
    }
   ],
   "source": [
    "model = Sequential()\n",
    "model.add(tf.keras.layers.LSTM(128, input_shape = (X_train.shape[1], 5), return_sequences = True, activation = 'relu'))\n",
    "model.add(tf.keras.layers.LSTM(64, return_sequences = False)) # Changed from 64\n",
    "model.add(tf.keras.layers.Dense(Y_train.shape[1]))\n",
    "\n",
    "early_stopping = tf.keras.callbacks.EarlyStopping(monitor = \"val_loss\", patience = 1)\n",
    "\n",
    "lr = tf.keras.optimizers.schedules.ExponentialDecay(\n",
    "    initial_learning_rate=5e-4,\n",
    "    decay_steps=10000,\n",
    "    decay_rate=0.9)\n",
    "Adam = tf.keras.optimizers.Adam(learning_rate = lr)\n",
    "\n",
    "model.compile(optimizer=\"adam\", loss=\"mse\")\n",
    "model.summary()"
   ]
  },
  {
   "cell_type": "code",
   "execution_count": 15,
   "metadata": {},
   "outputs": [
    {
     "name": "stdout",
     "output_type": "stream",
     "text": [
      "Epoch 1/5\n",
      "59871/59871 [==============================] - 420s 7ms/step - loss: 0.0961 - val_loss: 0.0036\n",
      "Epoch 2/5\n",
      "59871/59871 [==============================] - 391s 7ms/step - loss: 0.0446 - val_loss: 0.0035\n",
      "Epoch 3/5\n",
      "59871/59871 [==============================] - 426s 7ms/step - loss: 0.0585 - val_loss: 0.0037\n"
     ]
    }
   ],
   "source": [
    "#Train model\n",
    "with tf.device('/GPU:0'):\n",
    "    history = model.fit(X_train, Y_train, epochs = 5, batch_size = 32, validation_split = 0.2, verbose = 1, callbacks = [early_stopping])"
   ]
  },
  {
   "cell_type": "code",
   "execution_count": 16,
   "metadata": {},
   "outputs": [
    {
     "name": "stderr",
     "output_type": "stream",
     "text": [
      "WARNING:absl:Found untraced functions such as lstm_cell_5_layer_call_fn, lstm_cell_5_layer_call_and_return_conditional_losses, lstm_cell_5_layer_call_fn, lstm_cell_5_layer_call_and_return_conditional_losses, lstm_cell_5_layer_call_and_return_conditional_losses while saving (showing 5 of 5). These functions will not be directly callable after loading.\n",
      "WARNING:absl:Found untraced functions such as lstm_cell_5_layer_call_fn, lstm_cell_5_layer_call_and_return_conditional_losses, lstm_cell_5_layer_call_fn, lstm_cell_5_layer_call_and_return_conditional_losses, lstm_cell_5_layer_call_and_return_conditional_losses while saving (showing 5 of 5). These functions will not be directly callable after loading.\n"
     ]
    },
    {
     "name": "stdout",
     "output_type": "stream",
     "text": [
      "INFO:tensorflow:Assets written to: ./models/final_model\\assets\n"
     ]
    },
    {
     "name": "stderr",
     "output_type": "stream",
     "text": [
      "INFO:tensorflow:Assets written to: ./models/final_model\\assets\n"
     ]
    }
   ],
   "source": [
    "model.save(\"./models/final_model\")"
   ]
  },
  {
   "cell_type": "code",
   "execution_count": null,
   "metadata": {},
   "outputs": [],
   "source": []
  },
  {
   "cell_type": "code",
   "execution_count": null,
   "metadata": {},
   "outputs": [],
   "source": []
  },
  {
   "cell_type": "code",
   "execution_count": null,
   "metadata": {},
   "outputs": [],
   "source": []
  }
 ],
 "metadata": {
  "kernelspec": {
   "display_name": "Python 3",
   "language": "python",
   "name": "python3"
  },
  "language_info": {
   "codemirror_mode": {
    "name": "ipython",
    "version": 3
   },
   "file_extension": ".py",
   "mimetype": "text/x-python",
   "name": "python",
   "nbconvert_exporter": "python",
   "pygments_lexer": "ipython3",
   "version": "3.7.9"
  }
 },
 "nbformat": 4,
 "nbformat_minor": 4
}
