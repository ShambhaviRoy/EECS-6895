{
  "nbformat": 4,
  "nbformat_minor": 0,
  "metadata": {
    "colab": {
      "name": "Stock-Prediction(policy-gradient).ipynb",
      "provenance": []
    },
    "kernelspec": {
      "name": "python3",
      "display_name": "Python 3"
    },
    "language_info": {
      "name": "python"
    }
  },
  "cells": [
    {
      "cell_type": "code",
      "metadata": {
        "colab": {
          "base_uri": "https://localhost:8080/"
        },
        "id": "dHrh93zPjPO_",
        "outputId": "dadcc799-bbf8-4855-fe3f-a926ebf1f7c7"
      },
      "source": [
        "from google.colab import drive\n",
        "drive.mount('/content/drive')"
      ],
      "execution_count": 1,
      "outputs": [
        {
          "output_type": "stream",
          "text": [
            "Mounted at /content/drive\n"
          ],
          "name": "stdout"
        }
      ]
    },
    {
      "cell_type": "code",
      "metadata": {
        "colab": {
          "base_uri": "https://localhost:8080/"
        },
        "id": "WvlttkGqjYsQ",
        "outputId": "06c12b65-1295-456f-e940-ded3704208eb"
      },
      "source": [
        "path = '/content/drive/MyDrive/Stock-Prediction/'\n",
        "!ls /content/drive/MyDrive/Stock-Prediction"
      ],
      "execution_count": 2,
      "outputs": [
        {
          "output_type": "stream",
          "text": [
            "AAPL.csv  AMZN.csv  Daily_data_AAPL.csv  GOOG.csv  GOOG-year.csv\n"
          ],
          "name": "stdout"
        }
      ]
    },
    {
      "cell_type": "code",
      "metadata": {
        "id": "A8fhsQ9hjD_E",
        "colab": {
          "base_uri": "https://localhost:8080/"
        },
        "outputId": "e3b1c798-54a3-4ac0-ea0d-3a8f06121663"
      },
      "source": [
        "import numpy as np\n",
        "import pandas as pd\n",
        "#import tensorflow as tf\n",
        "import tensorflow.compat.v1 as tf\n",
        "tf.disable_v2_behavior()\n",
        "import matplotlib.pyplot as plt\n",
        "import seaborn as sns\n",
        "sns.set()"
      ],
      "execution_count": 3,
      "outputs": [
        {
          "output_type": "stream",
          "text": [
            "WARNING:tensorflow:From /usr/local/lib/python3.7/dist-packages/tensorflow/python/compat/v2_compat.py:96: disable_resource_variables (from tensorflow.python.ops.variable_scope) is deprecated and will be removed in a future version.\n",
            "Instructions for updating:\n",
            "non-resource variables are not supported in the long term\n"
          ],
          "name": "stdout"
        }
      ]
    },
    {
      "cell_type": "code",
      "metadata": {
        "colab": {
          "base_uri": "https://localhost:8080/",
          "height": 204
        },
        "id": "noY93Z2kjfX9",
        "outputId": "d2a3416d-58b8-4f1f-cd39-d40d21a1b084"
      },
      "source": [
        "df = pd.read_csv(path+'AAPL.csv')\n",
        "df.head()"
      ],
      "execution_count": 4,
      "outputs": [
        {
          "output_type": "execute_result",
          "data": {
            "text/html": [
              "<div>\n",
              "<style scoped>\n",
              "    .dataframe tbody tr th:only-of-type {\n",
              "        vertical-align: middle;\n",
              "    }\n",
              "\n",
              "    .dataframe tbody tr th {\n",
              "        vertical-align: top;\n",
              "    }\n",
              "\n",
              "    .dataframe thead th {\n",
              "        text-align: right;\n",
              "    }\n",
              "</style>\n",
              "<table border=\"1\" class=\"dataframe\">\n",
              "  <thead>\n",
              "    <tr style=\"text-align: right;\">\n",
              "      <th></th>\n",
              "      <th>Date</th>\n",
              "      <th>Open</th>\n",
              "      <th>High</th>\n",
              "      <th>Low</th>\n",
              "      <th>Close</th>\n",
              "      <th>Adj Close</th>\n",
              "      <th>Volume</th>\n",
              "    </tr>\n",
              "  </thead>\n",
              "  <tbody>\n",
              "    <tr>\n",
              "      <th>0</th>\n",
              "      <td>2020-04-23</td>\n",
              "      <td>68.967499</td>\n",
              "      <td>70.437500</td>\n",
              "      <td>68.717499</td>\n",
              "      <td>68.757500</td>\n",
              "      <td>68.228622</td>\n",
              "      <td>124814400</td>\n",
              "    </tr>\n",
              "    <tr>\n",
              "      <th>1</th>\n",
              "      <td>2020-04-24</td>\n",
              "      <td>69.300003</td>\n",
              "      <td>70.752502</td>\n",
              "      <td>69.250000</td>\n",
              "      <td>70.742500</td>\n",
              "      <td>70.198349</td>\n",
              "      <td>126508800</td>\n",
              "    </tr>\n",
              "    <tr>\n",
              "      <th>2</th>\n",
              "      <td>2020-04-27</td>\n",
              "      <td>70.449997</td>\n",
              "      <td>71.135002</td>\n",
              "      <td>69.987503</td>\n",
              "      <td>70.792503</td>\n",
              "      <td>70.247971</td>\n",
              "      <td>117087600</td>\n",
              "    </tr>\n",
              "    <tr>\n",
              "      <th>3</th>\n",
              "      <td>2020-04-28</td>\n",
              "      <td>71.269997</td>\n",
              "      <td>71.457497</td>\n",
              "      <td>69.550003</td>\n",
              "      <td>69.644997</td>\n",
              "      <td>69.109299</td>\n",
              "      <td>112004800</td>\n",
              "    </tr>\n",
              "    <tr>\n",
              "      <th>4</th>\n",
              "      <td>2020-04-29</td>\n",
              "      <td>71.182503</td>\n",
              "      <td>72.417503</td>\n",
              "      <td>70.972504</td>\n",
              "      <td>71.932503</td>\n",
              "      <td>71.379196</td>\n",
              "      <td>137280800</td>\n",
              "    </tr>\n",
              "  </tbody>\n",
              "</table>\n",
              "</div>"
            ],
            "text/plain": [
              "         Date       Open       High        Low      Close  Adj Close     Volume\n",
              "0  2020-04-23  68.967499  70.437500  68.717499  68.757500  68.228622  124814400\n",
              "1  2020-04-24  69.300003  70.752502  69.250000  70.742500  70.198349  126508800\n",
              "2  2020-04-27  70.449997  71.135002  69.987503  70.792503  70.247971  117087600\n",
              "3  2020-04-28  71.269997  71.457497  69.550003  69.644997  69.109299  112004800\n",
              "4  2020-04-29  71.182503  72.417503  70.972504  71.932503  71.379196  137280800"
            ]
          },
          "metadata": {
            "tags": []
          },
          "execution_count": 4
        }
      ]
    },
    {
      "cell_type": "code",
      "metadata": {
        "id": "kdjUcDrvjhTa"
      },
      "source": [
        "class Agent:\n",
        "\n",
        "    LEARNING_RATE = 1e-4\n",
        "    LAYER_SIZE = 256\n",
        "    GAMMA = 0.9\n",
        "    OUTPUT_SIZE = 3\n",
        "\n",
        "    def __init__(self, state_size, window_size, trend, skip):\n",
        "        self.state_size = state_size\n",
        "        self.window_size = window_size\n",
        "        self.half_window = window_size // 2\n",
        "        self.trend = trend\n",
        "        self.skip = skip\n",
        "        self.X = tf.placeholder(tf.float32, (None, self.state_size))\n",
        "        self.REWARDS = tf.placeholder(tf.float32, (None))\n",
        "        self.ACTIONS = tf.placeholder(tf.int32, (None))\n",
        "        feed_forward = tf.layers.dense(self.X, self.LAYER_SIZE, activation = tf.nn.relu)\n",
        "        self.logits = tf.layers.dense(feed_forward, self.OUTPUT_SIZE, activation = tf.nn.softmax)\n",
        "        input_y = tf.one_hot(self.ACTIONS, self.OUTPUT_SIZE)\n",
        "        loglike = tf.log((input_y * (input_y - self.logits) + (1 - input_y) * (input_y + self.logits)) + 1)\n",
        "        rewards = tf.tile(tf.reshape(self.REWARDS, (-1,1)), [1, self.OUTPUT_SIZE])\n",
        "        self.cost = -tf.reduce_mean(loglike * (rewards + 1)) \n",
        "        self.optimizer = tf.train.AdamOptimizer(learning_rate = self.LEARNING_RATE).minimize(self.cost)\n",
        "        self.sess = tf.InteractiveSession()\n",
        "        self.sess.run(tf.global_variables_initializer())\n",
        "    \n",
        "    def predict(self, inputs):\n",
        "        return self.sess.run(self.logits, feed_dict={self.X:inputs})\n",
        "    \n",
        "    def get_state(self, t):\n",
        "        window_size = self.window_size + 1\n",
        "        d = t - window_size + 1\n",
        "        block = self.trend[d : t + 1] if d >= 0 else -d * [self.trend[0]] + self.trend[0 : t + 1]\n",
        "        res = []\n",
        "        for i in range(window_size - 1):\n",
        "            res.append(block[i + 1] - block[i])\n",
        "        return np.array([res])\n",
        "    \n",
        "    def discount_rewards(self, r):\n",
        "        discounted_r = np.zeros_like(r)\n",
        "        running_add = 0\n",
        "        for t in reversed(range(0, r.size)):\n",
        "            running_add = running_add * self.GAMMA + r[t]\n",
        "            discounted_r[t] = running_add\n",
        "        return discounted_r\n",
        "    \n",
        "    def get_predicted_action(self, sequence):\n",
        "        prediction = self.predict(np.array(sequence))[0]\n",
        "        return np.argmax(prediction)\n",
        "    \n",
        "    def buy(self, initial_money):\n",
        "        starting_money = initial_money\n",
        "        states_sell = []\n",
        "        states_buy = []\n",
        "        inventory = []\n",
        "        state = self.get_state(0)\n",
        "        for t in range(0, len(self.trend) - 1, self.skip):\n",
        "            action = self.get_predicted_action(state)\n",
        "            next_state = self.get_state(t + 1)\n",
        "            \n",
        "            if action == 1 and initial_money >= self.trend[t] and t < (len(self.trend) - self.half_window):\n",
        "                inventory.append(self.trend[t])\n",
        "                initial_money -= self.trend[t]\n",
        "                states_buy.append(t)\n",
        "                print('day %d: buy 1 unit at price %f, total balance %f'% (t, self.trend[t], initial_money))\n",
        "                \n",
        "                \n",
        "            elif action == 2 and len(inventory):\n",
        "                bought_price = inventory.pop(0)\n",
        "                initial_money += self.trend[t]\n",
        "                states_sell.append(t)\n",
        "                try:\n",
        "                    invest = ((close[t] - bought_price) / bought_price) * 100\n",
        "                except:\n",
        "                    invest = 0\n",
        "                print(\n",
        "                    'day %d, sell 1 unit at price %f, investment %f %%, total balance %f,'\n",
        "                    % (t, close[t], invest, initial_money)\n",
        "                )\n",
        "            \n",
        "            state = next_state\n",
        "        invest = ((initial_money - starting_money) / starting_money) * 100\n",
        "        total_gains = initial_money - starting_money\n",
        "        return states_buy, states_sell, total_gains, invest\n",
        "        \n",
        "    \n",
        "    def train(self, iterations, checkpoint, initial_money):\n",
        "        for i in range(iterations):\n",
        "            ep_history = []\n",
        "            total_profit = 0\n",
        "            inventory = []\n",
        "            state = self.get_state(0)\n",
        "            starting_money = initial_money\n",
        "            for t in range(0, len(self.trend) - 1, self.skip):\n",
        "                action = self.get_predicted_action(state)\n",
        "                next_state = self.get_state(t + 1)\n",
        "                if action == 1 and starting_money >= self.trend[t] and t < (len(self.trend) - self.half_window):\n",
        "                    inventory.append(self.trend[t])\n",
        "                    starting_money -= close[t]\n",
        "                \n",
        "                elif action == 2 and len(inventory):\n",
        "                    bought_price = inventory.pop(0)\n",
        "                    total_profit += self.trend[t] - bought_price\n",
        "                    starting_money += self.trend[t]\n",
        "                ep_history.append([state,action,starting_money,next_state])\n",
        "                state = next_state\n",
        "            ep_history = np.array(ep_history)\n",
        "            ep_history[:,2] = self.discount_rewards(ep_history[:,2])\n",
        "            cost, _ = self.sess.run([self.cost, self.optimizer], feed_dict={self.X:np.vstack(ep_history[:,0]),\n",
        "                                                    self.REWARDS:ep_history[:,2],\n",
        "                                                    self.ACTIONS:ep_history[:,1]})\n",
        "            if (i+1) % checkpoint == 0:\n",
        "                print('epoch: %d, total rewards: %f.3, cost: %f, total money: %f'%(i + 1, total_profit, cost,\n",
        "                                                                                  starting_money))"
      ],
      "execution_count": 5,
      "outputs": []
    },
    {
      "cell_type": "code",
      "metadata": {
        "colab": {
          "base_uri": "https://localhost:8080/"
        },
        "id": "N-I5rX_ijq9_",
        "outputId": "b45869a1-e523-45da-d0ea-a99b0c756bcf"
      },
      "source": [
        "close = df.Close.values.tolist()\n",
        "initial_money = 10000\n",
        "window_size = 30\n",
        "skip = 1\n",
        "agent = Agent(state_size = window_size,\n",
        "             window_size = window_size,\n",
        "             trend = close,\n",
        "             skip = skip)\n",
        "agent.train(iterations = 200, checkpoint = 5, initial_money = initial_money)"
      ],
      "execution_count": 6,
      "outputs": [
        {
          "output_type": "stream",
          "text": [
            "/usr/local/lib/python3.7/dist-packages/tensorflow/python/keras/legacy_tf_layers/core.py:171: UserWarning: `tf.layers.dense` is deprecated and will be removed in a future version. Please use `tf.keras.layers.Dense` instead.\n",
            "  warnings.warn('`tf.layers.dense` is deprecated and '\n",
            "/usr/local/lib/python3.7/dist-packages/tensorflow/python/keras/engine/base_layer_v1.py:1719: UserWarning: `layer.apply` is deprecated and will be removed in a future version. Please use `layer.__call__` method instead.\n",
            "  warnings.warn('`layer.apply` is deprecated and '\n",
            "/usr/local/lib/python3.7/dist-packages/ipykernel_launcher.py:107: VisibleDeprecationWarning: Creating an ndarray from ragged nested sequences (which is a list-or-tuple of lists-or-tuples-or ndarrays with different lengths or shapes) is deprecated. If you meant to do this, you must specify 'dtype=object' when creating the ndarray\n"
          ],
          "name": "stderr"
        },
        {
          "output_type": "stream",
          "text": [
            "epoch: 5, total rewards: -11.609987.3, cost: -19380.375000, total money: 9988.390013\n",
            "epoch: 10, total rewards: -11.847475.3, cost: -20671.763672, total money: 9988.152525\n",
            "epoch: 15, total rewards: -16.077479.3, cost: -21891.503906, total money: 9983.922521\n",
            "epoch: 20, total rewards: -5.944980.3, cost: -23001.777344, total money: 9994.055020\n",
            "epoch: 25, total rewards: 3.657513.3, cost: -23960.378906, total money: 10003.657513\n",
            "epoch: 30, total rewards: -1.854986.3, cost: -24700.257812, total money: 9998.145014\n",
            "epoch: 35, total rewards: 1.180017.3, cost: -25258.412109, total money: 10001.180017\n",
            "epoch: 40, total rewards: -16.120018.3, cost: -25791.234375, total money: 9983.879982\n",
            "epoch: 45, total rewards: 27.984979.3, cost: -26162.019531, total money: 10027.984979\n",
            "epoch: 50, total rewards: 100.534957.3, cost: -26506.720703, total money: 10100.534957\n",
            "epoch: 55, total rewards: 57.077467.3, cost: -26948.230469, total money: 10057.077467\n",
            "epoch: 60, total rewards: 117.634948.3, cost: -27276.103516, total money: 10117.634948\n",
            "epoch: 65, total rewards: 95.342474.3, cost: -27856.818359, total money: 10095.342474\n",
            "epoch: 70, total rewards: 170.509996.3, cost: -28293.644531, total money: 10170.509996\n",
            "epoch: 75, total rewards: 323.639994.3, cost: -28490.636719, total money: 10323.639994\n",
            "epoch: 80, total rewards: 512.867503.3, cost: -27385.181641, total money: 10512.867503\n",
            "epoch: 85, total rewards: 328.222514.3, cost: -29112.767578, total money: 10328.222514\n",
            "epoch: 90, total rewards: 454.740004.3, cost: -27705.513672, total money: 9971.210005\n",
            "epoch: 95, total rewards: 343.440038.3, cost: -28591.777344, total money: 10101.390034\n",
            "epoch: 100, total rewards: 269.217507.3, cost: -29564.605469, total money: 10269.217507\n",
            "epoch: 105, total rewards: 271.657495.3, cost: -29611.666016, total money: 10271.657495\n",
            "epoch: 110, total rewards: 362.124972.3, cost: -29879.550781, total money: 10362.124972\n",
            "epoch: 115, total rewards: 408.887503.3, cost: -27576.412109, total money: 9320.877500\n",
            "epoch: 120, total rewards: 392.975003.3, cost: -29865.322266, total money: 10392.975003\n",
            "epoch: 125, total rewards: 266.197439.3, cost: -30296.828125, total money: 10266.197439\n",
            "epoch: 130, total rewards: 281.724970.3, cost: -29973.232422, total money: 10281.724970\n",
            "epoch: 135, total rewards: 481.522462.3, cost: -28396.433594, total money: 10002.942460\n",
            "epoch: 140, total rewards: 395.457482.3, cost: -28449.623047, total money: 9675.887482\n",
            "epoch: 145, total rewards: 401.279982.3, cost: -31538.294922, total money: 10401.279982\n",
            "epoch: 150, total rewards: 545.387448.3, cost: -31079.710938, total money: 10545.387448\n",
            "epoch: 155, total rewards: 278.847502.3, cost: -31332.021484, total money: 10278.847502\n",
            "epoch: 160, total rewards: 480.129965.3, cost: -30314.935547, total money: 10480.129965\n",
            "epoch: 165, total rewards: 383.484987.3, cost: -28406.359375, total money: 9046.434984\n",
            "epoch: 170, total rewards: 80.254992.3, cost: -31264.884766, total money: 10080.254992\n",
            "epoch: 175, total rewards: 301.327473.3, cost: -31162.724609, total money: 10301.327473\n",
            "epoch: 180, total rewards: 452.215005.3, cost: -28603.298828, total money: 8925.675005\n",
            "epoch: 185, total rewards: 288.239948.3, cost: -30473.984375, total money: 9802.709949\n",
            "epoch: 190, total rewards: 541.674988.3, cost: -29177.824219, total money: 9083.264992\n",
            "epoch: 195, total rewards: 517.309946.3, cost: -28922.337891, total money: 9898.769945\n",
            "epoch: 200, total rewards: 598.197479.3, cost: -27648.648438, total money: 8017.787476\n"
          ],
          "name": "stdout"
        }
      ]
    },
    {
      "cell_type": "code",
      "metadata": {
        "colab": {
          "base_uri": "https://localhost:8080/"
        },
        "id": "GfFO1JAvjxNv",
        "outputId": "45349062-05b0-47bf-8af5-c1b9638cd078"
      },
      "source": [
        "states_buy, states_sell, total_gains, invest = agent.buy(initial_money = initial_money)"
      ],
      "execution_count": 7,
      "outputs": [
        {
          "output_type": "stream",
          "text": [
            "day 0: buy 1 unit at price 68.757500, total balance 9931.242500\n",
            "day 1: buy 1 unit at price 70.742500, total balance 9860.500000\n",
            "day 5, sell 1 unit at price 73.449997, investment 6.824706 %, total balance 9933.949997,\n",
            "day 6, sell 1 unit at price 72.267502, investment 2.155708 %, total balance 10006.217499,\n",
            "day 7: buy 1 unit at price 73.290001, total balance 9932.927498\n",
            "day 8: buy 1 unit at price 74.389999, total balance 9858.537499\n",
            "day 10, sell 1 unit at price 75.934998, investment 3.608947 %, total balance 9934.472497,\n",
            "day 13: buy 1 unit at price 77.852501, total balance 9856.619996\n",
            "day 14: buy 1 unit at price 76.912498, total balance 9779.707498\n",
            "day 15: buy 1 unit at price 77.385002, total balance 9702.322496\n",
            "day 18: buy 1 unit at price 78.285004, total balance 9624.037492\n",
            "day 19: buy 1 unit at price 79.807503, total balance 9544.229989\n",
            "day 20, sell 1 unit at price 79.212502, investment 6.482730 %, total balance 9623.442491,\n",
            "day 21: buy 1 unit at price 79.722504, total balance 9543.719987\n",
            "day 22, sell 1 unit at price 79.182503, investment 1.708361 %, total balance 9622.902490,\n",
            "day 24, sell 1 unit at price 79.562500, investment 3.445476 %, total balance 9702.464990,\n",
            "day 25, sell 1 unit at price 79.485001, investment 2.713703 %, total balance 9781.949991,\n",
            "day 26: buy 1 unit at price 80.462502, total balance 9701.487489\n",
            "day 28, sell 1 unit at price 81.279999, investment 3.825758 %, total balance 9782.767488,\n",
            "day 29, sell 1 unit at price 80.580002, investment 0.967953 %, total balance 9863.347490,\n",
            "day 30: buy 1 unit at price 82.875000, total balance 9780.472490\n",
            "day 31: buy 1 unit at price 83.364998, total balance 9697.107492\n",
            "day 33: buy 1 unit at price 88.209999, total balance 9608.897493\n",
            "day 34: buy 1 unit at price 83.974998, total balance 9524.922495\n",
            "day 35, sell 1 unit at price 84.699997, investment 6.243523 %, total balance 9609.622492,\n",
            "day 37: buy 1 unit at price 88.019997, total balance 9521.602495\n",
            "day 38: buy 1 unit at price 87.897499, total balance 9433.704996\n",
            "day 44, sell 1 unit at price 91.209999, investment 13.357150 %, total balance 9524.914995,\n",
            "day 46: buy 1 unit at price 90.445000, total balance 9434.469995\n",
            "day 47: buy 1 unit at price 91.199997, total balance 9343.269998\n",
            "day 48, sell 1 unit at price 91.027496, investment 9.837099 %, total balance 9434.297494,\n",
            "day 49: buy 1 unit at price 91.027496, total balance 9343.269998\n",
            "day 54: buy 1 unit at price 95.919998, total balance 9247.350000\n",
            "day 55: buy 1 unit at price 95.477501, total balance 9151.872499\n",
            "day 56: buy 1 unit at price 97.057503, total balance 9054.814996\n",
            "day 57: buy 1 unit at price 97.724998, total balance 8957.089998\n",
            "day 58: buy 1 unit at price 96.522499, total balance 8860.567499\n",
            "day 59: buy 1 unit at price 96.327499, total balance 8764.240000\n",
            "day 60, sell 1 unit at price 98.357498, investment 17.984166 %, total balance 8862.597498,\n",
            "day 61, sell 1 unit at price 97.000000, investment 9.964858 %, total balance 8959.597498,\n",
            "day 62: buy 1 unit at price 97.272499, total balance 8862.324999\n",
            "day 65, sell 1 unit at price 94.809998, investment 12.902650 %, total balance 8957.134997,\n",
            "day 68, sell 1 unit at price 96.190002, investment 9.281987 %, total balance 9053.324999,\n",
            "day 70, sell 1 unit at price 108.937500, investment 23.936973 %, total balance 9162.262499,\n",
            "day 74, sell 1 unit at price 111.112503, investment 22.850907 %, total balance 9273.375002,\n",
            "day 77, sell 1 unit at price 113.010002, investment 23.914480 %, total balance 9386.385004,\n",
            "day 78, sell 1 unit at price 115.010002, investment 26.346442 %, total balance 9501.395006,\n",
            "day 79, sell 1 unit at price 114.907501, investment 19.795145 %, total balance 9616.302507,\n",
            "day 81: buy 1 unit at price 115.562500, total balance 9500.740007\n",
            "day 83, sell 1 unit at price 118.275002, investment 23.877354 %, total balance 9619.015009,\n",
            "day 84: buy 1 unit at price 124.370003, total balance 9494.645006\n",
            "day 85, sell 1 unit at price 125.857498, investment 29.673126 %, total balance 9620.502504,\n",
            "day 86, sell 1 unit at price 124.824997, investment 27.730877 %, total balance 9745.327501,\n",
            "day 88: buy 1 unit at price 125.010002, total balance 9620.317499\n",
            "day 93: buy 1 unit at price 120.879997, total balance 9499.437502\n",
            "day 95, sell 1 unit at price 112.820000, investment 16.884665 %, total balance 9612.257502,\n",
            "day 96: buy 1 unit at price 117.320000, total balance 9494.937502\n",
            "day 97, sell 1 unit at price 113.489998, investment 17.816822 %, total balance 9608.427500,\n",
            "day 98: buy 1 unit at price 112.000000, total balance 9496.427500\n",
            "day 99, sell 1 unit at price 115.360001, investment 18.594672 %, total balance 9611.787501,\n",
            "day 100: buy 1 unit at price 115.540001, total balance 9496.247500\n",
            "day 101: buy 1 unit at price 112.129997, total balance 9384.117503\n",
            "day 102, sell 1 unit at price 110.339996, investment -4.519203 %, total balance 9494.457499,\n",
            "day 103, sell 1 unit at price 106.839996, investment -14.095044 %, total balance 9601.297495,\n",
            "day 104, sell 1 unit at price 110.080002, investment -11.943044 %, total balance 9711.377497,\n",
            "day 105: buy 1 unit at price 111.809998, total balance 9599.567499\n",
            "day 107, sell 1 unit at price 108.220001, investment -10.473194 %, total balance 9707.787500,\n",
            "day 108, sell 1 unit at price 112.279999, investment -4.295944 %, total balance 9820.067499,\n",
            "day 109: buy 1 unit at price 114.959999, total balance 9705.107500\n",
            "day 110: buy 1 unit at price 114.089996, total balance 9591.017504\n",
            "day 112, sell 1 unit at price 116.790001, investment 4.276787 %, total balance 9707.807505,\n",
            "day 114, sell 1 unit at price 116.500000, investment 0.830880 %, total balance 9824.307505,\n",
            "day 116, sell 1 unit at price 115.080002, investment 2.630879 %, total balance 9939.387507,\n",
            "day 117, sell 1 unit at price 114.970001, investment 2.826226 %, total balance 10054.357508,\n",
            "day 120: buy 1 unit at price 121.099998, total balance 9933.257510\n",
            "day 121, sell 1 unit at price 121.190002, investment 5.419279 %, total balance 10054.447512,\n",
            "day 124, sell 1 unit at price 115.980003, investment 1.656593 %, total balance 10170.427515,\n",
            "day 125: buy 1 unit at price 117.510002, total balance 10052.917513\n",
            "day 126: buy 1 unit at price 116.870003, total balance 9936.047510\n",
            "day 127: buy 1 unit at price 115.750000, total balance 9820.297510\n",
            "day 129: buy 1 unit at price 115.050003, total balance 9705.247507\n",
            "day 130, sell 1 unit at price 116.599998, investment -3.715937 %, total balance 9821.847505,\n",
            "day 131, sell 1 unit at price 111.199997, investment -5.369760 %, total balance 9933.047502,\n",
            "day 132: buy 1 unit at price 115.320000, total balance 9817.727502\n",
            "day 135: buy 1 unit at price 110.440002, total balance 9707.287500\n",
            "day 137: buy 1 unit at price 119.029999, total balance 9588.257501\n",
            "day 138, sell 1 unit at price 118.690002, investment 1.557285 %, total balance 9706.947503,\n",
            "day 142: buy 1 unit at price 119.209999, total balance 9587.737504\n",
            "day 144: buy 1 unit at price 120.300003, total balance 9467.437501\n",
            "day 145, sell 1 unit at price 119.389999, investment 3.144708 %, total balance 9586.827500,\n",
            "day 147, sell 1 unit at price 118.639999, investment 3.120379 %, total balance 9705.467499,\n",
            "day 148, sell 1 unit at price 117.339996, investment 1.751644 %, total balance 9822.807495,\n",
            "day 153: buy 1 unit at price 119.050003, total balance 9703.757492\n",
            "day 154: buy 1 unit at price 122.720001, total balance 9581.037491\n",
            "day 155: buy 1 unit at price 123.080002, total balance 9457.957489\n",
            "day 156: buy 1 unit at price 122.940002, total balance 9335.017487\n",
            "day 159, sell 1 unit at price 124.379997, investment 12.622234 %, total balance 9459.397484,\n",
            "day 163: buy 1 unit at price 121.779999, total balance 9337.617485\n",
            "day 164: buy 1 unit at price 127.879997, total balance 9209.737488\n",
            "day 166, sell 1 unit at price 128.699997, investment 8.124001 %, total balance 9338.437485,\n",
            "day 167: buy 1 unit at price 126.660004, total balance 9211.777481\n",
            "day 168, sell 1 unit at price 128.229996, investment 7.566477 %, total balance 9340.007477,\n",
            "day 169: buy 1 unit at price 131.880005, total balance 9208.127472\n",
            "day 171, sell 1 unit at price 131.970001, investment 9.700746 %, total balance 9340.097473,\n",
            "day 174, sell 1 unit at price 133.720001, investment 12.322552 %, total balance 9473.817474,\n",
            "day 175, sell 1 unit at price 132.690002, investment 8.124186 %, total balance 9606.507476,\n",
            "day 176: buy 1 unit at price 129.410004, total balance 9477.097472\n",
            "day 178: buy 1 unit at price 126.599998, total balance 9350.497474\n",
            "day 179, sell 1 unit at price 130.919998, investment 6.369837 %, total balance 9481.417472,\n",
            "day 180, sell 1 unit at price 132.050003, investment 7.410119 %, total balance 9613.467475,\n",
            "day 181, sell 1 unit at price 128.979996, investment 5.912298 %, total balance 9742.447471,\n",
            "day 182, sell 1 unit at price 128.800003, investment 0.719429 %, total balance 9871.247474,\n",
            "day 183: buy 1 unit at price 130.889999, total balance 9740.357475\n",
            "day 188: buy 1 unit at price 136.869995, total balance 9603.487480\n",
            "day 190: buy 1 unit at price 142.919998, total balance 9460.567482\n",
            "day 191, sell 1 unit at price 143.160004, investment 13.027001 %, total balance 9603.727486,\n",
            "day 192: buy 1 unit at price 142.059998, total balance 9461.667488\n",
            "day 193: buy 1 unit at price 137.089996, total balance 9324.577492\n",
            "day 194, sell 1 unit at price 131.960007, investment 0.060663 %, total balance 9456.537499,\n",
            "day 200: buy 1 unit at price 136.910004, total balance 9319.627495\n",
            "day 201, sell 1 unit at price 136.009995, investment 5.100062 %, total balance 9455.637490,\n",
            "day 202: buy 1 unit at price 135.389999, total balance 9320.247491\n",
            "day 203, sell 1 unit at price 135.130005, investment 6.737762 %, total balance 9455.377496,\n",
            "day 205: buy 1 unit at price 133.190002, total balance 9322.187494\n",
            "day 207, sell 1 unit at price 129.710007, investment -0.901514 %, total balance 9451.897501,\n",
            "day 209, sell 1 unit at price 126.000000, investment -7.941839 %, total balance 9577.897501,\n",
            "day 210: buy 1 unit at price 125.860001, total balance 9452.037500\n",
            "day 211: buy 1 unit at price 125.349998, total balance 9326.687502\n",
            "day 212, sell 1 unit at price 120.989998, investment -15.344249 %, total balance 9447.677500,\n",
            "day 213: buy 1 unit at price 121.260002, total balance 9326.417498\n",
            "day 214, sell 1 unit at price 127.790001, investment -10.045049 %, total balance 9454.207499,\n",
            "day 215, sell 1 unit at price 125.120003, investment -8.731485 %, total balance 9579.327502,\n",
            "day 216, sell 1 unit at price 122.059998, investment -10.846546 %, total balance 9701.387500,\n",
            "day 217, sell 1 unit at price 120.129997, investment -11.271144 %, total balance 9821.517497,\n",
            "day 218: buy 1 unit at price 121.419998, total balance 9700.097499\n",
            "day 219: buy 1 unit at price 116.360001, total balance 9583.737498\n",
            "day 221: buy 1 unit at price 119.980003, total balance 9463.757495\n",
            "day 222, sell 1 unit at price 121.959999, investment -8.431566 %, total balance 9585.717494,\n",
            "day 227, sell 1 unit at price 120.529999, investment -4.234866 %, total balance 9706.247493,\n",
            "day 229, sell 1 unit at price 123.389999, investment -1.563621 %, total balance 9829.637492,\n",
            "day 230, sell 1 unit at price 122.540001, investment 1.055582 %, total balance 9952.177493,\n",
            "day 231: buy 1 unit at price 120.089996, total balance 9832.087497\n",
            "day 232, sell 1 unit at price 120.589996, investment -0.683579 %, total balance 9952.677493,\n",
            "day 234, sell 1 unit at price 121.389999, investment 4.322790 %, total balance 10074.067492,\n",
            "day 236: buy 1 unit at price 122.150002, total balance 9951.917490\n",
            "day 239, sell 1 unit at price 126.209999, investment 5.192529 %, total balance 10078.127489,\n",
            "day 244, sell 1 unit at price 134.429993, investment 11.941042 %, total balance 10212.557482,\n",
            "day 245, sell 1 unit at price 132.029999, investment 8.088413 %, total balance 10344.587481,\n"
          ],
          "name": "stdout"
        }
      ]
    },
    {
      "cell_type": "code",
      "metadata": {
        "colab": {
          "base_uri": "https://localhost:8080/",
          "height": 338
        },
        "id": "kt4iXY0okCdK",
        "outputId": "cae9f86f-1f90-4fe0-d97d-7224f51495d7"
      },
      "source": [
        "fig = plt.figure(figsize = (15,5))\n",
        "plt.plot(close, color='r', lw=2.)\n",
        "plt.plot(close, '^', markersize=10, color='m', label = 'buying signal', markevery = states_buy)\n",
        "plt.plot(close, 'v', markersize=10, color='k', label = 'selling signal', markevery = states_sell)\n",
        "plt.title('total gains %f, total investment %f%%'%(total_gains, invest))\n",
        "plt.legend()\n",
        "plt.show()"
      ],
      "execution_count": 8,
      "outputs": [
        {
          "output_type": "display_data",
          "data": {
            "image/png": "[encoded data removed]",
            "text/plain": [
              "<Figure size 1080x360 with 1 Axes>"
            ]
          },
          "metadata": {
            "tags": []
          }
        }
      ]
    },
    {
      "cell_type": "code",
      "metadata": {
        "id": "BVF_prrPkGA2"
      },
      "source": [
        ""
      ],
      "execution_count": 8,
      "outputs": []
    }
  ]
}